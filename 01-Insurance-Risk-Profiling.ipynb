{
 "cells": [
  {
   "cell_type": "markdown",
   "metadata": {
    "application/vnd.databricks.v1+cell": {
     "cellMetadata": {
      "byteLimit": 2048000,
      "rowLimit": 10000
     },
     "inputWidgets": {},
     "nuid": "fb113a39-506f-48a3-9df3-2f2c6b8a183b",
     "showTitle": false,
     "tableResultSettingsMap": {},
     "title": ""
    }
   },
   "source": [
    "# Insurance Risk Profiling - Customer Analytics\n",
    "\n",
    "**Objective**: Create customer risk profiles and segmentation for SecureLife Insurance\n",
    "\n",
    "**Business Goals:**\n",
    "- Assess customer risk levels for pricing optimization\n",
    "- Segment customers for targeted marketing and retention\n",
    "- Identify cross-selling opportunities\n",
    "- Analyze temporal patterns in claims and payments\n",
    "\n",
    "**Data Flow**: Loads from Notebook 0 foundation tables → Creates risk analysis tables for Notebook 2"
   ]
  },
  {
   "cell_type": "markdown",
   "metadata": {
    "application/vnd.databricks.v1+cell": {
     "cellMetadata": {
      "byteLimit": 2048000,
      "rowLimit": 10000
     },
     "inputWidgets": {},
     "nuid": "24b9c5f5-1ce1-4504-8693-7764c38f3163",
     "showTitle": false,
     "tableResultSettingsMap": {},
     "title": ""
    }
   },
   "source": [
    "## Setup and Database Configuration"
   ]
  },
  {
   "cell_type": "code",
   "execution_count": 0,
   "metadata": {
    "application/vnd.databricks.v1+cell": {
     "cellMetadata": {
      "byteLimit": 2048000,
      "rowLimit": 10000
     },
     "inputWidgets": {},
     "nuid": "38cdb260-bf1f-4491-81c2-adde81d96327",
     "showTitle": false,
     "tableResultSettingsMap": {},
     "title": ""
    }
   },
   "outputs": [
    {
     "output_type": "stream",
     "name": "stdout",
     "output_type": "stream",
     "text": [
      "✅ Spark session initialized\n\uD83D\uDCCA Using database: insurance_analytics\n"
     ]
    }
   ],
   "source": [
    "import pandas as pd\n",
    "import numpy as np\n",
    "from pyspark.sql import SparkSession\n",
    "from pyspark.sql.functions import *\n",
    "from pyspark.sql.types import *\n",
    "from pyspark.sql.window import Window\n",
    "import warnings\n",
    "warnings.filterwarnings('ignore')\n",
    "\n",
    "# Initialize Spark session\n",
    "spark = SparkSession.builder.appName(\"InsuranceRiskProfiling\").getOrCreate()\n",
    "print(\"✅ Spark session initialized\")\n",
    "\n",
    "# Database configuration\n",
    "DATABASE_NAME = \"insurance_analytics\"\n",
    "print(f\"\uD83D\uDCCA Using database: {DATABASE_NAME}\")"
   ]
  },
  {
   "cell_type": "markdown",
   "metadata": {
    "application/vnd.databricks.v1+cell": {
     "cellMetadata": {
      "byteLimit": 2048000,
      "rowLimit": 10000
     },
     "inputWidgets": {},
     "nuid": "e3298531-0d1c-42c7-847a-755f1c5e2a89",
     "showTitle": false,
     "tableResultSettingsMap": {},
     "title": ""
    }
   },
   "source": [
    "## Load Data from Foundation Tables (Notebook 0 Outputs)"
   ]
  },
  {
   "cell_type": "code",
   "execution_count": 0,
   "metadata": {
    "application/vnd.databricks.v1+cell": {
     "cellMetadata": {
      "byteLimit": 2048000,
      "rowLimit": 10000
     },
     "inputWidgets": {},
     "nuid": "d8ec2e03-d8f7-4732-b910-40093a9a00aa",
     "showTitle": false,
     "tableResultSettingsMap": {},
     "title": ""
    }
   },
   "outputs": [
    {
     "output_type": "stream",
     "name": "stdout",
     "output_type": "stream",
     "text": [
      "✅ Foundation tables loaded successfully\nCustomers: 15,000\nPolicies: 75,000\nClaims: 10,643\nPayments: 178,013\nInteractions: 30,000\n✅ Foundation tables loaded successfully\nCustomers: 15,000\nPolicies: 75,000\nClaims: 10,643\nPayments: 178,013\nInteractions: 30,000\n\uD83D\uDCCB Loading foundation tables from Notebook 0...\n"
     ]
    }
   ],
   "source": [
    "# BUSINESS CONTEXT: Data quality and accessibility are fundamental to analytics success\n",
    "# Using persistent tables ensures reliability and consistency across the pipeline\n",
    "\n",
    "# TODO: Load foundation tables created by Notebook 0\n",
    "# \n",
    "# Step 1: Load core business entity tables\n",
    "# TODO: Load customers_df from \"insurance_analytics.customers\" table using spark.table()\n",
    "customers_df = spark.table(\"insurance_analytics.customers\")\n",
    "# TODO: Load policies_df from \"insurance_analytics.policies\" table using spark.table()\n",
    "policies_df = spark.table(\"insurance_analytics.policies\")\n",
    "# TODO: Load claims_df from \"insurance_analytics.claims\" table using spark.table()\n",
    "claims_df = spark.table(\"insurance_analytics.claims\")\n",
    "# TODO: Load payments_df from \"insurance_analytics.payments\" table using spark.table()\n",
    "payments_df = spark.table(\"insurance_analytics.payments\")\n",
    "# TODO: Load interactions_df from \"insurance_analytics.interactions\" table using spark.table()\n",
    "interactions_df = spark.table(\"insurance_analytics.interactions\")\n",
    "# \n",
    "# Step 2: Validate data loading\n",
    "# TODO: Print \"✅ Foundation tables loaded successfully\"\n",
    "print(\"✅ Foundation tables loaded successfully\")\n",
    "# TODO: Print row counts for each dataset using .count() method\n",
    "print(f\"Customers: {customers_df.count():,}\")\n",
    "print(f\"Policies: {policies_df.count():,}\")\n",
    "print(f\"Claims: {claims_df.count():,}\")\n",
    "print(f\"Payments: {payments_df.count():,}\")\n",
    "# TODO: Format counts with comma separators (e.g., f\"{customers_df.count():,}\")\n",
    "print(f\"Interactions: {interactions_df.count():,}\")\n",
    "# \n",
    "# Step 3: Handle potential errors\n",
    "# TODO: Wrap loading code in try/except block\n",
    "try:\n",
    "    customers_df = spark.table(\"insurance_analytics.customers\")\n",
    "    policies_df = spark.table(\"insurance_analytics.policies\")\n",
    "    claims_df = spark.table(\"insurance_analytics.claims\")\n",
    "    payments_df = spark.table(\"insurance_analytics.payments\")\n",
    "    interactions_df = spark.table(\"insurance_analytics.interactions\")\n",
    "    print(\"✅ Foundation tables loaded successfully\")\n",
    "    print(f\"Customers: {customers_df.count():,}\")\n",
    "    print(f\"Policies: {policies_df.count():,}\")\n",
    "    print(f\"Claims: {claims_df.count():,}\")\n",
    "    print(f\"Payments: {payments_df.count():,}\")\n",
    "    print(f\"Interactions: {interactions_df.count():,}\")\n",
    "except Exception as e:\n",
    "    print(f\"❌ Error loading foundation tables: {e}\")\n",
    "# TODO: Print error message if loading fails: \"❌ Error loading foundation tables\"\n",
    "except Exception as e:\n",
    "    print(f\"❌ Error loading foundation tables: {e}\")\n",
    "# TODO: Print reminder: \"\uD83D\uDCA1 Ensure Notebook 0 has been executed successfully\"\n",
    "    print(\"\uD83D\uDCA1 Ensure Notebook 0 has been executed successfully\")\n",
    "# TODO: Use \"raise\" to stop execution if tables cannot be loaded\n",
    "    raise e\n",
    "# EXPECTED OUTPUT: All 5 datasets loaded with row counts displayed\n",
    "# Target: 15K customers, 75K policies, 10,6K claims, 178K payments, 30K interactions\n",
    "\n",
    "print(\"\uD83D\uDCCB Loading foundation tables from Notebook 0...\")\n",
    "\n",
    "# TODO: Implement data loading logic here"
   ]
  },
  {
   "cell_type": "markdown",
   "metadata": {
    "application/vnd.databricks.v1+cell": {
     "cellMetadata": {
      "byteLimit": 2048000,
      "rowLimit": 10000
     },
     "inputWidgets": {},
     "nuid": "31a83127-e58e-4df7-95d9-cfff164de664",
     "showTitle": false,
     "tableResultSettingsMap": {},
     "title": ""
    }
   },
   "source": [
    "## 1. Customer Risk Assessment"
   ]
  },
  {
   "cell_type": "markdown",
   "metadata": {
    "application/vnd.databricks.v1+cell": {
     "cellMetadata": {
      "byteLimit": 2048000,
      "rowLimit": 10000
     },
     "inputWidgets": {},
     "nuid": "d069cdd6-8b49-45ca-b424-b0715c74b90a",
     "showTitle": false,
     "tableResultSettingsMap": {},
     "title": ""
    }
   },
   "source": [
    "### 1.1 Claims Frequency and Severity Analysis"
   ]
  },
  {
   "cell_type": "code",
   "execution_count": 0,
   "metadata": {
    "application/vnd.databricks.v1+cell": {
     "cellMetadata": {
      "byteLimit": 2048000,
      "rowLimit": 10000
     },
     "inputWidgets": {},
     "nuid": "38e8d8fc-441d-456a-a4b0-eb923ad178f0",
     "showTitle": false,
     "tableResultSettingsMap": {},
     "title": ""
    }
   },
   "outputs": [
    {
     "output_type": "stream",
     "name": "stdout",
     "output_type": "stream",
     "text": [
      "\uD83D\uDCCA Claims Analysis Summary:\n+-------+-----------+------------------+------------------+------------------+------------------+--------------------+\n|summary|customer_id|      total_claims|total_claim_amount|  avg_claim_amount|  max_claim_amount|policies_with_claims|\n+-------+-----------+------------------+------------------+------------------+------------------+--------------------+\n|  count|       7016|              7016|              7016|              7016|              7016|                7016|\n|   mean|       NULL|1.5169612314709235|178509.23731470856|115572.40478289324|147826.10912770827|  1.3691562143671607|\n| stddev|       NULL|0.8273635973570702|314826.75338704203|196891.82583189572| 246426.0881660182|  0.6541588435213876|\n|    min| CUST000004|                 1|            528.25|            528.25|            528.25|                   1|\n|    max| CUST014998|                10|3970436.4699999997|        2418879.07|         2902135.6|                   6|\n+-------+-----------+------------------+------------------+------------------+------------------+--------------------+\n\n"
     ]
    },
    {
     "output_type": "display_data",
     "data": {
      "text/html": [
       "<style scoped>\n",
       "  .table-result-container {\n",
       "    max-height: 300px;\n",
       "    overflow: auto;\n",
       "  }\n",
       "  table, th, td {\n",
       "    border: 1px solid black;\n",
       "    border-collapse: collapse;\n",
       "  }\n",
       "  th, td {\n",
       "    padding: 5px;\n",
       "  }\n",
       "  th {\n",
       "    text-align: left;\n",
       "  }\n",
       "</style><div class='table-result-container'><table class='table-result'><thead style='background-color: white'><tr><th>summary</th><th>customer_id</th><th>total_claims</th><th>total_claim_amount</th><th>avg_claim_amount</th><th>max_claim_amount</th><th>policies_with_claims</th></tr></thead><tbody><tr><td>count</td><td>7016</td><td>7016</td><td>7016</td><td>7016</td><td>7016</td><td>7016</td></tr><tr><td>mean</td><td>null</td><td>1.5169612314709235</td><td>178509.23731470856</td><td>115572.40478289324</td><td>147826.10912770827</td><td>1.3691562143671607</td></tr><tr><td>stddev</td><td>null</td><td>0.8273635973570702</td><td>314826.75338704203</td><td>196891.82583189572</td><td>246426.0881660182</td><td>0.6541588435213876</td></tr><tr><td>min</td><td>CUST000004</td><td>1</td><td>528.25</td><td>528.25</td><td>528.25</td><td>1</td></tr><tr><td>max</td><td>CUST014998</td><td>10</td><td>3970436.4699999997</td><td>2418879.07</td><td>2902135.6</td><td>6</td></tr></tbody></table></div>"
      ]
     },
     "metadata": {
      "application/vnd.databricks.v1+output": {
       "addedWidgets": {},
       "aggData": [],
       "aggError": "",
       "aggOverflow": false,
       "aggSchema": [],
       "aggSeriesLimitReached": false,
       "aggType": "",
       "arguments": {},
       "columnCustomDisplayInfos": {},
       "data": [
        [
         "count",
         "7016",
         "7016",
         "7016",
         "7016",
         "7016",
         "7016"
        ],
        [
         "mean",
         null,
         "1.5169612314709235",
         "178509.23731470856",
         "115572.40478289324",
         "147826.10912770827",
         "1.3691562143671607"
        ],
        [
         "stddev",
         null,
         "0.8273635973570702",
         "314826.75338704203",
         "196891.82583189572",
         "246426.0881660182",
         "0.6541588435213876"
        ],
        [
         "min",
         "CUST000004",
         "1",
         "528.25",
         "528.25",
         "528.25",
         "1"
        ],
        [
         "max",
         "CUST014998",
         "10",
         "3970436.4699999997",
         "2418879.07",
         "2902135.6",
         "6"
        ]
       ],
       "datasetInfos": [],
       "dbfsResultPath": null,
       "isJsonSchema": true,
       "metadata": {},
       "overflow": false,
       "plotOptions": {
        "customPlotOptions": {},
        "displayType": "table",
        "pivotAggregation": null,
        "pivotColumns": null,
        "xColumns": null,
        "yColumns": null
       },
       "removedWidgets": [],
       "schema": [
        {
         "metadata": "{}",
         "name": "summary",
         "type": "\"string\""
        },
        {
         "metadata": "{}",
         "name": "customer_id",
         "type": "\"string\""
        },
        {
         "metadata": "{}",
         "name": "total_claims",
         "type": "\"string\""
        },
        {
         "metadata": "{}",
         "name": "total_claim_amount",
         "type": "\"string\""
        },
        {
         "metadata": "{}",
         "name": "avg_claim_amount",
         "type": "\"string\""
        },
        {
         "metadata": "{}",
         "name": "max_claim_amount",
         "type": "\"string\""
        },
        {
         "metadata": "{}",
         "name": "policies_with_claims",
         "type": "\"string\""
        }
       ],
       "type": "table"
      }
     },
     "output_type": "display_data"
    },
    {
     "output_type": "stream",
     "name": "stdout",
     "output_type": "stream",
     "text": [
      "✅ Customer risk base created: 15,000 customers\n\uD83D\uDD0D Analyzing claims patterns...\n✅ Claims analysis completed\n"
     ]
    }
   ],
   "source": [
    "# BUSINESS CONTEXT: Claims history is the strongest predictor of future risk\n",
    "# Insurance companies use claims frequency and severity to set premium rates\n",
    "\n",
    "# TODO: Analyze claims patterns per customer\n",
    "# \n",
    "# Step 1: Calculate claims metrics per customer\n",
    "# TODO: Group claims_df by \"customer_id\" \n",
    "# TODO: Calculate total_claims using count(\"claim_id\")\n",
    "# TODO: Calculate total_claim_amount using sum(\"claim_amount\")\n",
    "# TODO: Calculate avg_claim_amount using avg(\"claim_amount\")\n",
    "# TODO: Calculate max_claim_amount using max(\"claim_amount\")\n",
    "# TODO: Calculate policies_with_claims using countDistinct(\"policy_id\")\n",
    "# TODO: Store result as claims_per_customer\n",
    "claims_per_customer = (\n",
    "    claims_df.groupBy(\"customer_id\")\n",
    "    .agg(\n",
    "        count(\"claim_id\").alias(\"total_claims\"),\n",
    "        sum(\"claim_amount\").alias(\"total_claim_amount\"),\n",
    "        avg(\"claim_amount\").alias(\"avg_claim_amount\"),\n",
    "        max(\"claim_amount\").alias(\"max_claim_amount\"),\n",
    "        countDistinct(\"policy_id\").alias(\"policies_with_claims\")\n",
    "    )\n",
    ")\n",
    "\n",
    "# \n",
    "# Step 2: Display claims analysis summary\n",
    "# TODO: Print \"\uD83D\uDCCA Claims Analysis Summary:\"\n",
    "print(\"\uD83D\uDCCA Claims Analysis Summary:\")\n",
    "# TODO: Show descriptive statistics using claims_per_customer.describe().show()\n",
    "claims_per_customer.describe().show()\n",
    "display(claims_per_customer.describe())\n",
    "\n",
    "# \n",
    "# Step 3: Join claims data with customer profiles\n",
    "# TODO: Join customers_df with claims_per_customer on \"customer_id\" using left join\n",
    "# TODO: Store result as customer_risk_df\n",
    "customer_risk_df = customers_df.join(claims_per_customer, on=\"customer_id\", how=\"left\")\n",
    "\n",
    "# \n",
    "# Step 4: Handle customers with no claims\n",
    "# TODO: Use fillna() to set null values to 0 for: total_claims, total_claim_amount, avg_claim_amount, max_claim_amount, policies_with_claims\n",
    "customer_risk_df = customer_risk_df.fillna({\n",
    "    \"total_claims\": 0,\n",
    "    \"total_claim_amount\": 0,\n",
    "    \"avg_claim_amount\": 0,\n",
    "    \"max_claim_amount\": 0,\n",
    "    \"policies_with_claims\": 0\n",
    "})\n",
    "# TODO: Print row count: f\"✅ Customer risk base created: {customer_risk_df.count():,} customers\"\n",
    "print(f\"✅ Customer risk base created: {customer_risk_df.count():,} customers\")\n",
    "#\n",
    "# EXPECTED OUTPUT: All customers with claims metrics, nulls filled with 0\n",
    "# Target: 15K customers with claims data integrated\n",
    "\n",
    "print(\"\uD83D\uDD0D Analyzing claims patterns...\")\n",
    "\n",
    "# TODO: Implement claims analysis logic here\n",
    "print(\"✅ Claims analysis completed\")"
   ]
  },
  {
   "cell_type": "markdown",
   "metadata": {
    "application/vnd.databricks.v1+cell": {
     "cellMetadata": {
      "byteLimit": 2048000,
      "rowLimit": 10000
     },
     "inputWidgets": {},
     "nuid": "46add2bc-fe5d-463d-8825-fffb77bd6503",
     "showTitle": false,
     "tableResultSettingsMap": {},
     "title": ""
    }
   },
   "source": [
    "### 1.2 Policy Concentration Risk"
   ]
  },
  {
   "cell_type": "code",
   "execution_count": 0,
   "metadata": {
    "application/vnd.databricks.v1+cell": {
     "cellMetadata": {
      "byteLimit": 2048000,
      "rowLimit": 10000
     },
     "inputWidgets": {},
     "nuid": "6f842456-a4e7-443f-bcf3-ef1bcc38f7c8",
     "showTitle": false,
     "tableResultSettingsMap": {},
     "title": ""
    }
   },
   "outputs": [
    {
     "output_type": "stream",
     "name": "stdout",
     "output_type": "stream",
     "text": [
      "\uD83D\uDCCA Policy Concentration Analysis:\n+-------+-----------+-----------------+------------------+-----------------+-----------------+------------------+\n|summary|customer_id|   total_policies|     total_premium|      avg_premium|   total_coverage|policy_types_count|\n+-------+-----------+-----------------+------------------+-----------------+-----------------+------------------+\n|  count|      14905|            14905|             14905|            14905|            14905|             14905|\n|   mean|       NULL|5.031868500503187|28289.118016773064|5658.338106322959|1201268.250318685|3.0864139550486414|\n| stddev|       NULL|2.206615828063052|27800.390976173563|5810.436355811087|874976.2352750759|1.0537328155711314|\n|    min| CUST000001|                1|            264.42|           264.42|            10000|                 1|\n|    max| CUST015000|               16|         269471.41|         104000.0|         19099924|                 6|\n+-------+-----------+-----------------+------------------+-----------------+-----------------+------------------+\n\n"
     ]
    },
    {
     "output_type": "display_data",
     "data": {
      "text/html": [
       "<style scoped>\n",
       "  .table-result-container {\n",
       "    max-height: 300px;\n",
       "    overflow: auto;\n",
       "  }\n",
       "  table, th, td {\n",
       "    border: 1px solid black;\n",
       "    border-collapse: collapse;\n",
       "  }\n",
       "  th, td {\n",
       "    padding: 5px;\n",
       "  }\n",
       "  th {\n",
       "    text-align: left;\n",
       "  }\n",
       "</style><div class='table-result-container'><table class='table-result'><thead style='background-color: white'><tr><th>summary</th><th>customer_id</th><th>total_policies</th><th>total_premium</th><th>avg_premium</th><th>total_coverage</th><th>policy_types_count</th></tr></thead><tbody><tr><td>count</td><td>14905</td><td>14905</td><td>14905</td><td>14905</td><td>14905</td><td>14905</td></tr><tr><td>mean</td><td>null</td><td>5.031868500503187</td><td>28289.118016773064</td><td>5658.338106322959</td><td>1201268.250318685</td><td>3.0864139550486414</td></tr><tr><td>stddev</td><td>null</td><td>2.206615828063052</td><td>27800.390976173563</td><td>5810.436355811087</td><td>874976.2352750759</td><td>1.0537328155711314</td></tr><tr><td>min</td><td>CUST000001</td><td>1</td><td>264.42</td><td>264.42</td><td>10000</td><td>1</td></tr><tr><td>max</td><td>CUST015000</td><td>16</td><td>269471.41</td><td>104000.0</td><td>19099924</td><td>6</td></tr></tbody></table></div>"
      ]
     },
     "metadata": {
      "application/vnd.databricks.v1+output": {
       "addedWidgets": {},
       "aggData": [],
       "aggError": "",
       "aggOverflow": false,
       "aggSchema": [],
       "aggSeriesLimitReached": false,
       "aggType": "",
       "arguments": {},
       "columnCustomDisplayInfos": {},
       "data": [
        [
         "count",
         "14905",
         "14905",
         "14905",
         "14905",
         "14905",
         "14905"
        ],
        [
         "mean",
         null,
         "5.031868500503187",
         "28289.118016773064",
         "5658.338106322959",
         "1201268.250318685",
         "3.0864139550486414"
        ],
        [
         "stddev",
         null,
         "2.206615828063052",
         "27800.390976173563",
         "5810.436355811087",
         "874976.2352750759",
         "1.0537328155711314"
        ],
        [
         "min",
         "CUST000001",
         "1",
         "264.42",
         "264.42",
         "10000",
         "1"
        ],
        [
         "max",
         "CUST015000",
         "16",
         "269471.41",
         "104000.0",
         "19099924",
         "6"
        ]
       ],
       "datasetInfos": [],
       "dbfsResultPath": null,
       "isJsonSchema": true,
       "metadata": {},
       "overflow": false,
       "plotOptions": {
        "customPlotOptions": {},
        "displayType": "table",
        "pivotAggregation": null,
        "pivotColumns": null,
        "xColumns": null,
        "yColumns": null
       },
       "removedWidgets": [],
       "schema": [
        {
         "metadata": "{}",
         "name": "summary",
         "type": "\"string\""
        },
        {
         "metadata": "{}",
         "name": "customer_id",
         "type": "\"string\""
        },
        {
         "metadata": "{}",
         "name": "total_policies",
         "type": "\"string\""
        },
        {
         "metadata": "{}",
         "name": "total_premium",
         "type": "\"string\""
        },
        {
         "metadata": "{}",
         "name": "avg_premium",
         "type": "\"string\""
        },
        {
         "metadata": "{}",
         "name": "total_coverage",
         "type": "\"string\""
        },
        {
         "metadata": "{}",
         "name": "policy_types_count",
         "type": "\"string\""
        }
       ],
       "type": "table"
      }
     },
     "output_type": "display_data"
    },
    {
     "output_type": "stream",
     "name": "stdout",
     "output_type": "stream",
     "text": [
      "✅ Policy concentration metrics integrated\n\uD83D\uDD0D Analyzing policy concentration...\n✅ Policy concentration analysis completed\n"
     ]
    }
   ],
   "source": [
    "# BUSINESS CONTEXT: Customers with multiple policies represent higher value but also concentration risk\n",
    "# Multi-policy customers typically have lower churn rates but higher total exposure\n",
    "\n",
    "# TODO: Calculate policy concentration metrics per customer\n",
    "# \n",
    "# Step 1: Aggregate policy data per customer\n",
    "# TODO: Group policies_df by \"customer_id\"\n",
    "# TODO: Calculate total_policies using count(\"policy_id\")\n",
    "# TODO: Calculate total_premium using sum(\"premium_amount\")\n",
    "# TODO: Calculate avg_premium using avg(\"premium_amount\")\n",
    "# TODO: Calculate total_coverage using sum(\"coverage_amount\")\n",
    "# TODO: Calculate policy_types_count using countDistinct(\"policy_type\")\n",
    "# TODO: Collect policy_types using collect_list(\"policy_type\")\n",
    "# TODO: Store result as policy_metrics\n",
    "policy_metrics = (\n",
    "    policies_df.groupBy(\"customer_id\")\n",
    "    .agg(\n",
    "        count(\"policy_id\").alias(\"total_policies\"),\n",
    "        sum(\"premium_amount\").alias(\"total_premium\"),\n",
    "        avg(\"premium_amount\").alias(\"avg_premium\"),\n",
    "        sum(\"coverage_amount\").alias(\"total_coverage\"),\n",
    "        countDistinct(\"policy_type\").alias(\"policy_types_count\"),\n",
    "        collect_list(\"policy_type\").alias(\"policy_types\")\n",
    "    )   \n",
    ")\n",
    "# \n",
    "# Step 2: Display policy concentration analysis\n",
    "# TODO: Print \"\uD83D\uDCCA Policy Concentration Analysis:\"\n",
    "print(\"\uD83D\uDCCA Policy Concentration Analysis:\")\n",
    "\n",
    "# TODO: Show descriptive statistics using policy_metrics.describe().show()\n",
    "policy_metrics.describe().show()\n",
    "display(policy_metrics.describe())\n",
    "# \n",
    "# Step 3: Join policy metrics with customer risk data\n",
    "# TODO: Join customer_risk_df with policy_metrics on \"customer_id\" using left join\n",
    "customer_risk_df = customer_risk_df.join(policy_metrics, on=\"customer_id\", how=\"left\")\n",
    "# TODO: Update customer_risk_df with joined result\n",
    "\n",
    "# \n",
    "# Step 4: Handle customers without policies (edge case protection)\n",
    "# TODO: Use fillna() to set null values to 0 for: total_policies, total_premium, avg_premium, total_coverage, policy_types_count\n",
    "customer_risk_df = customer_risk_df.fillna({\n",
    "    \"total_policies\": 0,\n",
    "    \"total_premium\": 0,\n",
    "    \"avg_premium\": 0,\n",
    "    \"total_coverage\": 0,\n",
    "    \"policy_types_count\": 0\n",
    "})\n",
    "# TODO: Print \"✅ Policy concentration metrics integrated\"\n",
    "print(\"✅ Policy concentration metrics integrated\")\n",
    "#\n",
    "# EXPECTED OUTPUT: All customers with policy concentration metrics\n",
    "# Target: Policy counts ranging from 1-5, premium amounts $500-$15,000\n",
    "\n",
    "print(\"\uD83D\uDD0D Analyzing policy concentration...\")\n",
    "\n",
    "# TODO: Implement policy concentration analysis logic here\n",
    "print(\"✅ Policy concentration analysis completed\")"
   ]
  },
  {
   "cell_type": "markdown",
   "metadata": {
    "application/vnd.databricks.v1+cell": {
     "cellMetadata": {
      "byteLimit": 2048000,
      "rowLimit": 10000
     },
     "inputWidgets": {},
     "nuid": "2850920a-b412-4f58-bb87-dbe5ea975b44",
     "showTitle": false,
     "tableResultSettingsMap": {},
     "title": ""
    }
   },
   "source": [
    "### 1.3 Payment Behavior Integration"
   ]
  },
  {
   "cell_type": "code",
   "execution_count": 0,
   "metadata": {
    "application/vnd.databricks.v1+cell": {
     "cellMetadata": {
      "byteLimit": 2048000,
      "rowLimit": 10000
     },
     "inputWidgets": {},
     "nuid": "e5a59cbe-b75b-4443-93ed-43c5364a5a55",
     "showTitle": false,
     "tableResultSettingsMap": {},
     "title": ""
    }
   },
   "outputs": [
    {
     "output_type": "stream",
     "name": "stdout",
     "output_type": "stream",
     "text": [
      "✅ Payment behavior metrics integrated\n\uD83D\uDD0D Analyzing payment behavior...\n✅ Payment behavior analysis completed\n"
     ]
    }
   ],
   "source": [
    "# BUSINESS CONTEXT: Payment behavior indicates customer reliability and financial stability\n",
    "# Late payments and failures correlate with higher risk and potential churn\n",
    "\n",
    "# TODO: Analyze customer payment behavior patterns\n",
    "# \n",
    "# Step 1: Calculate payment behavior metrics\n",
    "# TODO: Group payments_df by \"customer_id\"\n",
    "# TODO: Calculate total_payments using count(\"payment_id\")\n",
    "# TODO: Calculate total_payment_amount using sum(\"payment_amount\")\n",
    "# TODO: Calculate avg_payment_amount using avg(\"payment_amount\")\n",
    "# TODO: Calculate late_payments_count using sum(when(col(\"late_payment_flag\") == True, 1).otherwise(0))\n",
    "# TODO: Calculate failed_payments_count using sum(when(col(\"payment_status\") == \"Failed\", 1).otherwise(0))\n",
    "# TODO: Store result as payment_behavior\n",
    "from pyspark.sql.functions import count, sum, avg, when, col\n",
    "\n",
    "payment_behavior = (\n",
    "    payments_df.groupBy(\"customer_id\")\n",
    "    .agg(\n",
    "        count(\"payment_id\").alias(\"total_payments\"),\n",
    "        sum(\"payment_amount\").alias(\"total_payment_amount\"),\n",
    "        avg(\"payment_amount\").alias(\"avg_payment_amount\"),\n",
    "        sum(when(col(\"late_payment_flag\") == 1, 1).otherwise(0)).alias(\"late_payments_count\"),\n",
    "        sum(when(col(\"payment_status\") == \"Failed\", 1).otherwise(0)).alias(\"failed_payments_count\")\n",
    "    )\n",
    ")\n",
    "\n",
    "# \n",
    "# Step 2: Calculate payment reliability score\n",
    "# TODO: Add payment_reliability_score column to payment_behavior\n",
    "# TODO: Use when/otherwise logic:\n",
    "#       - If total_payments == 0, set score to 1.0\n",
    "#       - Otherwise: 1.0 - (late_payments_count + failed_payments_count * 2) / total_payments\n",
    "# TODO: This formula penalizes failed payments more heavily than late payments\n",
    "payment_behavior = payment_behavior.withColumn(\n",
    "    \"payment_reliability_score\",\n",
    "    when(\n",
    "        col(\"total_payments\") == 0, 1.0\n",
    "    ).otherwise(\n",
    "        1.0 - (\n",
    "            col(\"late_payments_count\") + col(\"failed_payments_count\") * 2\n",
    "        ) / col(\"total_payments\")\n",
    "    )\n",
    ")\n",
    "\n",
    "# \n",
    "# Step 3: Join payment behavior with customer risk data\n",
    "# TODO: Join customer_risk_df with payment_behavior on \"customer_id\" using left join\n",
    "# TODO: Update customer_risk_df with joined result\n",
    "customer_risk_df = customer_risk_df.join(payment_behavior, on=\"customer_id\", how=\"left\")\n",
    "\n",
    "# \n",
    "# Step 4: Handle customers without payment history\n",
    "# TODO: Use fillna() to set null values to 0 for: total_payments, total_payment_amount, avg_payment_amount, late_payments_count, failed_payments_count\n",
    "# TODO: Set payment_reliability_score to 1.0 for customers without payment history\n",
    "# TODO: Print \"✅ Payment behavior metrics integrated\"\n",
    "customer_risk_df = customer_risk_df.fillna({\n",
    "    \"total_payments\": 0,\n",
    "    \"total_payment_amount\": 0,\n",
    "    \"avg_payment_amount\": 0,\n",
    "    \"late_payments_count\": 0,\n",
    "    \"failed_payments_count\": 0,\n",
    "    \"payment_reliability_score\": 1.0\n",
    "})\n",
    "\n",
    "print(\"✅ Payment behavior metrics integrated\")\n",
    "#\n",
    "# EXPECTED OUTPUT: All customers with payment reliability scores between 0.0-1.0\n",
    "# Target: Most customers should have scores 0.85-1.0 (high reliability)\n",
    "\n",
    "print(\"\uD83D\uDD0D Analyzing payment behavior...\")\n",
    "\n",
    "# TODO: Implement payment behavior analysis logic here\n",
    "print(\"✅ Payment behavior analysis completed\")"
   ]
  },
  {
   "cell_type": "markdown",
   "metadata": {
    "application/vnd.databricks.v1+cell": {
     "cellMetadata": {
      "byteLimit": 2048000,
      "rowLimit": 10000
     },
     "inputWidgets": {},
     "nuid": "3a44339f-08b0-4188-b05e-385b375cf496",
     "showTitle": false,
     "tableResultSettingsMap": {},
     "title": ""
    }
   },
   "source": [
    "### 1.4 Calculate Comprehensive Risk Scores"
   ]
  },
  {
   "cell_type": "code",
   "execution_count": 0,
   "metadata": {
    "application/vnd.databricks.v1+cell": {
     "cellMetadata": {
      "byteLimit": 2048000,
      "rowLimit": 10000
     },
     "inputWidgets": {},
     "nuid": "e7f77faa-73b1-4295-905a-97552779bd4b",
     "showTitle": false,
     "tableResultSettingsMap": {},
     "title": ""
    }
   },
   "outputs": [
    {
     "output_type": "stream",
     "name": "stdout",
     "output_type": "stream",
     "text": [
      "✅ Comprehensive risk scores calculated\n+-------+--------------------+\n|summary|composite_risk_score|\n+-------+--------------------+\n|  count|               15000|\n|   mean|   2.144759999999833|\n| stddev|   0.441020228926997|\n|    min|                 1.0|\n|    max|  3.9500000000000006|\n+-------+--------------------+\n\n"
     ]
    },
    {
     "output_type": "display_data",
     "data": {
      "text/html": [
       "<style scoped>\n",
       "  .table-result-container {\n",
       "    max-height: 300px;\n",
       "    overflow: auto;\n",
       "  }\n",
       "  table, th, td {\n",
       "    border: 1px solid black;\n",
       "    border-collapse: collapse;\n",
       "  }\n",
       "  th, td {\n",
       "    padding: 5px;\n",
       "  }\n",
       "  th {\n",
       "    text-align: left;\n",
       "  }\n",
       "</style><div class='table-result-container'><table class='table-result'><thead style='background-color: white'><tr><th>summary</th><th>composite_risk_score</th></tr></thead><tbody><tr><td>count</td><td>15000</td></tr><tr><td>mean</td><td>2.144759999999833</td></tr><tr><td>stddev</td><td>0.441020228926997</td></tr><tr><td>min</td><td>1.0</td></tr><tr><td>max</td><td>3.9500000000000006</td></tr></tbody></table></div>"
      ]
     },
     "metadata": {
      "application/vnd.databricks.v1+output": {
       "addedWidgets": {},
       "aggData": [],
       "aggError": "",
       "aggOverflow": false,
       "aggSchema": [],
       "aggSeriesLimitReached": false,
       "aggType": "",
       "arguments": {},
       "columnCustomDisplayInfos": {},
       "data": [
        [
         "count",
         "15000"
        ],
        [
         "mean",
         "2.144759999999833"
        ],
        [
         "stddev",
         "0.441020228926997"
        ],
        [
         "min",
         "1.0"
        ],
        [
         "max",
         "3.9500000000000006"
        ]
       ],
       "datasetInfos": [],
       "dbfsResultPath": null,
       "isJsonSchema": true,
       "metadata": {},
       "overflow": false,
       "plotOptions": {
        "customPlotOptions": {},
        "displayType": "table",
        "pivotAggregation": null,
        "pivotColumns": null,
        "xColumns": null,
        "yColumns": null
       },
       "removedWidgets": [],
       "schema": [
        {
         "metadata": "{}",
         "name": "summary",
         "type": "\"string\""
        },
        {
         "metadata": "{}",
         "name": "composite_risk_score",
         "type": "\"string\""
        }
       ],
       "type": "table"
      }
     },
     "output_type": "display_data"
    },
    {
     "output_type": "stream",
     "name": "stdout",
     "output_type": "stream",
     "text": [
      "\uD83D\uDD0D Calculating comprehensive risk scores...\n✅ Comprehensive risk scoring completed\n"
     ]
    }
   ],
   "source": [
    "# BUSINESS CONTEXT: Risk scoring enables personalized pricing and targeted risk management\n",
    "# Multiple risk factors provide more accurate assessment than single indicators\n",
    "\n",
    "# TODO: Calculate comprehensive risk scores using multiple risk factors\n",
    "# \n",
    "# Step 1: Calculate claims risk score\n",
    "# TODO: Create claims_risk_score column using when/otherwise logic:\n",
    "#       - 0 claims = 1.0 (lowest risk)\n",
    "#       - 1 claim = 2.0 (medium risk)\n",
    "#       - 2 claims = 3.0 (higher risk)\n",
    "#       - 3+ claims = 4.0 (highest risk)\n",
    "# TODO: Default to 1.0 for any other cases\n",
    "customer_risk_df = customer_risk_df.withColumn(\n",
    "    \"claims_risk_score\",\n",
    "    when(col(\"total_claims\") == 0, 1.0)\n",
    "    .when(col(\"total_claims\") == 1, 2.0)\n",
    "    .when(col(\"total_claims\") == 2, 3.0)\n",
    "    .when(col(\"total_claims\") >= 3, 4.0)\n",
    "    .otherwise(1.0)\n",
    ")\n",
    "\n",
    "# \n",
    "# Step 2: Calculate credit risk score\n",
    "# TODO: Create credit_risk_score column based on credit_score:\n",
    "#       - >=750 = 1.0 (excellent credit)\n",
    "#       - >=700 = 2.0 (good credit)\n",
    "#       - >=650 = 3.0 (fair credit)\n",
    "#       - >=600 = 4.0 (poor credit)\n",
    "#       - <600 = 5.0 (very poor credit)\n",
    "customer_risk_df = customer_risk_df.withColumn(\n",
    "    \"credit_risk_score\",\n",
    "    when(col(\"credit_score\") >= 750, 1.0)\n",
    "    .when(col(\"credit_score\") >= 700, 2.0)\n",
    "    .when(col(\"credit_score\") >= 650, 3.0)\n",
    "    .when(col(\"credit_score\") >= 600, 4.0)\n",
    "    .otherwise(5.0)\n",
    ")\n",
    "\n",
    "# \n",
    "# Step 3: Calculate age risk score\n",
    "# TODO: First calculate age column: floor(datediff(current_date(), col(\"birth_date\")) / 365.25)\n",
    "customer_risk_df = customer_risk_df.withColumn(\n",
    "    \"age\",\n",
    "    floor(datediff(current_date(), col(\"birth_date\")) / 365.25)\n",
    ")\n",
    "\n",
    "# TODO: Create age_risk_score column:\n",
    "#       - <25 = 3.0 (young drivers, higher risk)\n",
    "#       - 25-65 = 1.0 (prime age, lowest risk)\n",
    "#       - 66-75 = 2.0 (senior, moderate risk)\n",
    "#       - >75 = 3.0 (very senior, higher risk)\n",
    "customer_risk_df = customer_risk_df.withColumn(\n",
    "    \"age_risk_score\",\n",
    "    when(col(\"age\") < 25, 3.0)\n",
    "    .when((col(\"age\") >= 25) & (col(\"age\") <= 65), 1.0)\n",
    "    .when((col(\"age\") > 65) & (col(\"age\") <= 75), 2.0)\n",
    "    .when(col(\"age\") > 75, 3.0)\n",
    "    .otherwise(1.0)\n",
    ")\n",
    "\n",
    "# \n",
    "# Step 4: Calculate premium and payment risk scores\n",
    "# TODO: Create premium_risk_score based on total_premium:\n",
    "#       - >=5000 = 3.0 (high premium concentration)\n",
    "#       - >=2000 = 2.0 (medium concentration)\n",
    "#       - <2000 = 1.0 (low concentration)\n",
    "customer_risk_df = customer_risk_df.withColumn(\n",
    "    \"premium_risk_score\",\n",
    "    when(col(\"total_premium\") >= 5000, 3.0)\n",
    "    .when(col(\"total_premium\") >= 2000, 2.0)\n",
    "    .otherwise(1.0)\n",
    ")\n",
    "\n",
    "# TODO: Create payment_risk_score based on payment_reliability_score:\n",
    "#       - >=0.95 = 1.0 (excellent reliability)\n",
    "#       - >=0.85 = 2.0 (good reliability)\n",
    "#       - >=0.75 = 3.0 (fair reliability)\n",
    "#       - <0.75 = 4.0 (poor reliability)\n",
    "customer_risk_df = customer_risk_df.withColumn(\n",
    "    \"payment_risk_score\",\n",
    "    when(col(\"payment_reliability_score\") >= 0.95, 1.0)\n",
    "    .when(col(\"payment_reliability_score\") >= 0.85, 2.0)\n",
    "    .when(col(\"payment_reliability_score\") >= 0.75, 3.0)\n",
    "    .otherwise(4.0)\n",
    ")\n",
    "\n",
    "# \n",
    "# Step 5: Calculate composite risk score\n",
    "# TODO: Create composite_risk_score as weighted average:\n",
    "#       - claims_risk_score * 0.30 (30% weight)\n",
    "#       - credit_risk_score * 0.25 (25% weight)\n",
    "#       - age_risk_score * 0.15 (15% weight)\n",
    "#       - premium_risk_score * 0.15 (15% weight)\n",
    "#       - payment_risk_score * 0.15 (15% weight)\n",
    "customer_risk_df = customer_risk_df.withColumn(\n",
    "    \"composite_risk_score\",\n",
    "    col(\"claims_risk_score\") * 0.30 +\n",
    "    col(\"credit_risk_score\") * 0.25 +\n",
    "    col(\"age_risk_score\") * 0.15 +\n",
    "    col(\"premium_risk_score\") * 0.15 +\n",
    "    col(\"payment_risk_score\") * 0.15\n",
    ")\n",
    "\n",
    "# TODO: Print \"✅ Comprehensive risk scores calculated\"\n",
    "print(\"✅ Comprehensive risk scores calculated\")\n",
    "# TODO: Show risk score distribution using customer_risk_df.select(\"composite_risk_score\").describe().show()\n",
    "customer_risk_df.select(\"composite_risk_score\").describe().show()\n",
    "display(customer_risk_df.select(\"composite_risk_score\").describe())\n",
    "\n",
    "#\n",
    "# EXPECTED OUTPUT: All customers with composite_risk_score between 1.0-4.0\n",
    "# Target: Bell curve distribution with most customers between 1.5-2.5\n",
    "\n",
    "print(\"\uD83D\uDD0D Calculating comprehensive risk scores...\")\n",
    "\n",
    "# TODO: Implement comprehensive risk scoring logic here\n",
    "print(\"✅ Comprehensive risk scoring completed\")"
   ]
  },
  {
   "cell_type": "markdown",
   "metadata": {
    "application/vnd.databricks.v1+cell": {
     "cellMetadata": {
      "byteLimit": 2048000,
      "rowLimit": 10000
     },
     "inputWidgets": {},
     "nuid": "7aab49bf-3857-44ef-bcfe-95c08b065ae6",
     "showTitle": false,
     "tableResultSettingsMap": {},
     "title": ""
    }
   },
   "source": [
    "## 2. Risk-Based Customer Segmentation"
   ]
  },
  {
   "cell_type": "markdown",
   "metadata": {
    "application/vnd.databricks.v1+cell": {
     "cellMetadata": {
      "byteLimit": 2048000,
      "rowLimit": 10000
     },
     "inputWidgets": {},
     "nuid": "8bd161f3-adfe-4cf1-b83c-5bdcc3e79f8d",
     "showTitle": false,
     "tableResultSettingsMap": {},
     "title": ""
    }
   },
   "source": [
    "### 2.1 Risk Category Assignment"
   ]
  },
  {
   "cell_type": "code",
   "execution_count": 0,
   "metadata": {
    "application/vnd.databricks.v1+cell": {
     "cellMetadata": {
      "byteLimit": 2048000,
      "rowLimit": 10000
     },
     "inputWidgets": {},
     "nuid": "71e70d91-4fdf-477c-9313-5f6e38ef5bbd",
     "showTitle": false,
     "tableResultSettingsMap": {},
     "title": ""
    }
   },
   "outputs": [
    {
     "output_type": "stream",
     "name": "stdout",
     "output_type": "stream",
     "text": [
      "\uD83D\uDCCA Risk Category Distribution:\n"
     ]
    },
    {
     "output_type": "display_data",
     "data": {
      "text/html": [
       "<style scoped>\n",
       "  .table-result-container {\n",
       "    max-height: 300px;\n",
       "    overflow: auto;\n",
       "  }\n",
       "  table, th, td {\n",
       "    border: 1px solid black;\n",
       "    border-collapse: collapse;\n",
       "  }\n",
       "  th, td {\n",
       "    padding: 5px;\n",
       "  }\n",
       "  th {\n",
       "    text-align: left;\n",
       "  }\n",
       "</style><div class='table-result-container'><table class='table-result'><thead style='background-color: white'><tr><th>risk_category</th><th>count</th></tr></thead><tbody><tr><td>Medium</td><td>9820</td></tr><tr><td>Low</td><td>3729</td></tr><tr><td>High</td><td>1451</td></tr></tbody></table></div>"
      ]
     },
     "metadata": {
      "application/vnd.databricks.v1+output": {
       "addedWidgets": {},
       "aggData": [],
       "aggError": "",
       "aggOverflow": false,
       "aggSchema": [],
       "aggSeriesLimitReached": false,
       "aggType": "",
       "arguments": {},
       "columnCustomDisplayInfos": {},
       "data": [
        [
         "Medium",
         9820
        ],
        [
         "Low",
         3729
        ],
        [
         "High",
         1451
        ]
       ],
       "datasetInfos": [],
       "dbfsResultPath": null,
       "isJsonSchema": true,
       "metadata": {},
       "overflow": false,
       "plotOptions": {
        "customPlotOptions": {},
        "displayType": "table",
        "pivotAggregation": null,
        "pivotColumns": null,
        "xColumns": null,
        "yColumns": null
       },
       "removedWidgets": [],
       "schema": [
        {
         "metadata": "{}",
         "name": "risk_category",
         "type": "\"string\""
        },
        {
         "metadata": "{}",
         "name": "count",
         "type": "\"long\""
        }
       ],
       "type": "table"
      }
     },
     "output_type": "display_data"
    },
    {
     "output_type": "stream",
     "name": "stdout",
     "output_type": "stream",
     "text": [
      "\uD83D\uDCCA Risk Category Percentages:\n"
     ]
    },
    {
     "output_type": "display_data",
     "data": {
      "text/html": [
       "<style scoped>\n",
       "  .table-result-container {\n",
       "    max-height: 300px;\n",
       "    overflow: auto;\n",
       "  }\n",
       "  table, th, td {\n",
       "    border: 1px solid black;\n",
       "    border-collapse: collapse;\n",
       "  }\n",
       "  th, td {\n",
       "    padding: 5px;\n",
       "  }\n",
       "  th {\n",
       "    text-align: left;\n",
       "  }\n",
       "</style><div class='table-result-container'><table class='table-result'><thead style='background-color: white'><tr><th>risk_category</th><th>count</th><th>percentage</th></tr></thead><tbody><tr><td>Medium</td><td>9820</td><td>65.47</td></tr><tr><td>Low</td><td>3729</td><td>24.86</td></tr><tr><td>High</td><td>1451</td><td>9.67</td></tr></tbody></table></div>"
      ]
     },
     "metadata": {
      "application/vnd.databricks.v1+output": {
       "addedWidgets": {},
       "aggData": [],
       "aggError": "",
       "aggOverflow": false,
       "aggSchema": [],
       "aggSeriesLimitReached": false,
       "aggType": "",
       "arguments": {},
       "columnCustomDisplayInfos": {},
       "data": [
        [
         "Medium",
         9820,
         "65.47"
        ],
        [
         "Low",
         3729,
         "24.86"
        ],
        [
         "High",
         1451,
         "9.67"
        ]
       ],
       "datasetInfos": [],
       "dbfsResultPath": null,
       "isJsonSchema": true,
       "metadata": {},
       "overflow": false,
       "plotOptions": {
        "customPlotOptions": {},
        "displayType": "table",
        "pivotAggregation": null,
        "pivotColumns": null,
        "xColumns": null,
        "yColumns": null
       },
       "removedWidgets": [],
       "schema": [
        {
         "metadata": "{}",
         "name": "risk_category",
         "type": "\"string\""
        },
        {
         "metadata": "{}",
         "name": "count",
         "type": "\"long\""
        },
        {
         "metadata": "{}",
         "name": "percentage",
         "type": "\"decimal(5,2)\""
        }
       ],
       "type": "table"
      }
     },
     "output_type": "display_data"
    },
    {
     "output_type": "stream",
     "name": "stdout",
     "output_type": "stream",
     "text": [
      "\uD83C\uDFAF Assigning risk categories...\n✅ Risk categories assigned\n"
     ]
    }
   ],
   "source": [
    "# BUSINESS CONTEXT: Risk categorization enables targeted pricing and risk management strategies\n",
    "# Industry standard practice divides customers into Low/Medium/High risk segments\n",
    "\n",
    "# TODO: Assign risk categories based on composite risk scores\n",
    "# \n",
    "# Step 1: Create risk categories\n",
    "# TODO: Create risk_category column using when/otherwise logic:\n",
    "#       - composite_risk_score <= 1.75 = \"Low\"\n",
    "#       - composite_risk_score <= 2.75 = \"Medium\"\n",
    "#       - composite_risk_score > 2.75 = \"High\"\n",
    "customer_risk_df = customer_risk_df.withColumn(\n",
    "    \"risk_category\",\n",
    "    when(col(\"composite_risk_score\") <= 1.75, \"Low\")\n",
    "    .when(col(\"composite_risk_score\") <= 2.75, \"Medium\")\n",
    "    .otherwise(\"High\")\n",
    ")\n",
    "\n",
    "# Step 2: Analyze risk category distribution\n",
    "# TODO: Group by risk_category and count customers\n",
    "# TODO: Order by count descending\n",
    "# TODO: Store result as risk_distribution\n",
    "risk_distribution = customer_risk_df.groupBy(\"risk_category\").count().orderBy(\"count\", ascending=False)\n",
    "\n",
    "# TODO: Print \"\uD83D\uDCCA Risk Category Distribution:\"\n",
    "# TODO: Show risk_distribution\n",
    "print(\"\uD83D\uDCCA Risk Category Distribution:\")\n",
    "display(risk_distribution)\n",
    "\n",
    "# Step 3: Calculate risk category percentages\n",
    "# TODO: Get total_customers using customer_risk_df.count()\n",
    "total_customers = customer_risk_df.count()\n",
    "\n",
    "# TODO: Add percentage column to risk_distribution: (count / total_customers) * 100\n",
    "# TODO: Round to 2 decimal places\n",
    "risk_distribution = risk_distribution.withColumn(\n",
    "    \"percentage\",\n",
    "    (col(\"count\") / total_customers * 100).cast(\"decimal(5,2)\")\n",
    ")\n",
    "\n",
    "# TODO: Print \"\uD83D\uDCCA Risk Category Percentages:\"\n",
    "# TODO: Show risk_distribution with percentages\n",
    "print(\"\uD83D\uDCCA Risk Category Percentages:\")\n",
    "display(risk_distribution)\n",
    "\n",
    "# EXPECTED OUTPUT: Risk categories with counts and percentages\n",
    "# Target: Approximately 60% Low, 30% Medium, 10% High risk distribution\n",
    "\n",
    "print(\"\uD83C\uDFAF Assigning risk categories...\")\n",
    "\n",
    "# TODO: Implement risk category assignment logic here\n",
    "print(\"✅ Risk categories assigned\")"
   ]
  },
  {
   "cell_type": "markdown",
   "metadata": {
    "application/vnd.databricks.v1+cell": {
     "cellMetadata": {
      "byteLimit": 2048000,
      "rowLimit": 10000
     },
     "inputWidgets": {},
     "nuid": "f1885b4d-5a80-4510-9c7b-09d5ad17900b",
     "showTitle": false,
     "tableResultSettingsMap": {},
     "title": ""
    }
   },
   "source": [
    "### 2.2 Value Segment Assignment"
   ]
  },
  {
   "cell_type": "code",
   "execution_count": 0,
   "metadata": {
    "application/vnd.databricks.v1+cell": {
     "cellMetadata": {
      "byteLimit": 2048000,
      "rowLimit": 10000
     },
     "inputWidgets": {},
     "nuid": "23786b05-5683-4585-a1b3-c0b9fb63edf6",
     "showTitle": false,
     "tableResultSettingsMap": {},
     "title": ""
    }
   },
   "outputs": [
    {
     "output_type": "stream",
     "name": "stdout",
     "output_type": "stream",
     "text": [
      "\uD83D\uDCCA Value Segment Thresholds:\n   High Value (top 10%): $54,753.91+\n   Medium Value (70-90%): $29,979.52 - $54,753.91\n   Low Value (bottom 70%): < $29,979.52\n\uD83D\uDCCA Value Segment Distribution:\n"
     ]
    },
    {
     "output_type": "display_data",
     "data": {
      "text/html": [
       "<style scoped>\n",
       "  .table-result-container {\n",
       "    max-height: 300px;\n",
       "    overflow: auto;\n",
       "  }\n",
       "  table, th, td {\n",
       "    border: 1px solid black;\n",
       "    border-collapse: collapse;\n",
       "  }\n",
       "  th, td {\n",
       "    padding: 5px;\n",
       "  }\n",
       "  th {\n",
       "    text-align: left;\n",
       "  }\n",
       "</style><div class='table-result-container'><table class='table-result'><thead style='background-color: white'><tr><th>value_segment</th><th>count</th></tr></thead><tbody><tr><td>Low Value</td><td>9837</td></tr><tr><td>Medium Value</td><td>2970</td></tr><tr><td>High Value</td><td>2193</td></tr></tbody></table></div>"
      ]
     },
     "metadata": {
      "application/vnd.databricks.v1+output": {
       "addedWidgets": {},
       "aggData": [],
       "aggError": "",
       "aggOverflow": false,
       "aggSchema": [],
       "aggSeriesLimitReached": false,
       "aggType": "",
       "arguments": {},
       "columnCustomDisplayInfos": {},
       "data": [
        [
         "Low Value",
         9837
        ],
        [
         "Medium Value",
         2970
        ],
        [
         "High Value",
         2193
        ]
       ],
       "datasetInfos": [],
       "dbfsResultPath": null,
       "isJsonSchema": true,
       "metadata": {},
       "overflow": false,
       "plotOptions": {
        "customPlotOptions": {},
        "displayType": "table",
        "pivotAggregation": null,
        "pivotColumns": null,
        "xColumns": null,
        "yColumns": null
       },
       "removedWidgets": [],
       "schema": [
        {
         "metadata": "{}",
         "name": "value_segment",
         "type": "\"string\""
        },
        {
         "metadata": "{}",
         "name": "count",
         "type": "\"long\""
        }
       ],
       "type": "table"
      }
     },
     "output_type": "display_data"
    },
    {
     "output_type": "stream",
     "name": "stdout",
     "output_type": "stream",
     "text": [
      "\uD83D\uDCB0 Assigning value segments...\n✅ Value segments assigned\n"
     ]
    }
   ],
   "source": [
    "# BUSINESS CONTEXT: Value segmentation enables customer prioritization and resource allocation\n",
    "# High-value customers receive premium service and retention efforts\n",
    "\n",
    "# TODO: Create customer value segments based on premium amounts\n",
    "# \n",
    "# Step 1: Calculate value segment thresholds\n",
    "# TODO: Use approxQuantile on total_premium column with quantiles [0.7, 0.9] and accuracy 0.05\n",
    "# TODO: Store results as premium_percentiles\n",
    "# TODO: Extract medium_value_threshold = premium_percentiles[0] (70th percentile)\n",
    "# TODO: Extract high_value_threshold = premium_percentiles[1] (90th percentile)\n",
    "premium_percentiles = customer_risk_df.approxQuantile(\"total_premium\", [0.7, 0.9], 0.05)\n",
    "medium_value_threshold = premium_percentiles[0]\n",
    "high_value_threshold = premium_percentiles[1]\n",
    "\n",
    "# \n",
    "# Step 2: Print value segment thresholds\n",
    "# TODO: Print \"\uD83D\uDCCA Value Segment Thresholds:\"\n",
    "# TODO: Print f\"   High Value (top 10%): ${high_value_threshold:,.2f}+\"\n",
    "# TODO: Print f\"   Medium Value (70-90%): ${medium_value_threshold:,.2f} - ${high_value_threshold:,.2f}\"\n",
    "# TODO: Print f\"   Low Value (bottom 70%): < ${medium_value_threshold:,.2f}\"\n",
    "print(\"\uD83D\uDCCA Value Segment Thresholds:\")\n",
    "print(f\"   High Value (top 10%): ${high_value_threshold:,.2f}+\")\n",
    "print(f\"   Medium Value (70-90%): ${medium_value_threshold:,.2f} - ${high_value_threshold:,.2f}\")\n",
    "print(f\"   Low Value (bottom 70%): < ${medium_value_threshold:,.2f}\")\n",
    "\n",
    "# \n",
    "# Step 3: Assign value segments\n",
    "# TODO: Create value_segment column using when/otherwise logic:\n",
    "#       - total_premium >= high_value_threshold = \"High Value\"\n",
    "#       - total_premium >= medium_value_threshold = \"Medium Value\"\n",
    "#       - total_premium < medium_value_threshold = \"Low Value\"\n",
    "customer_risk_df = customer_risk_df.withColumn(\n",
    "    \"value_segment\",\n",
    "    when(col(\"total_premium\") >= high_value_threshold, \"High Value\")\n",
    "    .when(col(\"total_premium\") >= medium_value_threshold, \"Medium Value\")\n",
    "    .otherwise(\"Low Value\")\n",
    ")\n",
    "\n",
    "# \n",
    "# Step 4: Analyze value segment distribution\n",
    "# TODO: Group by value_segment and count customers\n",
    "# TODO: Order by count descending\n",
    "# TODO: Store result as value_distribution\n",
    "value_distribution = customer_risk_df.groupBy(\"value_segment\").count().orderBy(\"count\", ascending=False)\n",
    "\n",
    "# TODO: Print \"\uD83D\uDCCA Value Segment Distribution:\"\n",
    "# TODO: Show value_distribution\n",
    "print(\"\uD83D\uDCCA Value Segment Distribution:\")\n",
    "display(value_distribution)\n",
    "#\n",
    "# EXPECTED OUTPUT: Value segments with approximately 10% High, 20% Medium, 70% Low\n",
    "# Target: Thresholds around $3,000 (medium) and $8,000 (high)\n",
    "\n",
    "print(\"\uD83D\uDCB0 Assigning value segments...\")\n",
    "\n",
    "# TODO: Implement value segment assignment logic here\n",
    "print(\"✅ Value segments assigned\")"
   ]
  },
  {
   "cell_type": "markdown",
   "metadata": {
    "application/vnd.databricks.v1+cell": {
     "cellMetadata": {
      "byteLimit": 2048000,
      "rowLimit": 10000
     },
     "inputWidgets": {},
     "nuid": "e48295fb-e816-45f2-ad9b-a98ed2e6db0c",
     "showTitle": false,
     "tableResultSettingsMap": {},
     "title": ""
    }
   },
   "source": [
    "### 2.3 Risk vs Value Matrix"
   ]
  },
  {
   "cell_type": "code",
   "execution_count": 0,
   "metadata": {
    "application/vnd.databricks.v1+cell": {
     "cellMetadata": {
      "byteLimit": 2048000,
      "rowLimit": 10000
     },
     "inputWidgets": {},
     "nuid": "e5123fa9-90c2-4e07-9f91-8549c3982f11",
     "showTitle": false,
     "tableResultSettingsMap": {},
     "title": ""
    }
   },
   "outputs": [
    {
     "output_type": "stream",
     "name": "stdout",
     "output_type": "stream",
     "text": [
      "\uD83D\uDCCA Risk vs Value Matrix Analysis:\n"
     ]
    },
    {
     "output_type": "display_data",
     "data": {
      "text/html": [
       "<style scoped>\n",
       "  .table-result-container {\n",
       "    max-height: 300px;\n",
       "    overflow: auto;\n",
       "  }\n",
       "  table, th, td {\n",
       "    border: 1px solid black;\n",
       "    border-collapse: collapse;\n",
       "  }\n",
       "  th, td {\n",
       "    padding: 5px;\n",
       "  }\n",
       "  th {\n",
       "    text-align: left;\n",
       "  }\n",
       "</style><div class='table-result-container'><table class='table-result'><thead style='background-color: white'><tr><th>risk_category</th><th>value_segment</th><th>customer_count</th><th>avg_risk_score</th><th>total_premium_segment</th><th>avg_premium_segment</th></tr></thead><tbody><tr><td>High</td><td>High Value</td><td>356</td><td>2.9967696629213423</td><td>3.099874985E7</td><td>87075.1400280899</td></tr><tr><td>High</td><td>Low Value</td><td>740</td><td>2.9630405405405322</td><td>1.1117616630000008E7</td><td>15023.806256756769</td></tr><tr><td>High</td><td>Medium Value</td><td>355</td><td>2.98309859154929</td><td>1.4443414429999996E7</td><td>40685.67445070422</td></tr><tr><td>Low</td><td>High Value</td><td>357</td><td>1.6607843137254916</td><td>2.850888797E7</td><td>79856.82904761905</td></tr><tr><td>Low</td><td>Low Value</td><td>2799</td><td>1.5873168988924673</td><td>2.847759842000004E7</td><td>10174.20450875314</td></tr><tr><td>Low</td><td>Medium Value</td><td>573</td><td>1.658027923211168</td><td>2.3068523050000004E7</td><td>40259.20253054102</td></tr><tr><td>Medium</td><td>High Value</td><td>1480</td><td>2.2659459459459574</td><td>1.2032935106999987E8</td><td>81303.61558783775</td></tr><tr><td>Medium</td><td>Low Value</td><td>6298</td><td>2.207168942521387</td><td>8.133677924999996E7</td><td>12914.69978564623</td></tr><tr><td>Medium</td><td>Medium Value</td><td>2042</td><td>2.2589128305583066</td><td>8.336838336999995E7</td><td>40826.82829089126</td></tr></tbody></table></div>"
      ]
     },
     "metadata": {
      "application/vnd.databricks.v1+output": {
       "addedWidgets": {},
       "aggData": [],
       "aggError": "",
       "aggOverflow": false,
       "aggSchema": [],
       "aggSeriesLimitReached": false,
       "aggType": "",
       "arguments": {},
       "columnCustomDisplayInfos": {},
       "data": [
        [
         "High",
         "High Value",
         356,
         2.9967696629213423,
         3.099874985E7,
         87075.1400280899
        ],
        [
         "High",
         "Low Value",
         740,
         2.9630405405405322,
         1.1117616630000008E7,
         15023.806256756769
        ],
        [
         "High",
         "Medium Value",
         355,
         2.98309859154929,
         1.4443414429999996E7,
         40685.67445070422
        ],
        [
         "Low",
         "High Value",
         357,
         1.6607843137254916,
         2.850888797E7,
         79856.82904761905
        ],
        [
         "Low",
         "Low Value",
         2799,
         1.5873168988924673,
         2.847759842000004E7,
         10174.20450875314
        ],
        [
         "Low",
         "Medium Value",
         573,
         1.658027923211168,
         2.3068523050000004E7,
         40259.20253054102
        ],
        [
         "Medium",
         "High Value",
         1480,
         2.2659459459459574,
         1.2032935106999987E8,
         81303.61558783775
        ],
        [
         "Medium",
         "Low Value",
         6298,
         2.207168942521387,
         8.133677924999996E7,
         12914.69978564623
        ],
        [
         "Medium",
         "Medium Value",
         2042,
         2.2589128305583066,
         8.336838336999995E7,
         40826.82829089126
        ]
       ],
       "datasetInfos": [],
       "dbfsResultPath": null,
       "isJsonSchema": true,
       "metadata": {},
       "overflow": false,
       "plotOptions": {
        "customPlotOptions": {},
        "displayType": "table",
        "pivotAggregation": null,
        "pivotColumns": null,
        "xColumns": null,
        "yColumns": null
       },
       "removedWidgets": [],
       "schema": [
        {
         "metadata": "{}",
         "name": "risk_category",
         "type": "\"string\""
        },
        {
         "metadata": "{}",
         "name": "value_segment",
         "type": "\"string\""
        },
        {
         "metadata": "{}",
         "name": "customer_count",
         "type": "\"long\""
        },
        {
         "metadata": "{}",
         "name": "avg_risk_score",
         "type": "\"double\""
        },
        {
         "metadata": "{}",
         "name": "total_premium_segment",
         "type": "\"double\""
        },
        {
         "metadata": "{}",
         "name": "avg_premium_segment",
         "type": "\"double\""
        }
       ],
       "type": "table"
      }
     },
     "output_type": "display_data"
    },
    {
     "output_type": "stream",
     "name": "stdout",
     "output_type": "stream",
     "text": [
      "\uD83D\uDCCA Risk-Value Matrix with Percentages:\n"
     ]
    },
    {
     "output_type": "display_data",
     "data": {
      "text/html": [
       "<style scoped>\n",
       "  .table-result-container {\n",
       "    max-height: 300px;\n",
       "    overflow: auto;\n",
       "  }\n",
       "  table, th, td {\n",
       "    border: 1px solid black;\n",
       "    border-collapse: collapse;\n",
       "  }\n",
       "  th, td {\n",
       "    padding: 5px;\n",
       "  }\n",
       "  th {\n",
       "    text-align: left;\n",
       "  }\n",
       "</style><div class='table-result-container'><table class='table-result'><thead style='background-color: white'><tr><th>risk_category</th><th>value_segment</th><th>customer_count</th><th>avg_risk_score</th><th>total_premium_segment</th><th>avg_premium_segment</th><th>segment_percentage</th></tr></thead><tbody><tr><td>High</td><td>High Value</td><td>356</td><td>2.9967696629213423</td><td>3.099874985E7</td><td>87075.1400280899</td><td>2.37</td></tr><tr><td>High</td><td>Low Value</td><td>740</td><td>2.9630405405405322</td><td>1.1117616630000008E7</td><td>15023.806256756769</td><td>4.93</td></tr><tr><td>High</td><td>Medium Value</td><td>355</td><td>2.98309859154929</td><td>1.4443414429999996E7</td><td>40685.67445070422</td><td>2.37</td></tr><tr><td>Low</td><td>High Value</td><td>357</td><td>1.6607843137254916</td><td>2.850888797E7</td><td>79856.82904761905</td><td>2.38</td></tr><tr><td>Low</td><td>Low Value</td><td>2799</td><td>1.5873168988924673</td><td>2.847759842000004E7</td><td>10174.20450875314</td><td>18.66</td></tr><tr><td>Low</td><td>Medium Value</td><td>573</td><td>1.658027923211168</td><td>2.3068523050000004E7</td><td>40259.20253054102</td><td>3.82</td></tr><tr><td>Medium</td><td>High Value</td><td>1480</td><td>2.2659459459459574</td><td>1.2032935106999987E8</td><td>81303.61558783775</td><td>9.87</td></tr><tr><td>Medium</td><td>Low Value</td><td>6298</td><td>2.207168942521387</td><td>8.133677924999996E7</td><td>12914.69978564623</td><td>41.99</td></tr><tr><td>Medium</td><td>Medium Value</td><td>2042</td><td>2.2589128305583066</td><td>8.336838336999995E7</td><td>40826.82829089126</td><td>13.61</td></tr></tbody></table></div>"
      ]
     },
     "metadata": {
      "application/vnd.databricks.v1+output": {
       "addedWidgets": {},
       "aggData": [],
       "aggError": "",
       "aggOverflow": false,
       "aggSchema": [],
       "aggSeriesLimitReached": false,
       "aggType": "",
       "arguments": {},
       "columnCustomDisplayInfos": {},
       "data": [
        [
         "High",
         "High Value",
         356,
         2.9967696629213423,
         3.099874985E7,
         87075.1400280899,
         "2.37"
        ],
        [
         "High",
         "Low Value",
         740,
         2.9630405405405322,
         1.1117616630000008E7,
         15023.806256756769,
         "4.93"
        ],
        [
         "High",
         "Medium Value",
         355,
         2.98309859154929,
         1.4443414429999996E7,
         40685.67445070422,
         "2.37"
        ],
        [
         "Low",
         "High Value",
         357,
         1.6607843137254916,
         2.850888797E7,
         79856.82904761905,
         "2.38"
        ],
        [
         "Low",
         "Low Value",
         2799,
         1.5873168988924673,
         2.847759842000004E7,
         10174.20450875314,
         "18.66"
        ],
        [
         "Low",
         "Medium Value",
         573,
         1.658027923211168,
         2.3068523050000004E7,
         40259.20253054102,
         "3.82"
        ],
        [
         "Medium",
         "High Value",
         1480,
         2.2659459459459574,
         1.2032935106999987E8,
         81303.61558783775,
         "9.87"
        ],
        [
         "Medium",
         "Low Value",
         6298,
         2.207168942521387,
         8.133677924999996E7,
         12914.69978564623,
         "41.99"
        ],
        [
         "Medium",
         "Medium Value",
         2042,
         2.2589128305583066,
         8.336838336999995E7,
         40826.82829089126,
         "13.61"
        ]
       ],
       "datasetInfos": [],
       "dbfsResultPath": null,
       "isJsonSchema": true,
       "metadata": {},
       "overflow": false,
       "plotOptions": {
        "customPlotOptions": {},
        "displayType": "table",
        "pivotAggregation": null,
        "pivotColumns": null,
        "xColumns": null,
        "yColumns": null
       },
       "removedWidgets": [],
       "schema": [
        {
         "metadata": "{}",
         "name": "risk_category",
         "type": "\"string\""
        },
        {
         "metadata": "{}",
         "name": "value_segment",
         "type": "\"string\""
        },
        {
         "metadata": "{}",
         "name": "customer_count",
         "type": "\"long\""
        },
        {
         "metadata": "{}",
         "name": "avg_risk_score",
         "type": "\"double\""
        },
        {
         "metadata": "{}",
         "name": "total_premium_segment",
         "type": "\"double\""
        },
        {
         "metadata": "{}",
         "name": "avg_premium_segment",
         "type": "\"double\""
        },
        {
         "metadata": "{}",
         "name": "segment_percentage",
         "type": "\"decimal(5,2)\""
        }
       ],
       "type": "table"
      }
     },
     "output_type": "display_data"
    },
    {
     "output_type": "stream",
     "name": "stdout",
     "output_type": "stream",
     "text": [
      "\uD83D\uDCCA Risk vs Value Matrix Analysis:\n✅ Risk-value matrix analysis completed\n"
     ]
    }
   ],
   "source": [
    "# BUSINESS CONTEXT: Risk-value matrix enables strategic customer management\n",
    "# Different combinations require different strategies (retain, price, manage risk)\n",
    "\n",
    "# TODO: Create comprehensive risk-value matrix analysis\n",
    "# \n",
    "# Step 1: Create risk-value matrix\n",
    "# TODO: Group by risk_category and value_segment\n",
    "# TODO: Calculate customer_count using count(\"*\")\n",
    "# TODO: Calculate avg_risk_score using avg(\"composite_risk_score\")\n",
    "# TODO: Calculate total_premium_segment using sum(\"total_premium\")\n",
    "# TODO: Calculate avg_premium_segment using avg(\"total_premium\")\n",
    "# TODO: Order by risk_category, value_segment\n",
    "# TODO: Store result as risk_value_matrix\n",
    "risk_value_matrix = customer_risk_df.groupBy(\"risk_category\", \"value_segment\") \\\n",
    "    .agg(\n",
    "        count(\"*\").alias(\"customer_count\"),\n",
    "        avg(\"composite_risk_score\").alias(\"avg_risk_score\"),\n",
    "        sum(\"total_premium\").alias(\"total_premium_segment\"),\n",
    "        avg(\"total_premium\").alias(\"avg_premium_segment\")\n",
    "    ) \\\n",
    "    .orderBy(\"risk_category\", \"value_segment\")\n",
    "\n",
    "# \n",
    "# Step 2: Display risk-value matrix\n",
    "# TODO: Print \"\uD83D\uDCCA Risk vs Value Matrix Analysis:\"\n",
    "# TODO: Show risk_value_matrix\n",
    "print(\"\uD83D\uDCCA Risk vs Value Matrix Analysis:\")\n",
    "display(risk_value_matrix)\n",
    "\n",
    "# \n",
    "# Step 3: Calculate segment percentages\n",
    "# TODO: Add segment_percentage column to risk_value_matrix\n",
    "# TODO: Calculate as (customer_count / total_customers) * 100\n",
    "# TODO: Round to 2 decimal places\n",
    "# TODO: Print \"\uD83D\uDCCA Risk-Value Matrix with Percentages:\"\n",
    "# TODO: Show matrix with percentages\n",
    "risk_value_matrix = risk_value_matrix.withColumn(\n",
    "    \"segment_percentage\",\n",
    "    (col(\"customer_count\") / total_customers * 100).cast(\"decimal(5,2)\")\n",
    ")\n",
    "\n",
    "print(\"\uD83D\uDCCA Risk-Value Matrix with Percentages:\")\n",
    "display(risk_value_matrix)\n",
    "\n",
    "# EXPECTED OUTPUT: 9-cell matrix showing customer distribution across risk-value combinations\n",
    "# Target: High Value-Low Risk should be priority segment for retention\n",
    "\n",
    "print(\"\uD83D\uDCCA Risk vs Value Matrix Analysis:\")\n",
    "# TODO: Implement risk-value matrix analysis logic here\n",
    "print(\"✅ Risk-value matrix analysis completed\")\n"
   ]
  },
  {
   "cell_type": "markdown",
   "metadata": {
    "application/vnd.databricks.v1+cell": {
     "cellMetadata": {
      "byteLimit": 2048000,
      "rowLimit": 10000
     },
     "inputWidgets": {},
     "nuid": "94970162-7f19-4d31-84a5-330ba981d767",
     "showTitle": false,
     "tableResultSettingsMap": {},
     "title": ""
    }
   },
   "source": [
    "## 3. Policy Portfolio Analysis"
   ]
  },
  {
   "cell_type": "markdown",
   "metadata": {
    "application/vnd.databricks.v1+cell": {
     "cellMetadata": {
      "byteLimit": 2048000,
      "rowLimit": 10000
     },
     "inputWidgets": {},
     "nuid": "e34800be-f627-430e-a059-b62bf7c1b528",
     "showTitle": false,
     "tableResultSettingsMap": {},
     "title": ""
    }
   },
   "source": [
    "### 3.1 Policy Type Distribution Analysis"
   ]
  },
  {
   "cell_type": "code",
   "execution_count": 0,
   "metadata": {
    "application/vnd.databricks.v1+cell": {
     "cellMetadata": {
      "byteLimit": 2048000,
      "rowLimit": 10000
     },
     "inputWidgets": {},
     "nuid": "451d796f-471d-4e10-9831-d2f8cfac4d61",
     "showTitle": false,
     "tableResultSettingsMap": {},
     "title": ""
    }
   },
   "outputs": [
    {
     "output_type": "stream",
     "name": "stdout",
     "output_type": "stream",
     "text": [
      "\uD83D\uDCCA Policy Type Distribution:\n"
     ]
    },
    {
     "output_type": "display_data",
     "data": {
      "text/html": [
       "<style scoped>\n",
       "  .table-result-container {\n",
       "    max-height: 300px;\n",
       "    overflow: auto;\n",
       "  }\n",
       "  table, th, td {\n",
       "    border: 1px solid black;\n",
       "    border-collapse: collapse;\n",
       "  }\n",
       "  th, td {\n",
       "    padding: 5px;\n",
       "  }\n",
       "  th {\n",
       "    text-align: left;\n",
       "  }\n",
       "</style><div class='table-result-container'><table class='table-result'><thead style='background-color: white'><tr><th>policy_type</th><th>policy_count</th><th>total_premium</th><th>avg_premium</th><th>total_coverage</th><th>unique_customers</th></tr></thead><tbody><tr><td>Auto</td><td>22294</td><td>6.20115E7</td><td>2781.533147932179</td><td>3124625000</td><td>11522</td></tr><tr><td>Home</td><td>18891</td><td>2.513602778999994E7</td><td>1330.5821708750166</td><td>3263139841</td><td>10732</td></tr><tr><td>Life</td><td>15164</td><td>3.605709592000003E7</td><td>2377.809016090743</td><td>7521759620</td><td>9474</td></tr><tr><td>Health</td><td>11745</td><td>2.791752E8</td><td>23769.70625798212</td><td>3554100000</td><td>8136</td></tr><tr><td>Travel</td><td>3535</td><td>1.6036275E7</td><td>4536.428571428572</td><td>108640000</td><td>3137</td></tr><tr><td>Business</td><td>3371</td><td>3233205.3300000043</td><td>959.1235034114519</td><td>332638810</td><td>3002</td></tr></tbody></table></div>"
      ]
     },
     "metadata": {
      "application/vnd.databricks.v1+output": {
       "addedWidgets": {},
       "aggData": [],
       "aggError": "",
       "aggOverflow": false,
       "aggSchema": [],
       "aggSeriesLimitReached": false,
       "aggType": "",
       "arguments": {},
       "columnCustomDisplayInfos": {},
       "data": [
        [
         "Auto",
         22294,
         6.20115E7,
         2781.533147932179,
         3124625000,
         11522
        ],
        [
         "Home",
         18891,
         2.513602778999994E7,
         1330.5821708750166,
         3263139841,
         10732
        ],
        [
         "Life",
         15164,
         3.605709592000003E7,
         2377.809016090743,
         7521759620,
         9474
        ],
        [
         "Health",
         11745,
         2.791752E8,
         23769.70625798212,
         3554100000,
         8136
        ],
        [
         "Travel",
         3535,
         1.6036275E7,
         4536.428571428572,
         108640000,
         3137
        ],
        [
         "Business",
         3371,
         3233205.3300000043,
         959.1235034114519,
         332638810,
         3002
        ]
       ],
       "datasetInfos": [],
       "dbfsResultPath": null,
       "isJsonSchema": true,
       "metadata": {},
       "overflow": false,
       "plotOptions": {
        "customPlotOptions": {},
        "displayType": "table",
        "pivotAggregation": null,
        "pivotColumns": null,
        "xColumns": null,
        "yColumns": null
       },
       "removedWidgets": [],
       "schema": [
        {
         "metadata": "{}",
         "name": "policy_type",
         "type": "\"string\""
        },
        {
         "metadata": "{}",
         "name": "policy_count",
         "type": "\"long\""
        },
        {
         "metadata": "{}",
         "name": "total_premium",
         "type": "\"double\""
        },
        {
         "metadata": "{}",
         "name": "avg_premium",
         "type": "\"double\""
        },
        {
         "metadata": "{}",
         "name": "total_coverage",
         "type": "\"long\""
        },
        {
         "metadata": "{}",
         "name": "unique_customers",
         "type": "\"long\""
        }
       ],
       "type": "table"
      }
     },
     "output_type": "display_data"
    },
    {
     "output_type": "stream",
     "name": "stdout",
     "output_type": "stream",
     "text": [
      "\uD83D\uDCCA Policy Type Analysis with Percentages:\n"
     ]
    },
    {
     "output_type": "display_data",
     "data": {
      "text/html": [
       "<style scoped>\n",
       "  .table-result-container {\n",
       "    max-height: 300px;\n",
       "    overflow: auto;\n",
       "  }\n",
       "  table, th, td {\n",
       "    border: 1px solid black;\n",
       "    border-collapse: collapse;\n",
       "  }\n",
       "  th, td {\n",
       "    padding: 5px;\n",
       "  }\n",
       "  th {\n",
       "    text-align: left;\n",
       "  }\n",
       "</style><div class='table-result-container'><table class='table-result'><thead style='background-color: white'><tr><th>policy_type</th><th>policy_count</th><th>total_premium</th><th>avg_premium</th><th>total_coverage</th><th>unique_customers</th><th>policy_percentage</th><th>premium_percentage</th></tr></thead><tbody><tr><td>Auto</td><td>22294</td><td>6.20115E7</td><td>2781.533147932179</td><td>3124625000</td><td>11522</td><td>29.73</td><td>14.71</td></tr><tr><td>Home</td><td>18891</td><td>2.513602778999994E7</td><td>1330.5821708750166</td><td>3263139841</td><td>10732</td><td>25.19</td><td>5.96</td></tr><tr><td>Life</td><td>15164</td><td>3.605709592000003E7</td><td>2377.809016090743</td><td>7521759620</td><td>9474</td><td>20.22</td><td>8.55</td></tr><tr><td>Health</td><td>11745</td><td>2.791752E8</td><td>23769.70625798212</td><td>3554100000</td><td>8136</td><td>15.66</td><td>66.21</td></tr><tr><td>Travel</td><td>3535</td><td>1.6036275E7</td><td>4536.428571428572</td><td>108640000</td><td>3137</td><td>4.71</td><td>3.80</td></tr><tr><td>Business</td><td>3371</td><td>3233205.3300000043</td><td>959.1235034114519</td><td>332638810</td><td>3002</td><td>4.49</td><td>0.77</td></tr></tbody></table></div>"
      ]
     },
     "metadata": {
      "application/vnd.databricks.v1+output": {
       "addedWidgets": {},
       "aggData": [],
       "aggError": "",
       "aggOverflow": false,
       "aggSchema": [],
       "aggSeriesLimitReached": false,
       "aggType": "",
       "arguments": {},
       "columnCustomDisplayInfos": {},
       "data": [
        [
         "Auto",
         22294,
         6.20115E7,
         2781.533147932179,
         3124625000,
         11522,
         "29.73",
         "14.71"
        ],
        [
         "Home",
         18891,
         2.513602778999994E7,
         1330.5821708750166,
         3263139841,
         10732,
         "25.19",
         "5.96"
        ],
        [
         "Life",
         15164,
         3.605709592000003E7,
         2377.809016090743,
         7521759620,
         9474,
         "20.22",
         "8.55"
        ],
        [
         "Health",
         11745,
         2.791752E8,
         23769.70625798212,
         3554100000,
         8136,
         "15.66",
         "66.21"
        ],
        [
         "Travel",
         3535,
         1.6036275E7,
         4536.428571428572,
         108640000,
         3137,
         "4.71",
         "3.80"
        ],
        [
         "Business",
         3371,
         3233205.3300000043,
         959.1235034114519,
         332638810,
         3002,
         "4.49",
         "0.77"
        ]
       ],
       "datasetInfos": [],
       "dbfsResultPath": null,
       "isJsonSchema": true,
       "metadata": {},
       "overflow": false,
       "plotOptions": {
        "customPlotOptions": {},
        "displayType": "table",
        "pivotAggregation": null,
        "pivotColumns": null,
        "xColumns": null,
        "yColumns": null
       },
       "removedWidgets": [],
       "schema": [
        {
         "metadata": "{}",
         "name": "policy_type",
         "type": "\"string\""
        },
        {
         "metadata": "{}",
         "name": "policy_count",
         "type": "\"long\""
        },
        {
         "metadata": "{}",
         "name": "total_premium",
         "type": "\"double\""
        },
        {
         "metadata": "{}",
         "name": "avg_premium",
         "type": "\"double\""
        },
        {
         "metadata": "{}",
         "name": "total_coverage",
         "type": "\"long\""
        },
        {
         "metadata": "{}",
         "name": "unique_customers",
         "type": "\"long\""
        },
        {
         "metadata": "{}",
         "name": "policy_percentage",
         "type": "\"decimal(5,2)\""
        },
        {
         "metadata": "{}",
         "name": "premium_percentage",
         "type": "\"decimal(5,2)\""
        }
       ],
       "type": "table"
      }
     },
     "output_type": "display_data"
    },
    {
     "output_type": "stream",
     "name": "stdout",
     "output_type": "stream",
     "text": [
      "\uD83D\uDCCB Analyzing policy portfolio...\n✅ Policy type distribution analysis completed\n"
     ]
    }
   ],
   "source": [
    "# BUSINESS CONTEXT: Policy mix analysis reveals portfolio composition and growth opportunities\n",
    "# Understanding policy preferences helps optimize product offerings and pricing\n",
    "\n",
    "# TODO: Analyze policy type distribution across the portfolio\n",
    "# \n",
    "# Step 1: Calculate policy type metrics\n",
    "# TODO: Group policies_df by \"policy_type\"\n",
    "# TODO: Calculate policy_count using count(\"*\")\n",
    "# TODO: Calculate total_premium using sum(\"premium_amount\")\n",
    "# TODO: Calculate avg_premium using avg(\"premium_amount\")\n",
    "# TODO: Calculate total_coverage using sum(\"coverage_amount\")\n",
    "# TODO: Calculate unique_customers using countDistinct(\"customer_id\")\n",
    "# TODO: Order by policy_count descending\n",
    "# TODO: Store result as policy_type_dist\n",
    "policy_type_dist = policies_df.groupBy(\"policy_type\") \\\n",
    "    .agg(\n",
    "        count(\"*\").alias(\"policy_count\"),\n",
    "        sum(\"premium_amount\").alias(\"total_premium\"),\n",
    "        avg(\"premium_amount\").alias(\"avg_premium\"),\n",
    "        sum(\"coverage_amount\").alias(\"total_coverage\"),\n",
    "        countDistinct(\"customer_id\").alias(\"unique_customers\")\n",
    "    ) \\\n",
    "    .orderBy(\"policy_count\", ascending=False)\n",
    "\n",
    "# \n",
    "# Step 2: Display policy type distribution\n",
    "# TODO: Print \"\uD83D\uDCCA Policy Type Distribution:\"\n",
    "# TODO: Show policy_type_dist\n",
    "print(\"\uD83D\uDCCA Policy Type Distribution:\")\n",
    "display(policy_type_dist)\n",
    "\n",
    "# \n",
    "# Step 3: Calculate policy type percentages\n",
    "# TODO: Get total_policies using policies_df.count()\n",
    "# TODO: Add policy_percentage column: (policy_count / total_policies) * 100\n",
    "# TODO: Calculate total_premium_all = sum of all total_premium values\n",
    "# TODO: Add premium_percentage column: (total_premium / total_premium_all) * 100\n",
    "# TODO: Round both percentages to 2 decimal places\n",
    "# TODO: Print \"\uD83D\uDCCA Policy Type Analysis with Percentages:\"\n",
    "# TODO: Show policy_type_dist with percentages\n",
    "total_policies = policies_df.count()\n",
    "total_premium_all = policy_type_dist.agg(sum(\"total_premium\")).collect()[0][0]\n",
    "\n",
    "policy_type_dist = policy_type_dist.withColumn(\n",
    "    \"policy_percentage\",\n",
    "    (col(\"policy_count\") / total_policies * 100).cast(\"decimal(5,2)\")\n",
    ").withColumn(\n",
    "    \"premium_percentage\",\n",
    "    (col(\"total_premium\") / total_premium_all * 100).cast(\"decimal(5,2)\")\n",
    ")\n",
    "\n",
    "print(\"\uD83D\uDCCA Policy Type Analysis with Percentages:\")\n",
    "display(policy_type_dist)\n",
    "\n",
    "# EXPECTED OUTPUT: Policy types ranked by count with premium percentages\n",
    "# Target: Auto (30%), Home (25%), Life (20%), Health (15%), Other (10%)\n",
    "\n",
    "print(\"\uD83D\uDCCB Analyzing policy portfolio...\")\n",
    "# TODO: Implement policy type distribution analysis logic here\n",
    "print(\"✅ Policy type distribution analysis completed\")"
   ]
  },
  {
   "cell_type": "markdown",
   "metadata": {
    "application/vnd.databricks.v1+cell": {
     "cellMetadata": {
      "byteLimit": 2048000,
      "rowLimit": 10000
     },
     "inputWidgets": {},
     "nuid": "90a365e7-e541-4851-9ef0-647f0caa75f3",
     "showTitle": false,
     "tableResultSettingsMap": {},
     "title": ""
    }
   },
   "source": [
    "### 3.2 Cross-Selling Opportunity Analysis"
   ]
  },
  {
   "cell_type": "code",
   "execution_count": 0,
   "metadata": {
    "application/vnd.databricks.v1+cell": {
     "cellMetadata": {
      "byteLimit": 2048000,
      "rowLimit": 10000
     },
     "inputWidgets": {},
     "nuid": "24e435df-81ac-4781-890e-f98f96f5f5bb",
     "showTitle": false,
     "tableResultSettingsMap": {},
     "title": ""
    }
   },
   "outputs": [
    {
     "output_type": "stream",
     "name": "stdout",
     "output_type": "stream",
     "text": [
      "\uD83D\uDCCA Customer Distribution by Policy Diversity:\n"
     ]
    },
    {
     "output_type": "display_data",
     "data": {
      "text/html": [
       "<style scoped>\n",
       "  .table-result-container {\n",
       "    max-height: 300px;\n",
       "    overflow: auto;\n",
       "  }\n",
       "  table, th, td {\n",
       "    border: 1px solid black;\n",
       "    border-collapse: collapse;\n",
       "  }\n",
       "  th, td {\n",
       "    padding: 5px;\n",
       "  }\n",
       "  th {\n",
       "    text-align: left;\n",
       "  }\n",
       "</style><div class='table-result-container'><table class='table-result'><thead style='background-color: white'><tr><th>policy_types_count</th><th>customer_count</th><th>avg_premium</th><th>avg_risk_score</th></tr></thead><tbody><tr><td>0</td><td>95</td><td>0.0</td><td>1.2505263157894735</td></tr><tr><td>1</td><td>925</td><td>7673.173297297296</td><td>1.8012432432432426</td></tr><tr><td>2</td><td>3403</td><td>17445.977660887453</td><td>2.0477079047899234</td></tr><tr><td>3</td><td>5426</td><td>26825.77469037956</td><td>2.1681994102469444</td></tr><tr><td>4</td><td>3879</td><td>38646.89687548336</td><td>2.24248517659194</td></tr><tr><td>5</td><td>1154</td><td>46244.94351819761</td><td>2.3188041594454094</td></tr><tr><td>6</td><td>118</td><td>53799.36855932204</td><td>2.363983050847458</td></tr></tbody></table></div>"
      ]
     },
     "metadata": {
      "application/vnd.databricks.v1+output": {
       "addedWidgets": {},
       "aggData": [],
       "aggError": "",
       "aggOverflow": false,
       "aggSchema": [],
       "aggSeriesLimitReached": false,
       "aggType": "",
       "arguments": {},
       "columnCustomDisplayInfos": {},
       "data": [
        [
         0,
         95,
         0.0,
         1.2505263157894735
        ],
        [
         1,
         925,
         7673.173297297296,
         1.8012432432432426
        ],
        [
         2,
         3403,
         17445.977660887453,
         2.0477079047899234
        ],
        [
         3,
         5426,
         26825.77469037956,
         2.1681994102469444
        ],
        [
         4,
         3879,
         38646.89687548336,
         2.24248517659194
        ],
        [
         5,
         1154,
         46244.94351819761,
         2.3188041594454094
        ],
        [
         6,
         118,
         53799.36855932204,
         2.363983050847458
        ]
       ],
       "datasetInfos": [],
       "dbfsResultPath": null,
       "isJsonSchema": true,
       "metadata": {},
       "overflow": false,
       "plotOptions": {
        "customPlotOptions": {},
        "displayType": "table",
        "pivotAggregation": null,
        "pivotColumns": null,
        "xColumns": null,
        "yColumns": null
       },
       "removedWidgets": [],
       "schema": [
        {
         "metadata": "{}",
         "name": "policy_types_count",
         "type": "\"long\""
        },
        {
         "metadata": "{}",
         "name": "customer_count",
         "type": "\"long\""
        },
        {
         "metadata": "{}",
         "name": "avg_premium",
         "type": "\"double\""
        },
        {
         "metadata": "{}",
         "name": "avg_risk_score",
         "type": "\"double\""
        }
       ],
       "type": "table"
      }
     },
     "output_type": "display_data"
    },
    {
     "output_type": "stream",
     "name": "stdout",
     "output_type": "stream",
     "text": [
      "\uD83C\uDFAF Cross-Selling Opportunities:\n   Single Policy Customers: 925 (6.2%)\n   Multi-Policy Customers: 13,980\n\uD83C\uDFAF High-Value Single Policy Customers (Priority Targets): 58\n\uD83C\uDFAF Identifying cross-selling opportunities...\n✅ Cross-selling opportunity analysis completed.\n"
     ]
    }
   ],
   "source": [
    "# BUSINESS CONTEXT: Cross-selling increases customer lifetime value and reduces churn\n",
    "# Single-policy customers represent the highest cross-selling potential\n",
    "\n",
    "# TODO: Identify cross-selling opportunities based on policy diversity\n",
    "# \n",
    "# Step 1: Analyze customers by policy diversity\n",
    "# TODO: Group customer_risk_df by \"policy_types_count\"\n",
    "# TODO: Calculate customer_count using count(\"*\")\n",
    "# TODO: Calculate avg_premium using avg(\"total_premium\")\n",
    "# TODO: Calculate avg_risk_score using avg(\"composite_risk_score\")\n",
    "# TODO: Order by policy_types_count\n",
    "# TODO: Store result as policy_diversity\n",
    "policy_diversity = customer_risk_df.groupBy(\"policy_types_count\") \\\n",
    "    .agg(\n",
    "        count(\"*\").alias(\"customer_count\"),\n",
    "        avg(\"total_premium\").alias(\"avg_premium\"),\n",
    "        avg(\"composite_risk_score\").alias(\"avg_risk_score\")\n",
    "    ) \\\n",
    "    .orderBy(\"policy_types_count\")\n",
    "\n",
    "# \n",
    "# Step 2: Display policy diversity analysis\n",
    "# TODO: Print \"\uD83D\uDCCA Customer Distribution by Policy Diversity:\"\n",
    "# TODO: Show policy_diversity\n",
    "print(\"\uD83D\uDCCA Customer Distribution by Policy Diversity:\")\n",
    "display(policy_diversity)\n",
    "\n",
    "# \n",
    "# Step 3: Identify cross-selling opportunities\n",
    "# TODO: Filter customer_risk_df for policy_types_count == 1, store as single_policy_customers\n",
    "# TODO: Filter customer_risk_df for policy_types_count > 1, store as multi_policy_customers\n",
    "# TODO: Calculate cross_sell_opportunity = single_policy_customers.count()\n",
    "# TODO: Calculate cross_sell_percentage = (cross_sell_opportunity / total_customers) * 100\n",
    "single_policy_customers = customer_risk_df.filter(col(\"policy_types_count\") == 1)\n",
    "multi_policy_customers = customer_risk_df.filter(col(\"policy_types_count\") > 1)\n",
    "cross_sell_opportunity = single_policy_customers.count()\n",
    "cross_sell_percentage = (cross_sell_opportunity / total_customers) * 100\n",
    "\n",
    "# \n",
    "# Step 4: Display cross-selling insights\n",
    "# TODO: Print \"\uD83C\uDFAF Cross-Selling Opportunities:\"\n",
    "# TODO: Print f\"   Single Policy Customers: {cross_sell_opportunity:,} ({cross_sell_percentage:.1f}%)\"\n",
    "# TODO: Print f\"   Multi-Policy Customers: {multi_policy_customers.count():,}\"\n",
    "print(\"\uD83C\uDFAF Cross-Selling Opportunities:\")\n",
    "print(f\"   Single Policy Customers: {cross_sell_opportunity:,} ({cross_sell_percentage:.1f}%)\")\n",
    "print(f\"   Multi-Policy Customers: {multi_policy_customers.count():,}\")\n",
    "\n",
    "# \n",
    "# Step 5: Identify high-value cross-selling targets\n",
    "# TODO: Filter single_policy_customers for value_segment != \"Low Value\"\n",
    "# TODO: Select: customer_id, risk_category, value_segment, total_premium, policy_types_count\n",
    "# TODO: Store as high_value_single_policy\n",
    "# TODO: Print f\"\uD83C\uDFAF High-Value Single Policy Customers (Priority Targets): {high_value_single_policy.count():,}\"\n",
    "high_value_single_policy = single_policy_customers.filter(col(\"value_segment\") != \"Low Value\") \\\n",
    "    .select(\"customer_id\", \"risk_category\", \"value_segment\", \"total_premium\", \"policy_types_count\")\n",
    "\n",
    "print(f\"\uD83C\uDFAF High-Value Single Policy Customers (Priority Targets): {high_value_single_policy.count():,}\")\n",
    "\n",
    "# EXPECTED OUTPUT: Cross-selling opportunity analysis with priority targets identified\n",
    "# Target: 60% single-policy customers with 15-20% being high-value targets\n",
    "\n",
    "print(\"\uD83C\uDFAF Identifying cross-selling opportunities...\")\n",
    "\n",
    "# TODO: Implement cross-selling opportunity analysis logic here\n",
    "print(\"✅ Cross-selling opportunity analysis completed.\")"
   ]
  },
  {
   "cell_type": "markdown",
   "metadata": {
    "application/vnd.databricks.v1+cell": {
     "cellMetadata": {
      "byteLimit": 2048000,
      "rowLimit": 10000
     },
     "inputWidgets": {},
     "nuid": "576f3204-23b7-45f4-88c9-b5f87ac29a68",
     "showTitle": false,
     "tableResultSettingsMap": {},
     "title": ""
    }
   },
   "source": [
    "### 3.3 Portfolio Risk Concentration"
   ]
  },
  {
   "cell_type": "code",
   "execution_count": 0,
   "metadata": {
    "application/vnd.databricks.v1+cell": {
     "cellMetadata": {
      "byteLimit": 2048000,
      "rowLimit": 10000
     },
     "inputWidgets": {},
     "nuid": "29c805e1-e93e-4aa5-9d96-83555435ce34",
     "showTitle": false,
     "tableResultSettingsMap": {},
     "title": ""
    }
   },
   "outputs": [
    {
     "output_type": "stream",
     "name": "stdout",
     "output_type": "stream",
     "text": [
      "\uD83D\uDCCA Portfolio Risk Distribution by Policy Type:\n"
     ]
    },
    {
     "output_type": "display_data",
     "data": {
      "text/html": [
       "<style scoped>\n",
       "  .table-result-container {\n",
       "    max-height: 300px;\n",
       "    overflow: auto;\n",
       "  }\n",
       "  table, th, td {\n",
       "    border: 1px solid black;\n",
       "    border-collapse: collapse;\n",
       "  }\n",
       "  th, td {\n",
       "    padding: 5px;\n",
       "  }\n",
       "  th {\n",
       "    text-align: left;\n",
       "  }\n",
       "</style><div class='table-result-container'><table class='table-result'><thead style='background-color: white'><tr><th>policy_type</th><th>risk_category</th><th>policy_count</th><th>total_premium</th><th>avg_premium</th></tr></thead><tbody><tr><td>Auto</td><td>High</td><td>2956</td><td>9258650.0</td><td>3132.154939106901</td></tr><tr><td>Auto</td><td>Low</td><td>4346</td><td>1.10136E7</td><td>2534.1923607915323</td></tr><tr><td>Auto</td><td>Medium</td><td>14992</td><td>4.173925E7</td><td>2784.1015208110994</td></tr><tr><td>Business</td><td>High</td><td>410</td><td>354922.2799999998</td><td>865.6640975609752</td></tr><tr><td>Business</td><td>Low</td><td>688</td><td>750685.4099999995</td><td>1091.1125145348828</td></tr><tr><td>Business</td><td>Medium</td><td>2273</td><td>2127597.640000003</td><td>936.0306379234505</td></tr><tr><td>Health</td><td>High</td><td>1446</td><td>3.859E7</td><td>26687.413554633473</td></tr><tr><td>Health</td><td>Low</td><td>2299</td><td>5.15076E7</td><td>22404.34971726838</td></tr><tr><td>Health</td><td>Medium</td><td>8000</td><td>1.890776E8</td><td>23634.7</td></tr><tr><td>Home</td><td>High</td><td>2036</td><td>2528344.5399999996</td><td>1241.8195186640469</td></tr><tr><td>Home</td><td>Low</td><td>4031</td><td>5823613.3700000085</td><td>1444.7068643016642</td></tr><tr><td>Home</td><td>Medium</td><td>12824</td><td>1.6784069879999995E7</td><td>1308.8014566437926</td></tr><tr><td>Life</td><td>High</td><td>1613</td><td>3574039.09</td><td>2215.7712895226286</td></tr><tr><td>Life</td><td>Low</td><td>3098</td><td>8032335.659999994</td><td>2592.748760490637</td></tr><tr><td>Life</td><td>Medium</td><td>10453</td><td>2.44507211700001E7</td><td>2339.1104151918203</td></tr><tr><td>Travel</td><td>High</td><td>455</td><td>2253825.0</td><td>4953.461538461538</td></tr><tr><td>Travel</td><td>Low</td><td>718</td><td>2927175.0</td><td>4076.8454038997215</td></tr><tr><td>Travel</td><td>Medium</td><td>2362</td><td>1.0855275E7</td><td>4595.798052497883</td></tr></tbody></table></div>"
      ]
     },
     "metadata": {
      "application/vnd.databricks.v1+output": {
       "addedWidgets": {},
       "aggData": [],
       "aggError": "",
       "aggOverflow": false,
       "aggSchema": [],
       "aggSeriesLimitReached": false,
       "aggType": "",
       "arguments": {},
       "columnCustomDisplayInfos": {},
       "data": [
        [
         "Auto",
         "High",
         2956,
         9258650.0,
         3132.154939106901
        ],
        [
         "Auto",
         "Low",
         4346,
         1.10136E7,
         2534.1923607915323
        ],
        [
         "Auto",
         "Medium",
         14992,
         4.173925E7,
         2784.1015208110994
        ],
        [
         "Business",
         "High",
         410,
         354922.2799999998,
         865.6640975609752
        ],
        [
         "Business",
         "Low",
         688,
         750685.4099999995,
         1091.1125145348828
        ],
        [
         "Business",
         "Medium",
         2273,
         2127597.640000003,
         936.0306379234505
        ],
        [
         "Health",
         "High",
         1446,
         3.859E7,
         26687.413554633473
        ],
        [
         "Health",
         "Low",
         2299,
         5.15076E7,
         22404.34971726838
        ],
        [
         "Health",
         "Medium",
         8000,
         1.890776E8,
         23634.7
        ],
        [
         "Home",
         "High",
         2036,
         2528344.5399999996,
         1241.8195186640469
        ],
        [
         "Home",
         "Low",
         4031,
         5823613.3700000085,
         1444.7068643016642
        ],
        [
         "Home",
         "Medium",
         12824,
         1.6784069879999995E7,
         1308.8014566437926
        ],
        [
         "Life",
         "High",
         1613,
         3574039.09,
         2215.7712895226286
        ],
        [
         "Life",
         "Low",
         3098,
         8032335.659999994,
         2592.748760490637
        ],
        [
         "Life",
         "Medium",
         10453,
         2.44507211700001E7,
         2339.1104151918203
        ],
        [
         "Travel",
         "High",
         455,
         2253825.0,
         4953.461538461538
        ],
        [
         "Travel",
         "Low",
         718,
         2927175.0,
         4076.8454038997215
        ],
        [
         "Travel",
         "Medium",
         2362,
         1.0855275E7,
         4595.798052497883
        ]
       ],
       "datasetInfos": [],
       "dbfsResultPath": null,
       "isJsonSchema": true,
       "metadata": {},
       "overflow": false,
       "plotOptions": {
        "customPlotOptions": {},
        "displayType": "table",
        "pivotAggregation": null,
        "pivotColumns": null,
        "xColumns": null,
        "yColumns": null
       },
       "removedWidgets": [],
       "schema": [
        {
         "metadata": "{}",
         "name": "policy_type",
         "type": "\"string\""
        },
        {
         "metadata": "{}",
         "name": "risk_category",
         "type": "\"string\""
        },
        {
         "metadata": "{}",
         "name": "policy_count",
         "type": "\"long\""
        },
        {
         "metadata": "{}",
         "name": "total_premium",
         "type": "\"double\""
        },
        {
         "metadata": "{}",
         "name": "avg_premium",
         "type": "\"double\""
        }
       ],
       "type": "table"
      }
     },
     "output_type": "display_data"
    },
    {
     "output_type": "stream",
     "name": "stdout",
     "output_type": "stream",
     "text": [
      "\uD83D\uDCCA Geographic Risk Concentration (Top 10 States):\n"
     ]
    },
    {
     "output_type": "display_data",
     "data": {
      "text/html": [
       "<style scoped>\n",
       "  .table-result-container {\n",
       "    max-height: 300px;\n",
       "    overflow: auto;\n",
       "  }\n",
       "  table, th, td {\n",
       "    border: 1px solid black;\n",
       "    border-collapse: collapse;\n",
       "  }\n",
       "  th, td {\n",
       "    padding: 5px;\n",
       "  }\n",
       "  th {\n",
       "    text-align: left;\n",
       "  }\n",
       "</style><div class='table-result-container'><table class='table-result'><thead style='background-color: white'><tr><th>state</th><th>customer_count</th><th>avg_risk_score</th><th>total_premium_state</th></tr></thead><tbody><tr><td>TX</td><td>810</td><td>2.1399382716049287</td><td>2.3185063130000014E7</td></tr><tr><td>MD</td><td>808</td><td>2.1318069306930627</td><td>2.207469531999996E7</td></tr><tr><td>WI</td><td>793</td><td>2.1291929382093215</td><td>2.1409773020000014E7</td></tr><tr><td>GA</td><td>780</td><td>2.1362820512820435</td><td>2.2613244829999994E7</td></tr><tr><td>VA</td><td>772</td><td>2.1332901554404042</td><td>2.219410554E7</td></tr><tr><td>MI</td><td>768</td><td>2.137369791666657</td><td>2.0553832939999975E7</td></tr><tr><td>WA</td><td>764</td><td>2.112827225130881</td><td>2.1797787420000028E7</td></tr><tr><td>NC</td><td>761</td><td>2.1775952693823837</td><td>2.1835939299999986E7</td></tr><tr><td>FL</td><td>761</td><td>2.13370565045991</td><td>2.1698692719999984E7</td></tr><tr><td>MO</td><td>739</td><td>2.1675913396481636</td><td>2.1904800449999966E7</td></tr></tbody></table></div>"
      ]
     },
     "metadata": {
      "application/vnd.databricks.v1+output": {
       "addedWidgets": {},
       "aggData": [],
       "aggError": "",
       "aggOverflow": false,
       "aggSchema": [],
       "aggSeriesLimitReached": false,
       "aggType": "",
       "arguments": {},
       "columnCustomDisplayInfos": {},
       "data": [
        [
         "TX",
         810,
         2.1399382716049287,
         2.3185063130000014E7
        ],
        [
         "MD",
         808,
         2.1318069306930627,
         2.207469531999996E7
        ],
        [
         "WI",
         793,
         2.1291929382093215,
         2.1409773020000014E7
        ],
        [
         "GA",
         780,
         2.1362820512820435,
         2.2613244829999994E7
        ],
        [
         "VA",
         772,
         2.1332901554404042,
         2.219410554E7
        ],
        [
         "MI",
         768,
         2.137369791666657,
         2.0553832939999975E7
        ],
        [
         "WA",
         764,
         2.112827225130881,
         2.1797787420000028E7
        ],
        [
         "NC",
         761,
         2.1775952693823837,
         2.1835939299999986E7
        ],
        [
         "FL",
         761,
         2.13370565045991,
         2.1698692719999984E7
        ],
        [
         "MO",
         739,
         2.1675913396481636,
         2.1904800449999966E7
        ]
       ],
       "datasetInfos": [],
       "dbfsResultPath": null,
       "isJsonSchema": true,
       "metadata": {},
       "overflow": false,
       "plotOptions": {
        "customPlotOptions": {},
        "displayType": "table",
        "pivotAggregation": null,
        "pivotColumns": null,
        "xColumns": null,
        "yColumns": null
       },
       "removedWidgets": [],
       "schema": [
        {
         "metadata": "{}",
         "name": "state",
         "type": "\"string\""
        },
        {
         "metadata": "{}",
         "name": "customer_count",
         "type": "\"long\""
        },
        {
         "metadata": "{}",
         "name": "avg_risk_score",
         "type": "\"double\""
        },
        {
         "metadata": "{}",
         "name": "total_premium_state",
         "type": "\"double\""
        }
       ],
       "type": "table"
      }
     },
     "output_type": "display_data"
    },
    {
     "output_type": "stream",
     "name": "stdout",
     "output_type": "stream",
     "text": [
      "⚖️ Analyzing portfolio risk concentration...\n✅ Portfolio risk concentration analysis completed.\n"
     ]
    }
   ],
   "source": [
    "# BUSINESS CONTEXT: Risk concentration analysis helps identify portfolio vulnerabilities\n",
    "# Geographic and policy type concentration can amplify losses during adverse events\n",
    "\n",
    "# TODO: Analyze portfolio risk concentration by policy type and geography\n",
    "# \n",
    "# Step 1: Analyze risk concentration by policy type\n",
    "# TODO: Join policies_df with customer_risk_df on \"customer_id\"\n",
    "# TODO: Select customer_id, risk_category, composite_risk_score from customer_risk_df\n",
    "# TODO: Group by policy_type and risk_category\n",
    "# TODO: Calculate policy_count using count(\"*\")\n",
    "# TODO: Calculate total_premium using sum(\"premium_amount\")\n",
    "# TODO: Calculate avg_premium using avg(\"premium_amount\")\n",
    "# TODO: Order by policy_type, risk_category\n",
    "# TODO: Store result as policy_risk_analysis\n",
    "policy_risk_analysis = policies_df.join(customer_risk_df, \"customer_id\") \\\n",
    "    .groupBy(\"policy_type\", \"risk_category\") \\\n",
    "    .agg(\n",
    "        count(\"*\").alias(\"policy_count\"),\n",
    "        sum(\"premium_amount\").alias(\"total_premium\"),\n",
    "        avg(\"premium_amount\").alias(\"avg_premium\")\n",
    "    ) \\\n",
    "    .orderBy(\"policy_type\", \"risk_category\")\n",
    "\n",
    "# \n",
    "# Step 2: Display policy risk analysis\n",
    "# TODO: Print \"\uD83D\uDCCA Portfolio Risk Distribution by Policy Type:\"\n",
    "# TODO: Show policy_risk_analysis\n",
    "print(\"\uD83D\uDCCA Portfolio Risk Distribution by Policy Type:\")\n",
    "display(policy_risk_analysis)\n",
    "\n",
    "# \n",
    "# Step 3: Analyze geographic risk concentration\n",
    "# TODO: Group customer_risk_df by \"state\"\n",
    "# TODO: Calculate customer_count using count(\"*\")\n",
    "# TODO: Calculate avg_risk_score using avg(\"composite_risk_score\")\n",
    "# TODO: Calculate total_premium_state using sum(\"total_premium\")\n",
    "# TODO: Order by customer_count descending\n",
    "# TODO: Store result as geographic_risk\n",
    "geographic_risk = customer_risk_df.groupBy(\"state\") \\\n",
    "    .agg(\n",
    "        count(\"*\").alias(\"customer_count\"),\n",
    "        avg(\"composite_risk_score\").alias(\"avg_risk_score\"),\n",
    "        sum(\"total_premium\").alias(\"total_premium_state\")\n",
    "    ) \\\n",
    "    .orderBy(\"customer_count\", ascending=False)\n",
    "\n",
    "# \n",
    "# Step 4: Display geographic risk concentration\n",
    "# TODO: Print \"\uD83D\uDCCA Geographic Risk Concentration (Top 10 States):\"\n",
    "# TODO: Show top 10 states using geographic_risk.show(10)\n",
    "print(\"\uD83D\uDCCA Geographic Risk Concentration (Top 10 States):\")\n",
    "display(geographic_risk.limit(10))\n",
    "\n",
    "# EXPECTED OUTPUT: Risk concentration analysis by policy type and state\n",
    "# Target: Identify states/policy types with high risk concentration\n",
    "\n",
    "print(\"⚖️ Analyzing portfolio risk concentration...\")\n",
    "\n",
    "# TODO: Implement portfolio risk concentration analysis logic here\n",
    "print(\"✅ Portfolio risk concentration analysis completed.\")"
   ]
  },
  {
   "cell_type": "markdown",
   "metadata": {
    "application/vnd.databricks.v1+cell": {
     "cellMetadata": {
      "byteLimit": 2048000,
      "rowLimit": 10000
     },
     "inputWidgets": {},
     "nuid": "074e1454-59d8-480f-95cc-0a2d7e2c1a1b",
     "showTitle": false,
     "tableResultSettingsMap": {},
     "title": ""
    }
   },
   "source": [
    "## 4. Temporal Pattern Analysis"
   ]
  },
  {
   "cell_type": "markdown",
   "metadata": {
    "application/vnd.databricks.v1+cell": {
     "cellMetadata": {
      "byteLimit": 2048000,
      "rowLimit": 10000
     },
     "inputWidgets": {},
     "nuid": "17398cf0-3ddd-488e-a931-16e4b0703456",
     "showTitle": false,
     "tableResultSettingsMap": {},
     "title": ""
    }
   },
   "source": [
    "### 4.1 Seasonal Claims Patterns"
   ]
  },
  {
   "cell_type": "code",
   "execution_count": 0,
   "metadata": {
    "application/vnd.databricks.v1+cell": {
     "cellMetadata": {
      "byteLimit": 2048000,
      "rowLimit": 10000
     },
     "inputWidgets": {},
     "nuid": "7b1a83da-6c22-4c13-a47b-c2ca88eeb291",
     "showTitle": false,
     "tableResultSettingsMap": {},
     "title": ""
    }
   },
   "outputs": [
    {
     "output_type": "stream",
     "name": "stdout",
     "output_type": "stream",
     "text": [
      "\uD83D\uDCCA Monthly Claims Pattern:\n"
     ]
    },
    {
     "output_type": "display_data",
     "data": {
      "text/html": [
       "<style scoped>\n",
       "  .table-result-container {\n",
       "    max-height: 300px;\n",
       "    overflow: auto;\n",
       "  }\n",
       "  table, th, td {\n",
       "    border: 1px solid black;\n",
       "    border-collapse: collapse;\n",
       "  }\n",
       "  th, td {\n",
       "    padding: 5px;\n",
       "  }\n",
       "  th {\n",
       "    text-align: left;\n",
       "  }\n",
       "</style><div class='table-result-container'><table class='table-result'><thead style='background-color: white'><tr><th>claim_month</th><th>claims_count</th><th>total_claim_amount</th><th>avg_claim_amount</th></tr></thead><tbody><tr><td>1</td><td>849</td><td>1.038257335800001E8</td><td>122291.79455830401</td></tr><tr><td>2</td><td>832</td><td>1.0437907649999997E8</td><td>125455.62079326919</td></tr><tr><td>3</td><td>972</td><td>1.2181834916000003E8</td><td>125327.51971193419</td></tr><tr><td>4</td><td>982</td><td>1.1091925937000005E8</td><td>112952.40261710799</td></tr><tr><td>5</td><td>1182</td><td>1.4780195363999993E8</td><td>125043.95401015223</td></tr><tr><td>6</td><td>1337</td><td>1.6001307719000006E8</td><td>119680.68600598359</td></tr><tr><td>7</td><td>791</td><td>8.153647679000004E7</td><td>103080.24878634645</td></tr><tr><td>8</td><td>711</td><td>8.079758383999991E7</td><td>113639.35842475375</td></tr><tr><td>9</td><td>697</td><td>8.136679335E7</td><td>116738.5844332855</td></tr><tr><td>10</td><td>770</td><td>9.467202950000004E7</td><td>122950.68766233772</td></tr><tr><td>11</td><td>738</td><td>8.108266671999998E7</td><td>109868.11208672085</td></tr><tr><td>12</td><td>782</td><td>8.420780935999998E7</td><td>107682.62066496162</td></tr></tbody></table></div>"
      ]
     },
     "metadata": {
      "application/vnd.databricks.v1+output": {
       "addedWidgets": {},
       "aggData": [],
       "aggError": "",
       "aggOverflow": false,
       "aggSchema": [],
       "aggSeriesLimitReached": false,
       "aggType": "",
       "arguments": {},
       "columnCustomDisplayInfos": {},
       "data": [
        [
         1,
         849,
         1.038257335800001E8,
         122291.79455830401
        ],
        [
         2,
         832,
         1.0437907649999997E8,
         125455.62079326919
        ],
        [
         3,
         972,
         1.2181834916000003E8,
         125327.51971193419
        ],
        [
         4,
         982,
         1.1091925937000005E8,
         112952.40261710799
        ],
        [
         5,
         1182,
         1.4780195363999993E8,
         125043.95401015223
        ],
        [
         6,
         1337,
         1.6001307719000006E8,
         119680.68600598359
        ],
        [
         7,
         791,
         8.153647679000004E7,
         103080.24878634645
        ],
        [
         8,
         711,
         8.079758383999991E7,
         113639.35842475375
        ],
        [
         9,
         697,
         8.136679335E7,
         116738.5844332855
        ],
        [
         10,
         770,
         9.467202950000004E7,
         122950.68766233772
        ],
        [
         11,
         738,
         8.108266671999998E7,
         109868.11208672085
        ],
        [
         12,
         782,
         8.420780935999998E7,
         107682.62066496162
        ]
       ],
       "datasetInfos": [],
       "dbfsResultPath": null,
       "isJsonSchema": true,
       "metadata": {},
       "overflow": false,
       "plotOptions": {
        "customPlotOptions": {},
        "displayType": "table",
        "pivotAggregation": null,
        "pivotColumns": null,
        "xColumns": null,
        "yColumns": null
       },
       "removedWidgets": [],
       "schema": [
        {
         "metadata": "{}",
         "name": "claim_month",
         "type": "\"integer\""
        },
        {
         "metadata": "{}",
         "name": "claims_count",
         "type": "\"long\""
        },
        {
         "metadata": "{}",
         "name": "total_claim_amount",
         "type": "\"double\""
        },
        {
         "metadata": "{}",
         "name": "avg_claim_amount",
         "type": "\"double\""
        }
       ],
       "type": "table"
      }
     },
     "output_type": "display_data"
    },
    {
     "output_type": "stream",
     "name": "stdout",
     "output_type": "stream",
     "text": [
      "\uD83D\uDCCA Seasonal Claims Analysis:\n"
     ]
    },
    {
     "output_type": "display_data",
     "data": {
      "text/html": [
       "<style scoped>\n",
       "  .table-result-container {\n",
       "    max-height: 300px;\n",
       "    overflow: auto;\n",
       "  }\n",
       "  table, th, td {\n",
       "    border: 1px solid black;\n",
       "    border-collapse: collapse;\n",
       "  }\n",
       "  th, td {\n",
       "    padding: 5px;\n",
       "  }\n",
       "  th {\n",
       "    text-align: left;\n",
       "  }\n",
       "</style><div class='table-result-container'><table class='table-result'><thead style='background-color: white'><tr><th>season</th><th>claims_count</th><th>total_claim_amount</th><th>avg_claim_amount</th></tr></thead><tbody><tr><td>Spring</td><td>3136</td><td>3.80539562169999E8</td><td>121345.52365114764</td></tr><tr><td>Summer</td><td>2839</td><td>3.223471378199995E8</td><td>113542.49306798152</td></tr><tr><td>Winter</td><td>2463</td><td>2.924126194399999E8</td><td>118722.1353796183</td></tr><tr><td>Fall</td><td>2205</td><td>2.5712148956999972E8</td><td>116608.38529251688</td></tr></tbody></table></div>"
      ]
     },
     "metadata": {
      "application/vnd.databricks.v1+output": {
       "addedWidgets": {},
       "aggData": [],
       "aggError": "",
       "aggOverflow": false,
       "aggSchema": [],
       "aggSeriesLimitReached": false,
       "aggType": "",
       "arguments": {},
       "columnCustomDisplayInfos": {},
       "data": [
        [
         "Spring",
         3136,
         3.80539562169999E8,
         121345.52365114764
        ],
        [
         "Summer",
         2839,
         3.223471378199995E8,
         113542.49306798152
        ],
        [
         "Winter",
         2463,
         2.924126194399999E8,
         118722.1353796183
        ],
        [
         "Fall",
         2205,
         2.5712148956999972E8,
         116608.38529251688
        ]
       ],
       "datasetInfos": [],
       "dbfsResultPath": null,
       "isJsonSchema": true,
       "metadata": {},
       "overflow": false,
       "plotOptions": {
        "customPlotOptions": {},
        "displayType": "table",
        "pivotAggregation": null,
        "pivotColumns": null,
        "xColumns": null,
        "yColumns": null
       },
       "removedWidgets": [],
       "schema": [
        {
         "metadata": "{}",
         "name": "season",
         "type": "\"string\""
        },
        {
         "metadata": "{}",
         "name": "claims_count",
         "type": "\"long\""
        },
        {
         "metadata": "{}",
         "name": "total_claim_amount",
         "type": "\"double\""
        },
        {
         "metadata": "{}",
         "name": "avg_claim_amount",
         "type": "\"double\""
        }
       ],
       "type": "table"
      }
     },
     "output_type": "display_data"
    },
    {
     "output_type": "stream",
     "name": "stdout",
     "output_type": "stream",
     "text": [
      "\uD83D\uDCC5 Analyzing seasonal claims patterns...\n✅ Seasonal claims patterns analysis completed.\n"
     ]
    }
   ],
   "source": [
    "# BUSINESS CONTEXT: Seasonal patterns help predict claims volume and adjust reserves\n",
    "# Weather-related claims typically spike in certain months (winter storms, summer hail)\n",
    "\n",
    "# TODO: Analyze seasonal patterns in claims data\n",
    "# \n",
    "# Step 1: Add temporal components to claims data\n",
    "# TODO: Create claims_temporal by adding these columns to claims_df:\n",
    "#       - claim_month using month(\"claim_date\")\n",
    "#       - claim_quarter using quarter(\"claim_date\")\n",
    "#       - claim_year using year(\"claim_date\")\n",
    "from pyspark.sql.functions import month, quarter, year, when, col, count, sum, avg\n",
    "\n",
    "claims_temporal = claims_df.withColumn(\"claim_month\", month(\"claim_date\")) \\\n",
    "    .withColumn(\"claim_quarter\", quarter(\"claim_date\")) \\\n",
    "    .withColumn(\"claim_year\", year(\"claim_date\"))\n",
    "\n",
    "# \n",
    "# Step 2: Calculate monthly claims pattern\n",
    "# TODO: Group claims_temporal by \"claim_month\"\n",
    "# TODO: Calculate claims_count using count(\"claim_id\")\n",
    "# TODO: Calculate total_claim_amount using sum(\"claim_amount\")\n",
    "# TODO: Calculate avg_claim_amount using avg(\"claim_amount\")\n",
    "# TODO: Order by claim_month\n",
    "# TODO: Store result as monthly_claims\n",
    "monthly_claims = claims_temporal.groupBy(\"claim_month\") \\\n",
    "    .agg(\n",
    "        count(\"claim_id\").alias(\"claims_count\"),\n",
    "        sum(\"claim_amount\").alias(\"total_claim_amount\"),\n",
    "        avg(\"claim_amount\").alias(\"avg_claim_amount\")\n",
    "    ) \\\n",
    "    .orderBy(\"claim_month\")\n",
    "\n",
    "# \n",
    "# Step 3: Display monthly claims pattern\n",
    "# TODO: Print \"\uD83D\uDCCA Monthly Claims Pattern:\"\n",
    "# TODO: Show all 12 months using monthly_claims.show(12)\n",
    "print(\"\uD83D\uDCCA Monthly Claims Pattern:\")\n",
    "display(monthly_claims)\n",
    "\n",
    "# \n",
    "# Step 4: Create seasonal analysis\n",
    "# TODO: Add season column to claims_temporal using when/otherwise logic:\n",
    "#       - Months 12, 1, 2 = \"Winter\"\n",
    "#       - Months 3, 4, 5 = \"Spring\"\n",
    "#       - Months 6, 7, 8 = \"Summer\"\n",
    "#       - Otherwise = \"Fall\"\n",
    "# TODO: Group by season and calculate: claims_count, total_claim_amount, avg_claim_amount\n",
    "# TODO: Order by claims_count descending\n",
    "# TODO: Store result as seasonal_claims\n",
    "claims_temporal = claims_temporal.withColumn(\n",
    "    \"season\",\n",
    "    when(col(\"claim_month\").isin(12, 1, 2), \"Winter\")\n",
    "    .when(col(\"claim_month\").isin(3, 4, 5), \"Spring\")\n",
    "    .when(col(\"claim_month\").isin(6, 7, 8), \"Summer\")\n",
    "    .otherwise(\"Fall\")\n",
    ")\n",
    "\n",
    "seasonal_claims = claims_temporal.groupBy(\"season\") \\\n",
    "    .agg(\n",
    "        count(\"claim_id\").alias(\"claims_count\"),\n",
    "        sum(\"claim_amount\").alias(\"total_claim_amount\"),\n",
    "        avg(\"claim_amount\").alias(\"avg_claim_amount\")\n",
    "    ) \\\n",
    "    .orderBy(col(\"claims_count\").desc())\n",
    "\n",
    "# \n",
    "# Step 5: Display seasonal analysis\n",
    "# TODO: Print \"\uD83D\uDCCA Seasonal Claims Analysis:\"\n",
    "# TODO: Show seasonal_claims\n",
    "print(\"\uD83D\uDCCA Seasonal Claims Analysis:\")\n",
    "display(seasonal_claims)\n",
    "#\n",
    "# EXPECTED OUTPUT: Monthly and seasonal claims patterns\n",
    "# Target: Identify peak months/seasons for claims activity\n",
    "\n",
    "print(\"\uD83D\uDCC5 Analyzing seasonal claims patterns...\")\n",
    "\n",
    "# TODO: Implement seasonal claims pattern analysis logic here\n",
    "print(\"✅ Seasonal claims patterns analysis completed.\")"
   ]
  },
  {
   "cell_type": "markdown",
   "metadata": {
    "application/vnd.databricks.v1+cell": {
     "cellMetadata": {
      "byteLimit": 2048000,
      "rowLimit": 10000
     },
     "inputWidgets": {},
     "nuid": "80c4670e-f15a-4662-aa84-082c2a3aeff7",
     "showTitle": false,
     "tableResultSettingsMap": {},
     "title": ""
    }
   },
   "source": [
    "### 4.2 Payment Behavior Patterns"
   ]
  },
  {
   "cell_type": "code",
   "execution_count": 0,
   "metadata": {
    "application/vnd.databricks.v1+cell": {
     "cellMetadata": {
      "byteLimit": 2048000,
      "rowLimit": 10000
     },
     "inputWidgets": {},
     "nuid": "e4a8738f-29cf-4d4d-b5bb-8e0433ccf4fa",
     "showTitle": false,
     "tableResultSettingsMap": {},
     "title": ""
    }
   },
   "outputs": [
    {
     "output_type": "stream",
     "name": "stdout",
     "output_type": "stream",
     "text": [
      "\uD83D\uDCCA Monthly Payment Patterns:\n"
     ]
    },
    {
     "output_type": "display_data",
     "data": {
      "text/html": [
       "<style scoped>\n",
       "  .table-result-container {\n",
       "    max-height: 300px;\n",
       "    overflow: auto;\n",
       "  }\n",
       "  table, th, td {\n",
       "    border: 1px solid black;\n",
       "    border-collapse: collapse;\n",
       "  }\n",
       "  th, td {\n",
       "    padding: 5px;\n",
       "  }\n",
       "  th {\n",
       "    text-align: left;\n",
       "  }\n",
       "</style><div class='table-result-container'><table class='table-result'><thead style='background-color: white'><tr><th>payment_month</th><th>payment_count</th><th>total_payments</th><th>avg_payment</th><th>late_payments</th></tr></thead><tbody><tr><td>1</td><td>13927</td><td>2.073649139999999E7</td><td>1488.9417247074023</td><td>6305</td></tr><tr><td>2</td><td>13010</td><td>2.151934141000017E7</td><td>1654.0615995388296</td><td>5830</td></tr><tr><td>3</td><td>14335</td><td>2.1821527190000072E7</td><td>1522.255123125223</td><td>6359</td></tr><tr><td>4</td><td>14233</td><td>2.119433824999996E7</td><td>1489.0984507833878</td><td>6372</td></tr><tr><td>5</td><td>14974</td><td>2.200196107999994E7</td><td>1469.3442687324655</td><td>6677</td></tr><tr><td>6</td><td>14714</td><td>2.1181855019999962E7</td><td>1439.5714978931603</td><td>6656</td></tr><tr><td>7</td><td>29317</td><td>3.1470215220000166E7</td><td>1073.4459603642995</td><td>5791</td></tr><tr><td>8</td><td>12144</td><td>1.8616936820000134E7</td><td>1533.0152190382191</td><td>5560</td></tr><tr><td>9</td><td>12233</td><td>1.902085370999994E7</td><td>1554.8805452464596</td><td>5358</td></tr><tr><td>10</td><td>12938</td><td>1.980258771000004E7</td><td>1530.5756461586054</td><td>5759</td></tr><tr><td>11</td><td>12739</td><td>2.00566850299999E7</td><td>1574.4316688908</td><td>5742</td></tr><tr><td>12</td><td>13449</td><td>2.0151222230000053E7</td><td>1498.3435370659568</td><td>6070</td></tr></tbody></table></div>"
      ]
     },
     "metadata": {
      "application/vnd.databricks.v1+output": {
       "addedWidgets": {},
       "aggData": [],
       "aggError": "",
       "aggOverflow": false,
       "aggSchema": [],
       "aggSeriesLimitReached": false,
       "aggType": "",
       "arguments": {},
       "columnCustomDisplayInfos": {},
       "data": [
        [
         1,
         13927,
         2.073649139999999E7,
         1488.9417247074023,
         6305
        ],
        [
         2,
         13010,
         2.151934141000017E7,
         1654.0615995388296,
         5830
        ],
        [
         3,
         14335,
         2.1821527190000072E7,
         1522.255123125223,
         6359
        ],
        [
         4,
         14233,
         2.119433824999996E7,
         1489.0984507833878,
         6372
        ],
        [
         5,
         14974,
         2.200196107999994E7,
         1469.3442687324655,
         6677
        ],
        [
         6,
         14714,
         2.1181855019999962E7,
         1439.5714978931603,
         6656
        ],
        [
         7,
         29317,
         3.1470215220000166E7,
         1073.4459603642995,
         5791
        ],
        [
         8,
         12144,
         1.8616936820000134E7,
         1533.0152190382191,
         5560
        ],
        [
         9,
         12233,
         1.902085370999994E7,
         1554.8805452464596,
         5358
        ],
        [
         10,
         12938,
         1.980258771000004E7,
         1530.5756461586054,
         5759
        ],
        [
         11,
         12739,
         2.00566850299999E7,
         1574.4316688908,
         5742
        ],
        [
         12,
         13449,
         2.0151222230000053E7,
         1498.3435370659568,
         6070
        ]
       ],
       "datasetInfos": [],
       "dbfsResultPath": null,
       "isJsonSchema": true,
       "metadata": {},
       "overflow": false,
       "plotOptions": {
        "customPlotOptions": {},
        "displayType": "table",
        "pivotAggregation": null,
        "pivotColumns": null,
        "xColumns": null,
        "yColumns": null
       },
       "removedWidgets": [],
       "schema": [
        {
         "metadata": "{}",
         "name": "payment_month",
         "type": "\"integer\""
        },
        {
         "metadata": "{}",
         "name": "payment_count",
         "type": "\"long\""
        },
        {
         "metadata": "{}",
         "name": "total_payments",
         "type": "\"double\""
        },
        {
         "metadata": "{}",
         "name": "avg_payment",
         "type": "\"double\""
        },
        {
         "metadata": "{}",
         "name": "late_payments",
         "type": "\"long\""
        }
       ],
       "type": "table"
      }
     },
     "output_type": "display_data"
    },
    {
     "output_type": "stream",
     "name": "stdout",
     "output_type": "stream",
     "text": [
      "\uD83D\uDCCA Payment Method Analysis:\n"
     ]
    },
    {
     "output_type": "display_data",
     "data": {
      "text/html": [
       "<style scoped>\n",
       "  .table-result-container {\n",
       "    max-height: 300px;\n",
       "    overflow: auto;\n",
       "  }\n",
       "  table, th, td {\n",
       "    border: 1px solid black;\n",
       "    border-collapse: collapse;\n",
       "  }\n",
       "  th, td {\n",
       "    padding: 5px;\n",
       "  }\n",
       "  th {\n",
       "    text-align: left;\n",
       "  }\n",
       "</style><div class='table-result-container'><table class='table-result'><thead style='background-color: white'><tr><th>payment_method</th><th>payment_count</th><th>total_amount</th><th>avg_amount</th><th>late_payments</th><th>failed_payments</th></tr></thead><tbody><tr><td>Credit Card</td><td>73832</td><td>1.0744996744000131E8</td><td>1455.3305807780002</td><td>29963</td><td>9143</td></tr><tr><td>Bank Transfer</td><td>45990</td><td>6.6246245210000604E7</td><td>1440.4489065014266</td><td>18790</td><td>5499</td></tr><tr><td>Check</td><td>24941</td><td>3.5377956779999815E7</td><td>1418.465850607426</td><td>10205</td><td>2959</td></tr><tr><td>Auto Pay</td><td>23514</td><td>3.414384895999995E7</td><td>1452.0646831674726</td><td>9542</td><td>2875</td></tr><tr><td>Cash</td><td>9736</td><td>1.4355996679999935E7</td><td>1474.5271857025405</td><td>3979</td><td>1192</td></tr></tbody></table></div>"
      ]
     },
     "metadata": {
      "application/vnd.databricks.v1+output": {
       "addedWidgets": {},
       "aggData": [],
       "aggError": "",
       "aggOverflow": false,
       "aggSchema": [],
       "aggSeriesLimitReached": false,
       "aggType": "",
       "arguments": {},
       "columnCustomDisplayInfos": {},
       "data": [
        [
         "Credit Card",
         73832,
         1.0744996744000131E8,
         1455.3305807780002,
         29963,
         9143
        ],
        [
         "Bank Transfer",
         45990,
         6.6246245210000604E7,
         1440.4489065014266,
         18790,
         5499
        ],
        [
         "Check",
         24941,
         3.5377956779999815E7,
         1418.465850607426,
         10205,
         2959
        ],
        [
         "Auto Pay",
         23514,
         3.414384895999995E7,
         1452.0646831674726,
         9542,
         2875
        ],
        [
         "Cash",
         9736,
         1.4355996679999935E7,
         1474.5271857025405,
         3979,
         1192
        ]
       ],
       "datasetInfos": [],
       "dbfsResultPath": null,
       "isJsonSchema": true,
       "metadata": {},
       "overflow": false,
       "plotOptions": {
        "customPlotOptions": {},
        "displayType": "table",
        "pivotAggregation": null,
        "pivotColumns": null,
        "xColumns": null,
        "yColumns": null
       },
       "removedWidgets": [],
       "schema": [
        {
         "metadata": "{}",
         "name": "payment_method",
         "type": "\"string\""
        },
        {
         "metadata": "{}",
         "name": "payment_count",
         "type": "\"long\""
        },
        {
         "metadata": "{}",
         "name": "total_amount",
         "type": "\"double\""
        },
        {
         "metadata": "{}",
         "name": "avg_amount",
         "type": "\"double\""
        },
        {
         "metadata": "{}",
         "name": "late_payments",
         "type": "\"long\""
        },
        {
         "metadata": "{}",
         "name": "failed_payments",
         "type": "\"long\""
        }
       ],
       "type": "table"
      }
     },
     "output_type": "display_data"
    },
    {
     "output_type": "stream",
     "name": "stdout",
     "output_type": "stream",
     "text": [
      "\uD83D\uDCB3 Analyzing payment behavior patterns...\n✅ Payment behavior pattern analysis completed.\n"
     ]
    }
   ],
   "source": [
    "# BUSINESS CONTEXT: Payment timing patterns reveal customer cash flow cycles\n",
    "# Understanding payment preferences helps optimize billing and collection strategies\n",
    "\n",
    "# TODO: Analyze payment behavior patterns over time\n",
    "# \n",
    "# Step 1: Add temporal components to payments data\n",
    "# TODO: Create payments_temporal by adding these columns to payments_df:\n",
    "#       - payment_month using month(\"payment_date\")\n",
    "#       - payment_quarter using quarter(\"payment_date\")\n",
    "from pyspark.sql.functions import month, quarter, when, col, count, sum, avg\n",
    "\n",
    "payments_temporal = payments_df.withColumn(\"payment_month\", month(\"payment_date\")) \\\n",
    "    .withColumn(\"payment_quarter\", quarter(\"payment_date\"))\n",
    "\n",
    "# \n",
    "# Step 2: Calculate monthly payment patterns\n",
    "# TODO: Group payments_temporal by \"payment_month\"\n",
    "# TODO: Calculate payment_count using count(\"payment_id\")\n",
    "# TODO: Calculate total_payments using sum(\"payment_amount\")\n",
    "# TODO: Calculate avg_payment using avg(\"payment_amount\")\n",
    "# TODO: Calculate late_payments using sum(when(col(\"late_payment_flag\") == True, 1).otherwise(0))\n",
    "# TODO: Order by payment_month\n",
    "# TODO: Store result as monthly_payments\n",
    "monthly_payments = payments_temporal.groupBy(\"payment_month\") \\\n",
    "    .agg(\n",
    "        count(\"payment_id\").alias(\"payment_count\"),\n",
    "        sum(\"payment_amount\").alias(\"total_payments\"),\n",
    "        avg(\"payment_amount\").alias(\"avg_payment\"),\n",
    "        sum(when(col(\"late_payment_flag\") == 1, 1).otherwise(0)).alias(\"late_payments\")\n",
    "    ) \\\n",
    "    .orderBy(\"payment_month\")\n",
    "\n",
    "# \n",
    "# Step 3: Display monthly payment patterns\n",
    "# TODO: Print \"\uD83D\uDCCA Monthly Payment Patterns:\"\n",
    "# TODO: Show all 12 months using monthly_payments.show(12)\n",
    "print(\"\uD83D\uDCCA Monthly Payment Patterns:\")\n",
    "display(monthly_payments)\n",
    "\n",
    "# \n",
    "# Step 4: Analyze payment methods\n",
    "# TODO: Group payments_df by \"payment_method\"\n",
    "# TODO: Calculate payment_count using count(\"payment_id\")\n",
    "# TODO: Calculate total_amount using sum(\"payment_amount\")\n",
    "# TODO: Calculate avg_amount using avg(\"payment_amount\")\n",
    "# TODO: Calculate late_payments using sum(when(col(\"late_payment_flag\") == True, 1).otherwise(0))\n",
    "# TODO: Calculate failed_payments using sum(when(col(\"payment_status\") == \"Failed\", 1).otherwise(0))\n",
    "# TODO: Order by payment_count descending\n",
    "# TODO: Store result as payment_method_analysis\n",
    "payment_method_analysis = payments_df.groupBy(\"payment_method\") \\\n",
    "    .agg(\n",
    "        count(\"payment_id\").alias(\"payment_count\"),\n",
    "        sum(\"payment_amount\").alias(\"total_amount\"),\n",
    "        avg(\"payment_amount\").alias(\"avg_amount\"),\n",
    "        sum(when(col(\"late_payment_flag\") == 1, 1).otherwise(0)).alias(\"late_payments\"),\n",
    "        sum(when(col(\"payment_status\") == \"Failed\", 1).otherwise(0)).alias(\"failed_payments\")\n",
    "    ) \\\n",
    "    .orderBy(col(\"payment_count\").desc())\n",
    "\n",
    "# \n",
    "# Step 5: Display payment method analysis\n",
    "# TODO: Print \"\uD83D\uDCCA Payment Method Analysis:\"\n",
    "# TODO: Show payment_method_analysis\n",
    "print(\"\uD83D\uDCCA Payment Method Analysis:\")\n",
    "display(payment_method_analysis)\n",
    "#\n",
    "# EXPECTED OUTPUT: Monthly payment patterns and payment method analysis\n",
    "# Target: Identify preferred payment methods and seasonal payment patterns\n",
    "\n",
    "print(\"\uD83D\uDCB3 Analyzing payment behavior patterns...\")\n",
    "\n",
    "# TODO: Implement payment behavior pattern analysis logic here\n",
    "print(\"✅ Payment behavior pattern analysis completed.\")"
   ]
  },
  {
   "cell_type": "markdown",
   "metadata": {
    "application/vnd.databricks.v1+cell": {
     "cellMetadata": {
      "byteLimit": 2048000,
      "rowLimit": 10000
     },
     "inputWidgets": {},
     "nuid": "694a86ae-4db8-46ba-8074-5ce83ab4b7ac",
     "showTitle": false,
     "tableResultSettingsMap": {},
     "title": ""
    }
   },
   "source": [
    "## 5. Save Risk Analysis Results to Database Tables"
   ]
  },
  {
   "cell_type": "code",
   "execution_count": 0,
   "metadata": {
    "application/vnd.databricks.v1+cell": {
     "cellMetadata": {
      "byteLimit": 2048000,
      "rowLimit": 10000
     },
     "inputWidgets": {},
     "nuid": "6e3dd9d5-1d29-4153-b886-6c294ea2e810",
     "showTitle": false,
     "tableResultSettingsMap": {},
     "title": ""
    }
   },
   "outputs": [
    {
     "output_type": "stream",
     "name": "stdout",
     "output_type": "stream",
     "text": [
      "✅ Saved customer_risk_profiles table: 15,000 records\n✅ Saved risk_value_matrix table: 9 records\n✅ Saved cross_sell_opportunities table: 925 records\n✅ Saved temporal analysis tables\n\uD83D\uDCBE Saving risk analysis results to database tables...\n✅ Risk analysis results to database tables saved successfully\n"
     ]
    }
   ],
   "source": [
    "# BUSINESS CONTEXT: Persistent tables enable reliable data pipeline execution\n",
    "# Downstream notebooks depend on these results for advanced analytics\n",
    "\n",
    "# TODO: Save risk analysis results to database tables for downstream consumption\n",
    "# \n",
    "# Step 1: Create comprehensive customer risk profiles table\n",
    "# TODO: Select the following columns from customer_risk_df:\n",
    "#       - customer_id, first_name, last_name, email, birth_date, age, gender, marital_status\n",
    "#       - income, credit_score, employment_status, education, state, zip_code, acquisition_date\n",
    "#       - risk_category, value_segment, composite_risk_score, claims_risk_score, credit_risk_score\n",
    "#       - age_risk_score, premium_risk_score, payment_risk_score, payment_reliability_score\n",
    "#       - total_policies, total_premium, avg_premium, total_coverage, policy_types_count, policy_types\n",
    "#       - total_claims, total_claim_amount, avg_claim_amount, max_claim_amount, policies_with_claims\n",
    "#       - total_payments, total_payment_amount, avg_payment_amount, late_payments_count, failed_payments_count\n",
    "# TODO: Store selection as customer_risk_profiles_final\n",
    "customer_risk_profiles_final = customer_risk_df.select(\n",
    "    \"customer_id\", \"first_name\", \"last_name\", \"email\", \"birth_date\", \"age\", \"gender\", \"marital_status\",\n",
    "    \"income\", \"credit_score\", \"employment_status\", \"education\", \"state\", \"zip_code\", \"acquisition_date\",\n",
    "    \"risk_category\", \"value_segment\", \"composite_risk_score\", \"claims_risk_score\", \"credit_risk_score\",\n",
    "    \"age_risk_score\", \"premium_risk_score\", \"payment_risk_score\", \"payment_reliability_score\",\n",
    "    \"total_policies\", \"total_premium\", \"avg_premium\", \"total_coverage\", \"policy_types_count\", \"policy_types\",\n",
    "    \"total_claims\", \"total_claim_amount\", \"avg_claim_amount\", \"max_claim_amount\", \"policies_with_claims\",\n",
    "    \"total_payments\", \"total_payment_amount\", \"avg_payment_amount\", \"late_payments_count\", \"failed_payments_count\"\n",
    ")\n",
    "\n",
    "# \n",
    "# Step 2: Save customer risk profiles table\n",
    "# TODO: Write customer_risk_profiles_final to database table \"customer_risk_profiles\"\n",
    "# TODO: Use mode(\"overwrite\") and saveAsTable(f\"{DATABASE_NAME}.customer_risk_profiles\")\n",
    "# TODO: Print f\"✅ Saved customer_risk_profiles table: {customer_risk_profiles_final.count():,} records\"\n",
    "customer_risk_profiles_final.write.mode(\"overwrite\").saveAsTable(f\"{DATABASE_NAME}.customer_risk_profiles\")\n",
    "print(f\"✅ Saved customer_risk_profiles table: {customer_risk_profiles_final.count():,} records\")\n",
    "\n",
    "# \n",
    "# Step 3: Save risk-value matrix table\n",
    "# TODO: Write risk_value_matrix to database table \"risk_value_matrix\"\n",
    "# TODO: Use mode(\"overwrite\") and saveAsTable(f\"{DATABASE_NAME}.risk_value_matrix\")\n",
    "# TODO: Print f\"✅ Saved risk_value_matrix table: {risk_value_matrix.count():,} records\"\n",
    "risk_value_matrix.write.mode(\"overwrite\").saveAsTable(f\"{DATABASE_NAME}.risk_value_matrix\")\n",
    "print(f\"✅ Saved risk_value_matrix table: {risk_value_matrix.count():,} records\")\n",
    "\n",
    "# \n",
    "# Step 4: Save cross-selling opportunities table\n",
    "# TODO: Select relevant columns from single_policy_customers: customer_id, first_name, last_name, risk_category, value_segment, total_premium, policy_types_count, policy_types, composite_risk_score\n",
    "# TODO: Order by total_premium descending\n",
    "# TODO: Store as cross_sell_opportunities\n",
    "# TODO: Write to database table \"cross_sell_opportunities\"\n",
    "# TODO: Print f\"✅ Saved cross_sell_opportunities table: {cross_sell_opportunities.count():,} records\"\n",
    "cross_sell_opportunities = single_policy_customers.select(\n",
    "    \"customer_id\", \"first_name\", \"last_name\", \"risk_category\", \"value_segment\",\n",
    "    \"total_premium\", \"policy_types_count\", \"policy_types\", \"composite_risk_score\"\n",
    ").orderBy(col(\"total_premium\").desc())\n",
    "\n",
    "cross_sell_opportunities.write.mode(\"overwrite\").saveAsTable(f\"{DATABASE_NAME}.cross_sell_opportunities\")\n",
    "print(f\"✅ Saved cross_sell_opportunities table: {cross_sell_opportunities.count():,} records\")\n",
    "\n",
    "# \n",
    "# Step 5: Save additional analysis tables\n",
    "# TODO: Save policy_type_dist as \"policy_portfolio_analysis\" table\n",
    "# TODO: Save seasonal_claims as \"seasonal_claims_analysis\" table\n",
    "# TODO: Save monthly_payments as \"monthly_payment_patterns\" table\n",
    "# TODO: Print \"✅ Saved temporal analysis tables\"\n",
    "policy_type_dist.write.mode(\"overwrite\").saveAsTable(f\"{DATABASE_NAME}.policy_portfolio_analysis\")\n",
    "seasonal_claims.write.mode(\"overwrite\").saveAsTable(f\"{DATABASE_NAME}.seasonal_claims_analysis\")\n",
    "monthly_payments.write.mode(\"overwrite\").saveAsTable(f\"{DATABASE_NAME}.monthly_payment_patterns\")\n",
    "print(\"✅ Saved temporal analysis tables\")\n",
    "#\n",
    "# EXPECTED OUTPUT: 6 database tables created successfully\n",
    "# Target: All tables available for Notebook 2 consumption\n",
    "\n",
    "print(\"\uD83D\uDCBE Saving risk analysis results to database tables...\")\n",
    "# TODO: Implement database table creation logic here\n",
    "print(\"✅ Risk analysis results to database tables saved successfully\")"
   ]
  },
  {
   "cell_type": "markdown",
   "metadata": {
    "application/vnd.databricks.v1+cell": {
     "cellMetadata": {
      "byteLimit": 2048000,
      "rowLimit": 10000
     },
     "inputWidgets": {},
     "nuid": "41f4a7f8-7ead-4ec7-9e8e-c6f220562cb0",
     "showTitle": false,
     "tableResultSettingsMap": {},
     "title": ""
    }
   },
   "source": [
    "## 6. Business Insights Summary"
   ]
  },
  {
   "cell_type": "code",
   "execution_count": 0,
   "metadata": {
    "application/vnd.databricks.v1+cell": {
     "cellMetadata": {
      "byteLimit": 2048000,
      "rowLimit": 10000
     },
     "inputWidgets": {},
     "nuid": "883c12ba-b926-4f11-bef3-48adb0819d11",
     "showTitle": false,
     "tableResultSettingsMap": {},
     "title": ""
    }
   },
   "outputs": [
    {
     "output_type": "stream",
     "name": "stdout",
     "output_type": "stream",
     "text": [
      "\uD83C\uDFAF KEY BUSINESS INSIGHTS FROM RISK ANALYSIS\n============================================================\n\uD83D\uDCCA RISK DISTRIBUTION:\n   Medium Risk: 9,820 customers (65.5%)\n   High Risk: 1,451 customers (9.7%)\n   Low Risk: 3,729 customers (24.9%)\n\n\uD83D\uDCB0 VALUE DISTRIBUTION:\n   Low Value Value: 9,837 customers (65.6%)\n   High Value Value: 2,193 customers (14.6%)\n   Medium Value Value: 2,970 customers (19.8%)\n\n\uD83C\uDFAF PORTFOLIO INSIGHTS:\n   Total Customers: 15,000\n   Total Policies: 75,000\n   Cross-selling Opportunity: 6.2% (925 customers)\n   Total Premium Portfolio: $421,649,304.04\n   Average Premium per Customer: $28,109.95\n   Total Claims: 10,643\n   Claims Rate: 14.19%\n   Late Payment Rate: 483.19%\n\n\uD83D\uDCCA DATABASE TABLES CREATED FOR DOWNSTREAM ANALYSIS:\n   - customer_risk_profiles: Comprehensive customer risk profiles\n   - risk_value_matrix: Risk-value matrix for strategic insights\n   - cross_sell_opportunities: Identified cross-selling opportunities\n   - policy_portfolio_analysis: Analysis of policy type distribution\n   - seasonal_claims_analysis: Seasonal claims patterns\n   - monthly_payment_patterns: Monthly payment patterns\n\n\uD83D\uDE80 READY FOR NOTEBOOK 2: CLPV AND RETENTION ANALYSIS\n\uD83C\uDFAF KEY BUSINESS INSIGHTS FROM RISK ANALYSIS\n============================================================\n✅ Risk analysis results to database tables saved successfully\n"
     ]
    }
   ],
   "source": [
    "# BUSINESS CONTEXT: Executive summary provides key insights for strategic decision-making\n",
    "# Quantified insights enable data-driven business planning and resource allocation\n",
    "\n",
    "# TODO: Generate comprehensive business insights summary\n",
    "# \n",
    "# Step 1: Calculate risk distribution insights\n",
    "# TODO: Collect risk_distribution results using .collect()\n",
    "risk_distribution = customer_risk_df.groupBy(\"risk_category\").count().collect()\n",
    "# TODO: Print \"\uD83C\uDFAF KEY BUSINESS INSIGHTS FROM RISK ANALYSIS\"\n",
    "# TODO: Print \"=\" * 60\n",
    "print(\"\uD83C\uDFAF KEY BUSINESS INSIGHTS FROM RISK ANALYSIS\")\n",
    "print(\"=\" * 60)\n",
    "# TODO: Print \"\uD83D\uDCCA RISK DISTRIBUTION:\"\n",
    "print(\"\uD83D\uDCCA RISK DISTRIBUTION:\")\n",
    "# TODO: For each risk category, calculate percentage and print formatted results\n",
    "# TODO: Use format: f\"   {risk_category} Risk: {count:,} customers ({percentage:.1f}%)\"\n",
    "total_customers = customer_risk_df.count()\n",
    "for row in risk_distribution:\n",
    "    risk_category = row[\"risk_category\"]\n",
    "    count = row[\"count\"]\n",
    "    percentage = (count / total_customers) * 100\n",
    "    print(f\"   {risk_category} Risk: {count:,} customers ({percentage:.1f}%)\")\n",
    "# \n",
    "# Step 2: Calculate value distribution insights\n",
    "# TODO: Collect value_distribution results using .collect()\n",
    "value_distribution = customer_risk_df.groupBy(\"value_segment\").count().collect()\n",
    "# TODO: Print \"\\n\uD83D\uDCB0 VALUE DISTRIBUTION:\"\n",
    "print(\"\\n\uD83D\uDCB0 VALUE DISTRIBUTION:\")\n",
    "# TODO: For each value segment, calculate percentage and print formatted results\n",
    "for row in value_distribution:\n",
    "    value_segment = row[\"value_segment\"]\n",
    "    count = row[\"count\"]\n",
    "    percentage = (count / total_customers) * 100\n",
    "    print(f\"   {value_segment} Value: {count:,} customers ({percentage:.1f}%)\")\n",
    "# \n",
    "\n",
    "# Step 3: Calculate portfolio insights\n",
    "# TODO: Print f\"\\n\uD83C\uDFAF PORTFOLIO INSIGHTS:\"\n",
    "print(f\"\\n\uD83C\uDFAF PORTFOLIO INSIGHTS:\")\n",
    "\n",
    "total_policies = customer_risk_df.agg(sum(\"total_policies\")).collect()[0][0]\n",
    "cross_sell_opportunity = cross_sell_opportunities.count()\n",
    "cross_sell_percentage = (cross_sell_opportunity / total_customers) * 100\n",
    "\n",
    "# TODO: Print f\"   Total Customers: {total_customers:,}\"\n",
    "# TODO: Print f\"   Total Policies: {total_policies:,}\"\n",
    "# TODO: Print f\"   Cross-selling Opportunity: {cross_sell_percentage:.1f}% ({cross_sell_opportunity:,} customers)\"\n",
    "print(f\"   Total Customers: {total_customers:,}\")\n",
    "print(f\"   Total Policies: {total_policies:,}\")\n",
    "print(f\"   Cross-selling Opportunity: {cross_sell_percentage:.1f}% ({cross_sell_opportunity:,} customers)\")\n",
    "# \n",
    "\n",
    "# Step 4: Calculate financial insights\n",
    "# TODO: Calculate total_premium_portfolio using sum(\"total_premium\") from customer_risk_df\n",
    "# TODO: Calculate avg_premium_customer = total_premium_portfolio / total_customers\n",
    "total_premium_portfolio = customer_risk_df.agg(sum(\"total_premium\")).collect()[0][0]\n",
    "avg_premium_customer = total_premium_portfolio / total_customers\n",
    "# TODO: Print f\"   Total Premium Portfolio: ${total_premium_portfolio:,.2f}\"\n",
    "# TODO: Print f\"   Average Premium per Customer: ${avg_premium_customer:,.2f}\"\n",
    "print(f\"   Total Premium Portfolio: ${total_premium_portfolio:,.2f}\")\n",
    "print(f\"   Average Premium per Customer: ${avg_premium_customer:,.2f}\")\n",
    "# \n",
    "# Step 5: Calculate operational insights\n",
    "# TODO: Calculate total_claims_count using claims_df.count()\n",
    "# TODO: Calculate claims_rate = (total_claims_count / total_policies) * 100\n",
    "# TODO: Calculate late_payment_rate from payments data\n",
    "total_claims_count = claims_df.count()\n",
    "claims_rate = (total_claims_count / total_policies) * 100\n",
    "late_payment_rate = (monthly_payments.agg(sum(\"late_payments\")).collect()[0][0] / total_customers) * 100\n",
    "# TODO: Print claims and payment statistics\n",
    "print(f\"   Total Claims: {total_claims_count:,}\")\n",
    "print(f\"   Claims Rate: {claims_rate:.2f}%\")\n",
    "print(f\"   Late Payment Rate: {late_payment_rate:.2f}%\")\n",
    "# \n",
    "# Step 6: List database tables created\n",
    "# TODO: Print \"\\n\uD83D\uDCCA DATABASE TABLES CREATED FOR DOWNSTREAM ANALYSIS:\"\n",
    "print(\"\\n\uD83D\uDCCA DATABASE TABLES CREATED FOR DOWNSTREAM ANALYSIS:\")\n",
    "# TODO: List all 6 tables with brief descriptions\n",
    "print(\"   - customer_risk_profiles: Comprehensive customer risk profiles\")\n",
    "print(\"   - risk_value_matrix: Risk-value matrix for strategic insights\")\n",
    "print(\"   - cross_sell_opportunities: Identified cross-selling opportunities\")\n",
    "print(\"   - policy_portfolio_analysis: Analysis of policy type distribution\")\n",
    "print(\"   - seasonal_claims_analysis: Seasonal claims patterns\")\n",
    "print(\"   - monthly_payment_patterns: Monthly payment patterns\")\n",
    "# TODO: Print \"\\n\uD83D\uDE80 READY FOR NOTEBOOK 2: CLPV AND RETENTION ANALYSIS\"\n",
    "print(\"\\n\uD83D\uDE80 READY FOR NOTEBOOK 2: CLPV AND RETENTION ANALYSIS\")\n",
    "#\n",
    "# EXPECTED OUTPUT: Comprehensive business insights with quantified metrics\n",
    "# Target: Executive-ready summary with actionable insights\n",
    "\n",
    "print(\"\uD83C\uDFAF KEY BUSINESS INSIGHTS FROM RISK ANALYSIS\")\n",
    "print(\"=\" * 60)\n",
    "\n",
    "# TODO: Implement business insights summary logic here\n",
    "print(\"✅ Risk analysis results to database tables saved successfully\")"
   ]
  },
  {
   "cell_type": "markdown",
   "metadata": {
    "application/vnd.databricks.v1+cell": {
     "cellMetadata": {
      "byteLimit": 2048000,
      "rowLimit": 10000
     },
     "inputWidgets": {},
     "nuid": "ec8f6d20-66d3-4f98-a40d-6c56ae28ac7d",
     "showTitle": false,
     "tableResultSettingsMap": {},
     "title": ""
    }
   },
   "source": [
    "## Summary and Next Steps\n",
    "\n",
    "### ✅ Risk Analysis Objectives Achieved:\n",
    "1. **Customer Risk Scoring** - Comprehensive risk assessment using 5 risk factors\n",
    "2. **Customer Segmentation** - Risk categories (Low/Medium/High) and value segments\n",
    "3. **Portfolio Analysis** - Policy distribution and cross-selling opportunities\n",
    "4. **Temporal Patterns** - Seasonal claims and payment behavior analysis\n",
    "5. **Database Integration** - All results saved to persistent tables for pipeline reliability\n",
    "\n",
    "### \uD83C\uDFAF Key Analytical Outputs:\n",
    "- **15,000 customers** scored and segmented by risk and value\n",
    "- **Cross-selling opportunities** identified for single-policy customers\n",
    "- **Seasonal patterns** documented for claims and payments\n",
    "- **Portfolio risk concentration** analyzed by geography and policy type\n",
    "\n",
    "### \uD83D\uDDC4️ Database Tables Created:\n",
    "- `customer_risk_profiles` - Core customer risk and segmentation data\n",
    "- `risk_value_matrix` - Strategic customer matrix for business decisions\n",
    "- `cross_sell_opportunities` - Priority customers for cross-selling\n",
    "- `policy_portfolio_analysis` - Portfolio composition and performance\n",
    "- `seasonal_claims_analysis` - Seasonal trend analysis\n",
    "- `monthly_payment_patterns` - Payment behavior insights\n",
    "\n",
    "### \uD83D\uDE80 Next Steps:\n",
    "- **Notebook 2**: Load risk profiles and calculate Customer Lifetime Premium Value (CLPV)\n",
    "- **Notebook 2**: Build renewal prediction models using risk segmentation\n",
    "- **Notebook 2**: Develop pricing optimization based on risk analysis\n",
    "- **Notebook 3**: Create executive dashboards using all accumulated insights\n",
    "\n",
    "### \uD83D\uDCA1 Business Value:\n",
    "This analysis provides the foundation for data-driven customer management, enabling SecureLife to optimize pricing, target retention efforts, and identify growth opportunities based on customer risk profiles and value segments."
   ]
  }
 ],
 "metadata": {
  "application/vnd.databricks.v1+notebook": {
   "computePreferences": null,
   "dashboards": [],
   "environmentMetadata": null,
   "inputWidgetPreferences": null,
   "language": "python",
   "notebookMetadata": {
    "pythonIndentUnit": 4
   },
   "notebookName": "nbk_1_risk_profiling_student",
   "widgets": {}
  },
  "language_info": {
   "name": "python"
  }
 },
 "nbformat": 4,
 "nbformat_minor": 0
}