{
 "cells": [
  {
   "cell_type": "markdown",
   "metadata": {
    "application/vnd.databricks.v1+cell": {
     "cellMetadata": {},
     "inputWidgets": {},
     "nuid": "ff4b146c-6c85-4832-8c9c-70728e3db208",
     "showTitle": false,
     "tableResultSettingsMap": {},
     "title": ""
    }
   },
   "source": [
    "# Insurance CLPV and Retention Analysis\n",
    "\n",
    "**Objective**: Calculate Customer Lifetime Premium Value (CLPV) and build retention prediction models\n",
    "\n",
    "**Business Goals:**\n",
    "- Calculate Customer Lifetime Premium Value with risk adjustments\n",
    "- Predict policy renewal probabilities\n",
    "- Optimize pricing strategies based on customer value and risk\n",
    "- Detect fraud patterns in claims data\n",
    "- Develop customer retention strategies\n",
    "\n",
    "**Data Flow**: Loads from Notebook 1 risk analysis tables → Creates CLPV and retention tables for Notebook 3"
   ]
  },
  {
   "cell_type": "markdown",
   "metadata": {
    "application/vnd.databricks.v1+cell": {
     "cellMetadata": {},
     "inputWidgets": {},
     "nuid": "144bf93b-b993-41c1-b461-da9706d35dfe",
     "showTitle": false,
     "tableResultSettingsMap": {},
     "title": ""
    }
   },
   "source": [
    "## Setup and Advanced Analytics Configuration"
   ]
  },
  {
   "cell_type": "code",
   "execution_count": 0,
   "metadata": {
    "application/vnd.databricks.v1+cell": {
     "cellMetadata": {
      "byteLimit": 2048000,
      "rowLimit": 10000
     },
     "inputWidgets": {},
     "nuid": "0fc88e8d-7835-4e0c-abfd-a3b87a502f16",
     "showTitle": false,
     "tableResultSettingsMap": {},
     "title": ""
    }
   },
   "outputs": [
    {
     "output_type": "stream",
     "name": "stdout",
     "output_type": "stream",
     "text": [
      "✅ Spark session initialized for advanced analytics\n\uD83D\uDCCA Using database: insurance_analytics\n"
     ]
    }
   ],
   "source": [
    "import pandas as pd\n",
    "import numpy as np\n",
    "from pyspark.sql import SparkSession\n",
    "from pyspark.sql.functions import *\n",
    "from pyspark.sql.types import *\n",
    "from pyspark.sql.window import Window\n",
    "from pyspark.ml.feature import VectorAssembler, StringIndexer, OneHotEncoder\n",
    "from pyspark.ml.classification import RandomForestClassifier, LogisticRegression\n",
    "from pyspark.ml.evaluation import BinaryClassificationEvaluator\n",
    "from pyspark.ml.stat import Correlation\n",
    "from pyspark.ml import Pipeline\n",
    "import warnings\n",
    "warnings.filterwarnings('ignore')\n",
    "\n",
    "# Initialize Spark session\n",
    "spark = SparkSession.builder.appName(\"InsuranceCLPVRetention\").getOrCreate()\n",
    "print(\"✅ Spark session initialized for advanced analytics\")\n",
    "\n",
    "# Database configuration\n",
    "DATABASE_NAME = \"insurance_analytics\"\n",
    "print(f\"\uD83D\uDCCA Using database: {DATABASE_NAME}\")"
   ]
  },
  {
   "cell_type": "markdown",
   "metadata": {
    "application/vnd.databricks.v1+cell": {
     "cellMetadata": {},
     "inputWidgets": {},
     "nuid": "bb7159db-f227-4a51-826d-deec2abbf1c1",
     "showTitle": false,
     "tableResultSettingsMap": {},
     "title": ""
    }
   },
   "source": [
    "## Load Data from Risk Analysis Tables (Notebook 1 Outputs)"
   ]
  },
  {
   "cell_type": "code",
   "execution_count": 0,
   "metadata": {
    "application/vnd.databricks.v1+cell": {
     "cellMetadata": {
      "byteLimit": 2048000,
      "rowLimit": 10000
     },
     "inputWidgets": {},
     "nuid": "fa97d8a3-30e8-4a6d-aae5-b298ceffd463",
     "showTitle": false,
     "tableResultSettingsMap": {},
     "title": ""
    }
   },
   "outputs": [
    {
     "output_type": "stream",
     "name": "stdout",
     "output_type": "stream",
     "text": [
      "\uD83D\uDCCB Loading risk analysis tables from Notebook 1...\n✅ All tables loaded successfully\n\uD83D\uDCCA Customer Risk Profiles: 15,000\n\uD83D\uDCCA Risk Value Matrix: 9\n\uD83D\uDCCA Cross Sell Opportunities: 925\n\uD83D\uDCCA Active Policies: 75,000\n\uD83D\uDCCA Claims: 10,643\n\uD83D\uDCCA Payments: 178,013\n\uD83D\uDCCA Customer Interactions: 30,000\n"
     ]
    }
   ],
   "source": [
    "print(\"\uD83D\uDCCB Loading risk analysis tables from Notebook 1...\")\n",
    "\n",
    "# BUSINESS CONTEXT: Advanced analytics requires validated data from risk profiling\n",
    "# We need customer risk profiles and foundation tables for CLPV and retention analysis\n",
    "\n",
    "# TODO: Load analytics tables from Notebook 1\n",
    "# \n",
    "# Step 1: Load risk analysis results\n",
    "# TODO: Load customer_risk_profiles from \"insurance_analytics.customer_risk_profiles\" table\n",
    "# TODO: Load risk_value_matrix from \"insurance_analytics.risk_value_matrix\" table\n",
    "# TODO: Load cross_sell_opportunities from \"insurance_analytics.cross_sell_opportunities\" table\n",
    "try:\n",
    "    customer_risk_df = spark.table(\"insurance_analytics.customer_risk_profiles\")\n",
    "    risk_value_matrix = spark.table(\"insurance_analytics.risk_value_matrix\")\n",
    "    cross_sell_opportunities = spark.table(\"insurance_analytics.cross_sell_opportunities\")\n",
    "# \n",
    "# Step 2: Load foundation tables for additional analysis\n",
    "# TODO: Load policies_df from \"insurance_analytics.policies\" table\n",
    "# TODO: Load claims_df from \"insurance_analytics.claims\" table\n",
    "# TODO: Load payments_df from \"insurance_analytics.payments\" table\n",
    "# TODO: Load interactions_df from \"insurance_analytics.interactions\" table\n",
    "    policies_df = spark.table(\"insurance_analytics.policies\")\n",
    "    claims_df = spark.table(\"insurance_analytics.claims\")\n",
    "    payments_df = spark.table(\"insurance_analytics.payments\")\n",
    "    interactions_df = spark.table(\"insurance_analytics.interactions\")\n",
    "# \n",
    "# Step 3: Validate data loading\n",
    "# TODO: Print success message and record counts for each table\n",
    "# TODO: Use .count() to verify all tables loaded successfully\n",
    "    print(\"✅ All tables loaded successfully\")\n",
    "    print(f\"\uD83D\uDCCA Customer Risk Profiles: {customer_risk_df.count():,}\")\n",
    "    print(f\"\uD83D\uDCCA Risk Value Matrix: {risk_value_matrix.count():,}\")\n",
    "    print(f\"\uD83D\uDCCA Cross Sell Opportunities: {cross_sell_opportunities.count():,}\")\n",
    "    print(f\"\uD83D\uDCCA Active Policies: {policies_df.count():,}\")\n",
    "    print(f\"\uD83D\uDCCA Claims: {claims_df.count():,}\")\n",
    "    print(f\"\uD83D\uDCCA Payments: {payments_df.count():,}\")\n",
    "    print(f\"\uD83D\uDCCA Customer Interactions: {interactions_df.count():,}\")\n",
    "#\n",
    "# EXPECTED OUTPUT: All 7 tables loaded with record counts displayed\n",
    "# Target: 15K customers, 75K policies, 12K claims, 200K payments, 30K interactions\n",
    "except Exception as e:\n",
    "    print(f\"❌ Error loading analysis tables: {e}\")\n",
    "    print(\"\uD83D\uDCA1 Ensure Notebook 1 (Risk Profiling) has been executed successfully\")\n",
    "    raise"
   ]
  },
  {
   "cell_type": "markdown",
   "metadata": {
    "application/vnd.databricks.v1+cell": {
     "cellMetadata": {},
     "inputWidgets": {},
     "nuid": "834bb311-fa2e-444a-b0ba-74624ebd2f54",
     "showTitle": false,
     "tableResultSettingsMap": {},
     "title": ""
    }
   },
   "source": [
    "## 1. Customer Lifetime Premium Value (CLPV) Analysis"
   ]
  },
  {
   "cell_type": "markdown",
   "metadata": {
    "application/vnd.databricks.v1+cell": {
     "cellMetadata": {},
     "inputWidgets": {},
     "nuid": "0d569bd0-f7e3-4d06-892e-5a9c542ac54f",
     "showTitle": false,
     "tableResultSettingsMap": {},
     "title": ""
    }
   },
   "source": [
    "### 1.1 Historical Premium Analysis"
   ]
  },
  {
   "cell_type": "code",
   "execution_count": 0,
   "metadata": {
    "application/vnd.databricks.v1+cell": {
     "cellMetadata": {
      "byteLimit": 2048000,
      "rowLimit": 10000
     },
     "inputWidgets": {},
     "nuid": "f7fb8430-2c4e-4e7e-bde3-47917681301a",
     "showTitle": false,
     "tableResultSettingsMap": {},
     "title": ""
    }
   },
   "outputs": [
    {
     "output_type": "stream",
     "name": "stdout",
     "output_type": "stream",
     "text": [
      "\uD83D\uDCB0 Calculating historical premium patterns...\n\uD83D\uDCCA Customer Tenure Analysis:\n+-------+---------------------+------------------+\n|summary|customer_tenure_years|annualized_premium|\n+-------+---------------------+------------------+\n|  count|                15000|             15000|\n|   mean|   2.7896810403832877| 28352.94043263979|\n| stddev|    1.585018027321702|110970.43326952966|\n|    min|  0.02737850787132101|               0.0|\n|    max|    5.519507186858316|3053800.7233928577|\n+-------+---------------------+------------------+\n\n"
     ]
    },
    {
     "output_type": "display_data",
     "data": {
      "text/html": [
       "<style scoped>\n",
       "  .table-result-container {\n",
       "    max-height: 300px;\n",
       "    overflow: auto;\n",
       "  }\n",
       "  table, th, td {\n",
       "    border: 1px solid black;\n",
       "    border-collapse: collapse;\n",
       "  }\n",
       "  th, td {\n",
       "    padding: 5px;\n",
       "  }\n",
       "  th {\n",
       "    text-align: left;\n",
       "  }\n",
       "</style><div class='table-result-container'><table class='table-result'><thead style='background-color: white'><tr><th>summary</th><th>customer_tenure_years</th><th>annualized_premium</th></tr></thead><tbody><tr><td>count</td><td>15000</td><td>15000</td></tr><tr><td>mean</td><td>2.7896810403832877</td><td>28352.94043263979</td></tr><tr><td>stddev</td><td>1.585018027321702</td><td>110970.43326952966</td></tr><tr><td>min</td><td>0.02737850787132101</td><td>0.0</td></tr><tr><td>max</td><td>5.519507186858316</td><td>3053800.7233928577</td></tr></tbody></table></div>"
      ]
     },
     "metadata": {
      "application/vnd.databricks.v1+output": {
       "addedWidgets": {},
       "aggData": [],
       "aggError": "",
       "aggOverflow": false,
       "aggSchema": [],
       "aggSeriesLimitReached": false,
       "aggType": "",
       "arguments": {},
       "columnCustomDisplayInfos": {},
       "data": [
        [
         "count",
         "15000",
         "15000"
        ],
        [
         "mean",
         "2.7896810403832877",
         "28352.94043263979"
        ],
        [
         "stddev",
         "1.585018027321702",
         "110970.43326952966"
        ],
        [
         "min",
         "0.02737850787132101",
         "0.0"
        ],
        [
         "max",
         "5.519507186858316",
         "3053800.7233928577"
        ]
       ],
       "datasetInfos": [],
       "dbfsResultPath": null,
       "isJsonSchema": true,
       "metadata": {},
       "overflow": false,
       "plotOptions": {
        "customPlotOptions": {},
        "displayType": "table",
        "pivotAggregation": null,
        "pivotColumns": null,
        "xColumns": null,
        "yColumns": null
       },
       "removedWidgets": [],
       "schema": [
        {
         "metadata": "{}",
         "name": "summary",
         "type": "\"string\""
        },
        {
         "metadata": "{}",
         "name": "customer_tenure_years",
         "type": "\"string\""
        },
        {
         "metadata": "{}",
         "name": "annualized_premium",
         "type": "\"string\""
        }
       ],
       "type": "table"
      }
     },
     "output_type": "display_data"
    },
    {
     "output_type": "stream",
     "name": "stdout",
     "output_type": "stream",
     "text": [
      "✅ Historical premium analysis completed\n"
     ]
    }
   ],
   "source": [
    "print(\"\uD83D\uDCB0 Calculating historical premium patterns...\")\n",
    "\n",
    "# BUSINESS CONTEXT: Customer tenure and premium growth patterns are key inputs to CLPV\n",
    "# Longer-tenure customers often have higher lifetime values and better retention rates\n",
    "\n",
    "# TODO: Calculate customer tenure and premium history\n",
    "# \n",
    "# Step 1: Calculate customer tenure\n",
    "# TODO: Add customer_tenure_days column using datediff(current_date(), acquisition_date)\n",
    "# TODO: Add customer_tenure_years column by dividing tenure_days by 365.25\n",
    "# \n",
    "# Step 2: Calculate annualized premium\n",
    "# TODO: Add annualized_premium column using when/otherwise logic:\n",
    "#       - When tenure_years > 0: total_premium / tenure_years\n",
    "#       - Otherwise: total_premium (for new customers)\n",
    "# \n",
    "# Step 3: Display analysis results\n",
    "# TODO: Show describe() statistics for customer_tenure_years and annualized_premium\n",
    "# TODO: Store result in customer_tenure_df for next steps\n",
    "#\n",
    "# EXPECTED OUTPUT: Customer tenure analysis with annualized premium calculations\n",
    "# Target: Average tenure 2-4 years, annualized premiums $500-$5,000\n",
    "\n",
    "customer_tenure_df = customer_risk_df.withColumn(\n",
    "    \"customer_tenure_days\",\n",
    "    datediff(current_date(), col(\"acquisition_date\"))\n",
    ").withColumn(\n",
    "    \"customer_tenure_years\",\n",
    "    col(\"customer_tenure_days\") / 365.25\n",
    ")\n",
    "\n",
    "# Calculate annualized premium per customer\n",
    "customer_tenure_df = customer_tenure_df.withColumn(\n",
    "    \"annualized_premium\",\n",
    "    when(col(\"customer_tenure_years\") > 0, \n",
    "         col(\"total_premium\") / col(\"customer_tenure_years\"))\n",
    "    .otherwise(col(\"total_premium\"))\n",
    ")\n",
    "\n",
    "print(\"\uD83D\uDCCA Customer Tenure Analysis:\")\n",
    "customer_tenure_df.select(\"customer_tenure_years\", \"annualized_premium\").describe().show()\n",
    "# or one more view as\n",
    "display(customer_tenure_df.select(\"customer_tenure_years\", \"annualized_premium\").describe())\n",
    "\n",
    "# Calculate premium growth trends\n",
    "premium_growth_df = customer_tenure_df.withColumn(\n",
    "    \"premium_growth_rate\",\n",
    "    when(col(\"customer_tenure_years\") > 1,\n",
    "         (col(\"annualized_premium\") - col(\"total_premium\") / col(\"customer_tenure_years\")) / \n",
    "         (col(\"total_premium\") / col(\"customer_tenure_years\")))\n",
    "    .otherwise(0.0)\n",
    ")\n",
    "\n",
    "print(\"✅ Historical premium analysis completed\")"
   ]
  },
  {
   "cell_type": "markdown",
   "metadata": {
    "application/vnd.databricks.v1+cell": {
     "cellMetadata": {},
     "inputWidgets": {},
     "nuid": "c324580a-0826-4a57-a2a6-8530aaa5bcf3",
     "showTitle": false,
     "tableResultSettingsMap": {},
     "title": ""
    }
   },
   "source": [
    "### 1.2 Customer Satisfaction Impact Analysis"
   ]
  },
  {
   "cell_type": "code",
   "execution_count": 0,
   "metadata": {
    "application/vnd.databricks.v1+cell": {
     "cellMetadata": {
      "byteLimit": 2048000,
      "rowLimit": 10000
     },
     "inputWidgets": {},
     "nuid": "3382d9c2-869e-4838-b566-2eb6300c6292",
     "showTitle": false,
     "tableResultSettingsMap": {},
     "title": ""
    }
   },
   "outputs": [
    {
     "output_type": "stream",
     "name": "stdout",
     "output_type": "stream",
     "text": [
      "\uD83D\uDE0A Analyzing customer satisfaction impact on value...\n✅ Customer satisfaction integrated into CLPV analysis\n"
     ]
    }
   ],
   "source": [
    "print(\"\uD83D\uDE0A Analyzing customer satisfaction impact on value...\")\n",
    "\n",
    "# BUSINESS CONTEXT: Customer satisfaction directly impacts retention and lifetime value\n",
    "# Higher satisfaction scores correlate with longer customer relationships and cross-selling success\n",
    "\n",
    "# TODO: Calculate customer satisfaction metrics\n",
    "# \n",
    "# Step 1: Calculate satisfaction scores per customer\n",
    "# TODO: Group interactions_df by customer_id and calculate:\n",
    "#       - avg(\"satisfaction_score\") as avg_satisfaction_score\n",
    "#       - count(\"interaction_id\") as total_interactions\n",
    "#       - sum(when(resolution_status == \"Resolved\", 1).otherwise(0)) as resolved_interactions\n",
    "# \n",
    "# Step 2: Calculate resolution rate\n",
    "# TODO: Add satisfaction_resolution_rate column using when/otherwise:\n",
    "#       - When total_interactions > 0: resolved_interactions / total_interactions\n",
    "#       - Otherwise: 1.0 (assume good for customers with no interactions)\n",
    "# \n",
    "# Step 3: Join with premium analysis\n",
    "# TODO: Join customer_satisfaction with premium_growth_df on customer_id using left join\n",
    "# TODO: Fill null values: avg_satisfaction_score = 3.5, total_interactions = 0, \n",
    "#       resolved_interactions = 0, satisfaction_resolution_rate = 1.0\n",
    "# TODO: Store result in clpv_base_df\n",
    "#\n",
    "# EXPECTED OUTPUT: Customer satisfaction integrated with premium analysis\n",
    "# Target: Average satisfaction 3.0-4.5, resolution rate >85%\n",
    "\n",
    "# Calculate average satisfaction score per customer\n",
    "customer_satisfaction = interactions_df.groupBy(\"customer_id\").agg(\n",
    "    avg(\"satisfaction_score\").alias(\"avg_satisfaction_score\"),\n",
    "    count(\"interaction_id\").alias(\"total_interactions\"),\n",
    "    sum(when(col(\"resolution_status\") == \"Resolved\", 1).otherwise(0)).alias(\"resolved_interactions\")\n",
    ")\n",
    "\n",
    "# Calculate satisfaction resolution rate\n",
    "customer_satisfaction = customer_satisfaction.withColumn(\n",
    "    \"satisfaction_resolution_rate\",\n",
    "    when(col(\"total_interactions\") > 0,\n",
    "         col(\"resolved_interactions\") / col(\"total_interactions\"))\n",
    "    .otherwise(1.0)\n",
    ")\n",
    "\n",
    "# Add satisfaction data to premium analysis\n",
    "clpv_base_df = premium_growth_df.join(customer_satisfaction, \"customer_id\", \"left\")\n",
    "\n",
    "# Fill nulls for customers with no interactions\n",
    "clpv_base_df = clpv_base_df.fillna({\n",
    "    \"avg_satisfaction_score\": 3.5,  # Neutral satisfaction\n",
    "    \"total_interactions\": 0,\n",
    "    \"resolved_interactions\": 0,\n",
    "    \"satisfaction_resolution_rate\": 1.0\n",
    "})\n",
    "\n",
    "print(\"✅ Customer satisfaction integrated into CLPV analysis\")"
   ]
  },
  {
   "cell_type": "markdown",
   "metadata": {
    "application/vnd.databricks.v1+cell": {
     "cellMetadata": {},
     "inputWidgets": {},
     "nuid": "3f234f96-5b8d-479d-bf51-70b8af805f0a",
     "showTitle": false,
     "tableResultSettingsMap": {},
     "title": ""
    }
   },
   "source": [
    "### 1.3 Risk-Adjusted CLPV Calculation"
   ]
  },
  {
   "cell_type": "code",
   "execution_count": 0,
   "metadata": {
    "application/vnd.databricks.v1+cell": {
     "cellMetadata": {
      "byteLimit": 2048000,
      "rowLimit": 10000
     },
     "inputWidgets": {},
     "nuid": "f98ff05c-6410-4327-8270-2560bf25d23a",
     "showTitle": false,
     "tableResultSettingsMap": {},
     "title": ""
    }
   },
   "outputs": [
    {
     "output_type": "stream",
     "name": "stdout",
     "output_type": "stream",
     "text": [
      "\uD83C\uDFAF Calculating risk-adjusted Customer Lifetime Premium Value...\n\uD83D\uDCCA CLPV Distribution Analysis:\n+-------+-------------------------------+\n|summary|customer_lifetime_premium_value|\n+-------+-------------------------------+\n|  count|                          15000|\n|   mean|              72169.02879780073|\n| stddev|             291152.84366676817|\n|    min|                            0.0|\n|    max|              8470824.861832032|\n+-------+-------------------------------+\n\n\uD83D\uDCCA CLPV by Risk Category:\n+-------------+--------------+------------------+-------------------+------------------+\n|risk_category|customer_count|          avg_clpv|         total_clpv|avg_retention_prob|\n+-------------+--------------+------------------+-------------------+------------------+\n|          Low|          3729|110593.72491015063|4.124040001899517E8|0.7839536068651244|\n|         High|          1451| 62219.95077879015|9.028114858002451E7|0.5594658855961445|\n|       Medium|          9820|59047.890345929976|5.798502831970323E8|0.6552365071283328|\n+-------------+--------------+------------------+-------------------+------------------+\n\n✅ Risk-adjusted CLPV calculation completed\n"
     ]
    }
   ],
   "source": [
    "print(\"\uD83C\uDFAF Calculating risk-adjusted Customer Lifetime Premium Value...\")\n",
    "\n",
    "# BUSINESS CONTEXT: CLPV must account for retention probability and risk levels\n",
    "# High-risk customers may churn sooner, while satisfied customers stay longer\n",
    "\n",
    "# TODO: Calculate retention probability and adjustments\n",
    "# \n",
    "# Step 1: Set base retention probability by risk category\n",
    "# TODO: Add retention_probability column using when/otherwise:\n",
    "#       - When risk_category == \"Low\": 0.85\n",
    "#       - When risk_category == \"Medium\": 0.75\n",
    "#       - Otherwise: 0.65 (High risk)\n",
    "# \n",
    "# Step 2: Calculate satisfaction adjustment factor\n",
    "# TODO: Add satisfaction_adjustment column using when/otherwise:\n",
    "#       - When avg_satisfaction_score >= 4.0: 1.15\n",
    "#       - When avg_satisfaction_score >= 3.5: 1.0\n",
    "#       - When avg_satisfaction_score >= 3.0: 0.9\n",
    "#       - Otherwise: 0.8\n",
    "# \n",
    "# Step 3: Calculate payment reliability adjustment\n",
    "# TODO: Add payment_reliability_adjustment column using when/otherwise:\n",
    "#       - When payment_reliability_score >= 0.95: 1.1\n",
    "#       - When payment_reliability_score >= 0.85: 1.0\n",
    "#       - Otherwise: 0.9\n",
    "# \n",
    "# Step 4: Calculate adjusted retention probability\n",
    "# TODO: Add adjusted_retention_probability column using least():\n",
    "#       - retention_probability * satisfaction_adjustment * payment_reliability_adjustment\n",
    "#       - Cap at 0.95 using least(calculation, lit(0.95))\n",
    "#\n",
    "# EXPECTED OUTPUT: All customers have adjusted retention probability between 0.4-0.95\n",
    "# Target: Most customers 0.7-0.9 retention probability\n",
    "\n",
    "# Calculate base CLPV components\n",
    "clpv_df = clpv_base_df.withColumn(\n",
    "    \"retention_probability\",\n",
    "    # Base retention probability adjusted by risk and satisfaction\n",
    "    when(col(\"risk_category\") == \"Low\", 0.85)\n",
    "    .when(col(\"risk_category\") == \"Medium\", 0.75)\n",
    "    .otherwise(0.65)\n",
    ").withColumn(\n",
    "    \"satisfaction_adjustment\",\n",
    "    # Satisfaction score impact on retention\n",
    "    when(col(\"avg_satisfaction_score\") >= 4.0, 1.15)\n",
    "    .when(col(\"avg_satisfaction_score\") >= 3.5, 1.0)\n",
    "    .when(col(\"avg_satisfaction_score\") >= 3.0, 0.9)\n",
    "    .otherwise(0.8)\n",
    ").withColumn(\n",
    "    \"payment_reliability_adjustment\",\n",
    "    # Payment reliability impact\n",
    "    when(col(\"payment_reliability_score\") >= 0.95, 1.1)\n",
    "    .when(col(\"payment_reliability_score\") >= 0.85, 1.0)\n",
    "    .otherwise(0.9)\n",
    ")\n",
    "\n",
    "# Calculate adjusted retention probability\n",
    "clpv_df = clpv_df.withColumn(\n",
    "    \"adjusted_retention_probability\",\n",
    "    least(\n",
    "        col(\"retention_probability\") * \n",
    "        col(\"satisfaction_adjustment\") * \n",
    "        col(\"payment_reliability_adjustment\"),\n",
    "        lit(0.95)  # Cap at 95%\n",
    "    )\n",
    ")\n",
    "\n",
    "# BUSINESS CONTEXT: Expected lifetime and premium multipliers determine final CLPV\n",
    "# Industry standard policy terms and risk-based pricing inform these calculations\n",
    "\n",
    "# TODO: Calculate expected lifetime and risk adjustments\n",
    "# \n",
    "# Step 1: Calculate expected customer lifetime\n",
    "# TODO: Add expected_lifetime_years column:\n",
    "#       - 3.0 * adjusted_retention_probability + (1.0 - adjusted_retention_probability) * 1.5\n",
    "#       - This assumes 3-year base term, shortened for non-retained customers\n",
    "# \n",
    "# Step 2: Calculate risk premium multiplier\n",
    "# TODO: Add risk_premium_multiplier column using when/otherwise:\n",
    "#       - When risk_category == \"Low\": 0.9 (discount for low risk)\n",
    "#       - When risk_category == \"Medium\": 1.0 (base rate)\n",
    "#       - Otherwise: 1.2 (premium for high risk)\n",
    "# \n",
    "# Step 3: Calculate predicted annual premium\n",
    "# TODO: Add predicted_annual_premium column:\n",
    "#       - annualized_premium * risk_premium_multiplier\n",
    "# \n",
    "# Step 4: Calculate final CLPV\n",
    "# TODO: Add customer_lifetime_premium_value column:\n",
    "#       - predicted_annual_premium * expected_lifetime_years\n",
    "# \n",
    "# Step 5: Display CLPV distribution\n",
    "# TODO: Show describe() statistics for customer_lifetime_premium_value\n",
    "# TODO: Show CLPV by risk category using groupBy and agg functions\n",
    "#\n",
    "# EXPECTED OUTPUT: CLPV calculated for all customers with realistic distribution\n",
    "# Target: Average CLPV $5,000-$15,000, higher for low-risk customers\n",
    "\n",
    "# Calculate expected customer lifetime (in years)\n",
    "clpv_df = clpv_df.withColumn(\n",
    "    \"expected_lifetime_years\",\n",
    "    # Average policy term is 3 years, adjusted by retention probability\n",
    "    3.0 * col(\"adjusted_retention_probability\") + \n",
    "    (1.0 - col(\"adjusted_retention_probability\")) * 1.5\n",
    ")\n",
    "\n",
    "# Calculate risk-adjusted premium multiplier\n",
    "clpv_df = clpv_df.withColumn(\n",
    "    \"risk_premium_multiplier\",\n",
    "    when(col(\"risk_category\") == \"Low\", 0.9)   # Low risk gets discount\n",
    "    .when(col(\"risk_category\") == \"Medium\", 1.0)  # Medium risk is base\n",
    "    .otherwise(1.2)  # High risk pays premium\n",
    ")\n",
    "\n",
    "# Calculate final CLPV\n",
    "clpv_df = clpv_df.withColumn(\n",
    "    \"predicted_annual_premium\",\n",
    "    col(\"annualized_premium\") * col(\"risk_premium_multiplier\")\n",
    ").withColumn(\n",
    "    \"customer_lifetime_premium_value\",\n",
    "    col(\"predicted_annual_premium\") * col(\"expected_lifetime_years\")\n",
    ")\n",
    "\n",
    "print(\"\uD83D\uDCCA CLPV Distribution Analysis:\")\n",
    "clpv_df.select(\"customer_lifetime_premium_value\").describe().show()\n",
    "\n",
    "# CLPV by customer segments\n",
    "print(\"\uD83D\uDCCA CLPV by Risk Category:\")\n",
    "clpv_by_risk = clpv_df.groupBy(\"risk_category\").agg(\n",
    "    count(\"*\").alias(\"customer_count\"),\n",
    "    avg(\"customer_lifetime_premium_value\").alias(\"avg_clpv\"),\n",
    "    sum(\"customer_lifetime_premium_value\").alias(\"total_clpv\"),\n",
    "    avg(\"adjusted_retention_probability\").alias(\"avg_retention_prob\")\n",
    ").orderBy(\"avg_clpv\", ascending=False)\n",
    "\n",
    "clpv_by_risk.show()\n",
    "\n",
    "print(\"✅ Risk-adjusted CLPV calculation completed\")"
   ]
  },
  {
   "cell_type": "markdown",
   "metadata": {
    "application/vnd.databricks.v1+cell": {
     "cellMetadata": {},
     "inputWidgets": {},
     "nuid": "21f1fa91-e01a-4f16-8273-16890d9b2447",
     "showTitle": false,
     "tableResultSettingsMap": {},
     "title": ""
    }
   },
   "source": [
    "### 1.4 Customer Value Segmentation Based on CLPV"
   ]
  },
  {
   "cell_type": "code",
   "execution_count": 0,
   "metadata": {
    "application/vnd.databricks.v1+cell": {
     "cellMetadata": {
      "byteLimit": 2048000,
      "rowLimit": 10000
     },
     "inputWidgets": {},
     "nuid": "d6748590-e66a-422a-936d-9f36c2360f47",
     "showTitle": false,
     "tableResultSettingsMap": {},
     "title": ""
    }
   },
   "outputs": [
    {
     "output_type": "stream",
     "name": "stdout",
     "output_type": "stream",
     "text": [
      "\uD83C\uDFAF Creating CLPV-based customer value segmentation...\n\uD83D\uDCCA CLPV Segmentation Thresholds:\n   Premium Customers (top 5%): $8,470,824.86+\n   High Value (60-95%): $62,878.52 - $8,470,824.86\n   Medium Value (15-85%): $26,466.97 - $62,878.52\n   Low Value (bottom 60%): < $26,466.97\n\uD83D\uDCCA CLPV Segment Distribution:\n+------------+--------------+------------------+--------------------+------------------+\n|clpv_segment|customer_count|          avg_clpv|  total_segment_clpv|avg_retention_prob|\n+------------+--------------+------------------+--------------------+------------------+\n|     Premium|             1| 8470824.861832032|   8470824.861832032|           0.94875|\n|  High Value|          2917| 289716.8904934479| 8.451041695693876E8|0.7021465546794604|\n|Medium Value|          3328| 40842.83697510524|1.3592496145315024E8|0.6642321965144172|\n|   Low Value|          8754|10627.767430047486|  9.30354760826357E7|0.6751080077679079|\n+------------+--------------+------------------+--------------------+------------------+\n\n\uD83D\uDCCA Risk Category vs CLPV Segment Matrix:\n+-------------+------------+-----+\n|risk_category|clpv_segment|count|\n+-------------+------------+-----+\n|         High|  High Value|  397|\n|         High|   Low Value|  647|\n|         High|Medium Value|  407|\n|          Low|  High Value|  830|\n|          Low|   Low Value| 2277|\n|          Low|Medium Value|  622|\n|       Medium|  High Value| 1690|\n|       Medium|   Low Value| 5830|\n|       Medium|Medium Value| 2299|\n|       Medium|     Premium|    1|\n+-------------+------------+-----+\n\n✅ CLPV-based customer segmentation completed\n"
     ]
    }
   ],
   "source": [
    "print(\"\uD83C\uDFAF Creating CLPV-based customer value segmentation...\")\n",
    "\n",
    "# BUSINESS CONTEXT: CLPV segmentation enables strategic customer investment decisions\n",
    "# Different customer segments require different service levels and investment strategies\n",
    "\n",
    "# TODO: Create CLPV-based customer segments\n",
    "# \n",
    "# Step 1: Calculate CLPV percentiles for segmentation\n",
    "# TODO: Use approxQuantile on customer_lifetime_premium_value with [0.6, 0.85, 0.95] percentiles\n",
    "# TODO: Store results as clpv_medium_threshold, clpv_high_threshold, clpv_premium_threshold\n",
    "# \n",
    "# Step 2: Print segmentation thresholds\n",
    "# TODO: Print each threshold with descriptive labels and dollar formatting\n",
    "# \n",
    "# Step 3: Assign CLPV segments\n",
    "# TODO: Add clpv_segment column using when/otherwise:\n",
    "#       - >= premium_threshold: \"Premium\"\n",
    "#       - >= high_threshold: \"High Value\"\n",
    "#       - >= medium_threshold: \"Medium Value\"\n",
    "#       - Otherwise: \"Low Value\"\n",
    "# \n",
    "# Step 4: Analyze segment distribution\n",
    "# TODO: Group by clpv_segment and calculate:\n",
    "#       - count(*) as customer_count\n",
    "#       - avg(customer_lifetime_premium_value) as avg_clpv\n",
    "#       - sum(customer_lifetime_premium_value) as total_segment_clpv\n",
    "#       - avg(adjusted_retention_probability) as avg_retention_prob\n",
    "# TODO: Order by avg_clpv descending and show results\n",
    "#\n",
    "# EXPECTED OUTPUT: Four CLPV segments with Premium (5%), High Value (25%), Medium Value (30%), Low Value (40%)\n",
    "# Target: Premium segment avg CLPV >$20K, High Value >$10K\n",
    "\n",
    "# Calculate CLPV percentiles for segmentation\n",
    "clpv_percentiles = clpv_df.approxQuantile(\"customer_lifetime_premium_value\", [0.6, 0.85, 0.95], 0.05)\n",
    "clpv_medium_threshold = clpv_percentiles[0]\n",
    "clpv_high_threshold = clpv_percentiles[1]  \n",
    "clpv_premium_threshold = clpv_percentiles[2]\n",
    "\n",
    "print(f\"\uD83D\uDCCA CLPV Segmentation Thresholds:\")\n",
    "print(f\"   Premium Customers (top 5%): ${clpv_premium_threshold:,.2f}+\")\n",
    "print(f\"   High Value (60-95%): ${clpv_high_threshold:,.2f} - ${clpv_premium_threshold:,.2f}\")\n",
    "print(f\"   Medium Value (15-85%): ${clpv_medium_threshold:,.2f} - ${clpv_high_threshold:,.2f}\")\n",
    "print(f\"   Low Value (bottom 60%): < ${clpv_medium_threshold:,.2f}\")\n",
    "\n",
    "# Assign CLPV-based segments\n",
    "clpv_df = clpv_df.withColumn(\n",
    "    \"clpv_segment\",\n",
    "    when(col(\"customer_lifetime_premium_value\") >= clpv_premium_threshold, lit(\"Premium\"))\n",
    "    .when(col(\"customer_lifetime_premium_value\") >= clpv_high_threshold, lit(\"High Value\"))\n",
    "    .when(col(\"customer_lifetime_premium_value\") >= clpv_medium_threshold, lit(\"Medium Value\"))\n",
    "    .otherwise(lit(\"Low Value\"))\n",
    ")\n",
    "\n",
    "# CLPV segment distribution\n",
    "print(\"\uD83D\uDCCA CLPV Segment Distribution:\")\n",
    "clpv_segment_dist = clpv_df.groupBy(\"clpv_segment\").agg(\n",
    "    count(\"*\").alias(\"customer_count\"),\n",
    "    avg(\"customer_lifetime_premium_value\").alias(\"avg_clpv\"),\n",
    "    sum(\"customer_lifetime_premium_value\").alias(\"total_segment_clpv\"),\n",
    "    avg(\"adjusted_retention_probability\").alias(\"avg_retention_prob\")\n",
    ").orderBy(\"avg_clpv\", ascending=False)\n",
    "\n",
    "clpv_segment_dist.show()\n",
    "\n",
    "# Cross-tabulation: Risk vs CLPV segments\n",
    "print(\"\uD83D\uDCCA Risk Category vs CLPV Segment Matrix:\")\n",
    "risk_clpv_matrix = clpv_df.groupBy(\"risk_category\", \"clpv_segment\").count().orderBy(\"risk_category\", \"clpv_segment\")\n",
    "risk_clpv_matrix.show()\n",
    "\n",
    "print(\"✅ CLPV-based customer segmentation completed\")"
   ]
  },
  {
   "cell_type": "markdown",
   "metadata": {
    "application/vnd.databricks.v1+cell": {
     "cellMetadata": {},
     "inputWidgets": {},
     "nuid": "fd843b87-336e-4713-a6bb-2f1c35ee2159",
     "showTitle": false,
     "tableResultSettingsMap": {},
     "title": ""
    }
   },
   "source": [
    "## 2. Renewal Prediction Modeling"
   ]
  },
  {
   "cell_type": "markdown",
   "metadata": {
    "application/vnd.databricks.v1+cell": {
     "cellMetadata": {},
     "inputWidgets": {},
     "nuid": "60c1e788-3e61-465d-8eb4-281566c9e6e2",
     "showTitle": false,
     "tableResultSettingsMap": {},
     "title": ""
    }
   },
   "source": [
    "### 2.1 Renewal Data Preparation"
   ]
  },
  {
   "cell_type": "code",
   "execution_count": 0,
   "metadata": {
    "application/vnd.databricks.v1+cell": {
     "cellMetadata": {
      "byteLimit": 2048000,
      "rowLimit": 10000
     },
     "inputWidgets": {},
     "nuid": "a8984449-6c99-49e1-9c0c-a675063bd772",
     "showTitle": false,
     "tableResultSettingsMap": {},
     "title": ""
    }
   },
   "outputs": [
    {
     "output_type": "stream",
     "name": "stdout",
     "output_type": "stream",
     "text": [
      "\uD83D\uDD04 Preparing renewal prediction dataset...\n\uD83D\uDCCA Renewal prediction dataset: 75,000 policies\n✅ Renewal prediction features prepared\n"
     ]
    }
   ],
   "source": [
    "print(\"\uD83D\uDD04 Preparing renewal prediction dataset...\")\n",
    "\n",
    "# BUSINESS CONTEXT: Renewal prediction enables proactive retention efforts\n",
    "# Identifying customers likely to leave allows targeted intervention strategies\n",
    "\n",
    "# TODO: Prepare renewal prediction features\n",
    "# \n",
    "# Step 1: Create renewal dataset with key metrics\n",
    "# TODO: Add days_to_renewal column using datediff(renewal_date, current_date())\n",
    "# TODO: Add renewal_within_90_days column: 1 if days_to_renewal <= 90, else 0\n",
    "# \n",
    "# Step 2: Create renewal target variable\n",
    "# TODO: Add renewed_successfully column using when/otherwise:\n",
    "#       - When policy_status == \"Active\": 1\n",
    "#       - When policy_status == \"Renewed\": 1\n",
    "#       - Otherwise: 0\n",
    "# \n",
    "# Step 3: Join with customer risk profiles\n",
    "# TODO: Join renewal_df with clpv_df on customer_id\n",
    "# TODO: Select relevant columns: customer_id, first_name, last_name, risk_category, clpv_segment,\n",
    "#       composite_risk_score, adjusted_retention_probability, customer_lifetime_premium_value,\n",
    "#       avg_satisfaction_score, payment_reliability_score, total_claims,\n",
    "#       customer_tenure_years, total_policies, policy_types_count\n",
    "# \n",
    "# Step 4: Add feature engineering\n",
    "# TODO: Add policy_age_years: datediff(current_date(), start_date) / 365.25\n",
    "# TODO: Add claims_frequency: when policy_age_years > 0, total_claims / policy_age_years, else 0\n",
    "# TODO: Store final result in renewal_features_df\n",
    "#\n",
    "# EXPECTED OUTPUT: Renewal prediction dataset with customer features and target variable\n",
    "# Target: 75K policies with renewal prediction features\n",
    "\n",
    "# Create renewal prediction dataset\n",
    "# Calculate days until renewal for active policies\n",
    "renewal_df = policies_df.withColumn(\n",
    "    \"days_to_renewal\",\n",
    "    datediff(col(\"renewal_date\"), current_date())\n",
    ").withColumn(\n",
    "    \"renewal_within_90_days\",\n",
    "    when(col(\"days_to_renewal\") <= 90, 1).otherwise(0)\n",
    ")\n",
    "\n",
    "# Create renewal target variable (historical renewals)\n",
    "renewal_df = renewal_df.withColumn(\n",
    "    \"renewed_successfully\",\n",
    "    when(col(\"policy_status\") == \"Active\", 1)\n",
    "    .when(col(\"policy_status\") == \"Renewed\", 1)\n",
    "    .otherwise(0)\n",
    ")\n",
    "\n",
    "# Join with customer risk profiles for features\n",
    "renewal_prediction_df = renewal_df.join(\n",
    "    clpv_df.select(\n",
    "        \"customer_id\", \"first_name\", \"last_name\", \"risk_category\", \"clpv_segment\", \n",
    "        \"composite_risk_score\", \"adjusted_retention_probability\", \"customer_lifetime_premium_value\",\n",
    "        \"avg_satisfaction_score\", \"payment_reliability_score\", \"total_claims\",\n",
    "        \"customer_tenure_years\", \"total_policies\", \"policy_types_count\"\n",
    "    ),\n",
    "    \"customer_id\"\n",
    ")\n",
    "\n",
    "print(f\"\uD83D\uDCCA Renewal prediction dataset: {renewal_prediction_df.count():,} policies\")\n",
    "\n",
    "# Feature engineering for prediction\n",
    "renewal_features_df = renewal_prediction_df.withColumn(\n",
    "    \"premium_to_income_ratio\",\n",
    "    col(\"premium_amount\") / (col(\"customer_lifetime_premium_value\") / col(\"customer_tenure_years\"))\n",
    ").withColumn(\n",
    "    \"policy_age_years\",\n",
    "    datediff(current_date(), col(\"start_date\")) / 365.25\n",
    ").withColumn(\n",
    "    \"claims_frequency\",\n",
    "    when(col(\"policy_age_years\") > 0, col(\"total_claims\") / col(\"policy_age_years\")).otherwise(0)\n",
    ")\n",
    "\n",
    "print(\"✅ Renewal prediction features prepared\")"
   ]
  },
  {
   "cell_type": "markdown",
   "metadata": {
    "application/vnd.databricks.v1+cell": {
     "cellMetadata": {},
     "inputWidgets": {},
     "nuid": "3ffda0b7-11f6-47a5-a871-1856131d228b",
     "showTitle": false,
     "tableResultSettingsMap": {},
     "title": ""
    }
   },
   "source": [
    "### 2.2 Renewal Probability Scoring"
   ]
  },
  {
   "cell_type": "code",
   "execution_count": 0,
   "metadata": {
    "application/vnd.databricks.v1+cell": {
     "cellMetadata": {
      "byteLimit": 2048000,
      "rowLimit": 10000
     },
     "inputWidgets": {},
     "nuid": "0e727902-5968-442d-9e9d-262f8bb54ed7",
     "showTitle": false,
     "tableResultSettingsMap": {},
     "title": ""
    }
   },
   "outputs": [
    {
     "output_type": "stream",
     "name": "stdout",
     "output_type": "stream",
     "text": [
      "\uD83D\uDCCA Calculating renewal probability scores...\n\uD83D\uDCCA Renewal Risk Distribution:\n+---------------------+------------+------------------+---------------------+\n|renewal_risk_category|policy_count|  avg_renewal_prob|total_premium_at_risk|\n+---------------------+------------+------------------+---------------------+\n|             Low Risk|       42859|0.9066050727909292|  2.366553938000004E8|\n|          Medium Risk|       28967|0.7107693195359386| 1.6552425878999928E8|\n|            High Risk|        3174|0.5555998950850721| 1.9469651450000014E7|\n+---------------------+------------+------------------+---------------------+\n\n✅ Renewal probability scoring completed\n"
     ]
    }
   ],
   "source": [
    "print(\"\uD83D\uDCCA Calculating renewal probability scores...\")\n",
    "\n",
    "# BUSINESS CONTEXT: Business rule-based scoring provides interpretable renewal probabilities\n",
    "# This approach is more transparent than machine learning for business stakeholders\n",
    "\n",
    "# TODO: Calculate renewal probability using business rules\n",
    "# \n",
    "# Step 1: Apply tenure adjustment\n",
    "# TODO: Add tenure_adjustment column using when/otherwise:\n",
    "#       - When customer_tenure_years >= 5: 1.15\n",
    "#       - When customer_tenure_years >= 3: 1.1\n",
    "#       - When customer_tenure_years >= 1: 1.0\n",
    "#       - Otherwise: 0.9\n",
    "# \n",
    "# Step 2: Apply policy count adjustment\n",
    "# TODO: Add policy_count_adjustment column using when/otherwise:\n",
    "#       - When total_policies >= 3: 1.2\n",
    "#       - When total_policies >= 2: 1.1\n",
    "#       - Otherwise: 1.0\n",
    "# \n",
    "# Step 3: Apply claims adjustment\n",
    "# TODO: Add claims_adjustment column using when/otherwise:\n",
    "#       - When total_claims == 0: 1.05\n",
    "#       - When total_claims <= 1: 1.0\n",
    "#       - When total_claims <= 2: 0.95\n",
    "#       - Otherwise: 0.9\n",
    "# \n",
    "# Step 4: Calculate final renewal probability\n",
    "# TODO: Add renewal_probability_score column using least():\n",
    "#       - adjusted_retention_probability * tenure_adjustment * policy_count_adjustment * claims_adjustment\n",
    "#       - Cap at 0.98 using least(calculation, lit(0.98))\n",
    "# \n",
    "# Step 5: Create renewal risk categories\n",
    "# TODO: Add renewal_risk_category column using when/otherwise:\n",
    "#       - When renewal_probability_score >= 0.8: \"Low Risk\"\n",
    "#       - When renewal_probability_score >= 0.6: \"Medium Risk\"\n",
    "#       - Otherwise: \"High Risk\"\n",
    "#\n",
    "# EXPECTED OUTPUT: All policies have renewal probability scores and risk categories\n",
    "# Target: Most policies 0.6-0.9 renewal probability, ~20% high risk\n",
    "\n",
    "# Create renewal probability model using business rules\n",
    "renewal_scored_df = renewal_features_df.withColumn(\n",
    "    \"base_renewal_probability\",\n",
    "    col(\"adjusted_retention_probability\")\n",
    ").withColumn(\n",
    "    \"tenure_adjustment\",\n",
    "    # Longer tenure customers are more likely to renew\n",
    "    when(col(\"customer_tenure_years\") >= 5, 1.15)\n",
    "    .when(col(\"customer_tenure_years\") >= 3, 1.1)\n",
    "    .when(col(\"customer_tenure_years\") >= 1, 1.0)\n",
    "    .otherwise(0.9)\n",
    ").withColumn(\n",
    "    \"policy_count_adjustment\",\n",
    "    # Multi-policy customers are more likely to renew\n",
    "    when(col(\"total_policies\") >= 3, 1.2)\n",
    "    .when(col(\"total_policies\") >= 2, 1.1)\n",
    "    .otherwise(1.0)\n",
    ").withColumn(\n",
    "    \"claims_adjustment\",\n",
    "    # Recent claims may affect renewal\n",
    "    when(col(\"total_claims\") == 0, 1.05)\n",
    "    .when(col(\"total_claims\") <= 1, 1.0)\n",
    "    .when(col(\"total_claims\") <= 2, 0.95)\n",
    "    .otherwise(0.9)\n",
    ")\n",
    "\n",
    "# Calculate final renewal probability\n",
    "renewal_scored_df = renewal_scored_df.withColumn(\n",
    "    \"renewal_probability_score\",\n",
    "    least(\n",
    "        col(\"base_renewal_probability\") * \n",
    "        col(\"tenure_adjustment\") * \n",
    "        col(\"policy_count_adjustment\") * \n",
    "        col(\"claims_adjustment\"),\n",
    "        lit(0.98)  # Cap at 98%\n",
    "    )\n",
    ")\n",
    "\n",
    "# Classify renewal risk\n",
    "renewal_scored_df = renewal_scored_df.withColumn(\n",
    "    \"renewal_risk_category\",\n",
    "    when(col(\"renewal_probability_score\") >= 0.8, lit(\"Low Risk\"))\n",
    "    .when(col(\"renewal_probability_score\") >= 0.6, lit(\"Medium Risk\"))\n",
    "    .otherwise(lit(\"High Risk\"))\n",
    ")\n",
    "\n",
    "print(\"\uD83D\uDCCA Renewal Risk Distribution:\")\n",
    "renewal_risk_dist = renewal_scored_df.groupBy(\"renewal_risk_category\").agg(\n",
    "    count(\"*\").alias(\"policy_count\"),\n",
    "    avg(\"renewal_probability_score\").alias(\"avg_renewal_prob\"),\n",
    "    sum(\"premium_amount\").alias(\"total_premium_at_risk\")\n",
    ").orderBy(\"avg_renewal_prob\", ascending=False)\n",
    "\n",
    "renewal_risk_dist.show()\n",
    "\n",
    "print(\"✅ Renewal probability scoring completed\")"
   ]
  },
  {
   "cell_type": "markdown",
   "metadata": {
    "application/vnd.databricks.v1+cell": {
     "cellMetadata": {},
     "inputWidgets": {},
     "nuid": "0b0889bd-aca9-493c-8d94-fc5c4d266589",
     "showTitle": false,
     "tableResultSettingsMap": {},
     "title": ""
    }
   },
   "source": [
    "### 2.3 At-Risk Customer Identification"
   ]
  },
  {
   "cell_type": "code",
   "execution_count": 0,
   "metadata": {
    "application/vnd.databricks.v1+cell": {
     "cellMetadata": {
      "byteLimit": 2048000,
      "rowLimit": 10000
     },
     "inputWidgets": {},
     "nuid": "0a4bf31b-289f-4038-be8d-f989b881cfb5",
     "showTitle": false,
     "tableResultSettingsMap": {},
     "title": ""
    }
   },
   "outputs": [
    {
     "output_type": "stream",
     "name": "stdout",
     "output_type": "stream",
     "text": [
      "⚠️ Identifying at-risk customers for retention efforts...\n\uD83D\uDCCA At-Risk Customers Identified: 1,509\n\uD83D\uDCCA At-Risk Customer Segments:\n+------------+-------------+--------------+------------------+------------------+\n|clpv_segment|risk_category|customer_count|   premium_at_risk|  avg_renewal_prob|\n+------------+-------------+--------------+------------------+------------------+\n|  High Value|         High|           362| 4163809.820000001|0.5476753839779008|\n|Medium Value|         High|           430|2728240.2499999986|0.5562740511627894|\n|   Low Value|         High|           502|1540034.7500000014|0.5579473625498018|\n|Medium Value|       Medium|            57|         547600.56|0.5794863157894741|\n|  High Value|       Medium|            57| 385653.2599999999|  0.57527052631579|\n|   Low Value|       Medium|           101|         248316.48|0.5822723762376244|\n+------------+-------------+--------------+------------------+------------------+\n\n\uD83D\uDCB0 Total Premium at Risk: $9,613,655.12\n✅ At-risk customer identification completed\n"
     ]
    }
   ],
   "source": [
    "print(\"⚠️ Identifying at-risk customers for retention efforts...\")\n",
    "\n",
    "# BUSINESS CONTEXT: Early identification of at-risk customers enables intervention\n",
    "# High-value customers at risk of leaving require immediate attention and investment\n",
    "\n",
    "# TODO: Identify at-risk customers for retention campaigns\n",
    "# \n",
    "# Step 1: Filter high-risk customers\n",
    "# TODO: Filter renewal_scored_df for customers with:\n",
    "#       - renewal_risk_category == \"High Risk\"\n",
    "#       - days_to_renewal <= 120\n",
    "#       - policy_status == \"Active\"\n",
    "# \n",
    "# Step 2: Select relevant columns for analysis\n",
    "# TODO: Select customer_id, policy_id, first_name, last_name, policy_type, premium_amount,\n",
    "#       renewal_probability_score, days_to_renewal, risk_category, clpv_segment,\n",
    "#       customer_lifetime_premium_value, avg_satisfaction_score, total_claims, payment_reliability_score\n",
    "# \n",
    "# Step 3: Create priority scoring\n",
    "# TODO: Add priority_score column:\n",
    "#       - (customer_lifetime_premium_value * 0.6) + (premium_amount * 0.4) - (renewal_probability_score * 1000)\n",
    "# TODO: Order by priority_score descending (highest priority first)\n",
    "# \n",
    "# Step 4: Analyze at-risk segments\n",
    "# TODO: Group by clpv_segment and risk_category, calculate:\n",
    "#       - count(*) as customer_count\n",
    "#       - sum(premium_amount) as premium_at_risk\n",
    "#       - avg(renewal_probability_score) as avg_renewal_prob\n",
    "# TODO: Order by premium_at_risk descending and display results\n",
    "# \n",
    "# Step 5: Calculate total risk exposure\n",
    "# TODO: Calculate total_premium_at_risk using sum(premium_amount) on at_risk_customers\n",
    "# TODO: Print formatted result\n",
    "#\n",
    "# EXPECTED OUTPUT: Priority-ranked at-risk customers with value-based scoring\n",
    "# Target: 2,000-5,000 at-risk customers, $5-15M premium at risk\n",
    "\n",
    "# Identify customers with high-value policies at risk of non-renewal\n",
    "at_risk_customers = renewal_scored_df.filter(\n",
    "    (col(\"renewal_risk_category\") == \"High Risk\") & \n",
    "    (col(\"days_to_renewal\") <= 120) &\n",
    "    (col(\"policy_status\") == \"Active\")\n",
    ").select(\n",
    "    \"customer_id\", \"policy_id\", \"first_name\", \"last_name\", \n",
    "    \"policy_type\", \"premium_amount\", \"renewal_probability_score\",\n",
    "    \"days_to_renewal\", \"risk_category\", \"clpv_segment\",\n",
    "    \"customer_lifetime_premium_value\", \"avg_satisfaction_score\",\n",
    "    \"total_claims\", \"payment_reliability_score\"\n",
    ")\n",
    "\n",
    "# Prioritize by value at risk\n",
    "at_risk_customers = at_risk_customers.withColumn(\n",
    "    \"priority_score\",\n",
    "    (col(\"customer_lifetime_premium_value\") * 0.6) + \n",
    "    (col(\"premium_amount\") * 0.4) -\n",
    "    (col(\"renewal_probability_score\") * 1000)\n",
    ").orderBy(\"priority_score\", ascending=False)\n",
    "\n",
    "print(f\"\uD83D\uDCCA At-Risk Customers Identified: {at_risk_customers.count():,}\")\n",
    "\n",
    "# At-risk customer segments\n",
    "at_risk_summary = at_risk_customers.groupBy(\"clpv_segment\", \"risk_category\").agg(\n",
    "    count(\"*\").alias(\"customer_count\"),\n",
    "    sum(\"premium_amount\").alias(\"premium_at_risk\"),\n",
    "    avg(\"renewal_probability_score\").alias(\"avg_renewal_prob\")\n",
    ").orderBy(\"premium_at_risk\", ascending=False)\n",
    "\n",
    "print(\"\uD83D\uDCCA At-Risk Customer Segments:\")\n",
    "at_risk_summary.show()\n",
    "\n",
    "# Calculate total premium at risk\n",
    "total_premium_at_risk = at_risk_customers.agg(sum(\"premium_amount\")).collect()[0][0]\n",
    "print(f\"\uD83D\uDCB0 Total Premium at Risk: ${total_premium_at_risk:,.2f}\")\n",
    "\n",
    "print(\"✅ At-risk customer identification completed\")"
   ]
  },
  {
   "cell_type": "markdown",
   "metadata": {
    "application/vnd.databricks.v1+cell": {
     "cellMetadata": {},
     "inputWidgets": {},
     "nuid": "b08a019e-b94a-40d0-9f78-6804c2cbff6d",
     "showTitle": false,
     "tableResultSettingsMap": {},
     "title": ""
    }
   },
   "source": [
    "## 3. Pricing Optimization Analysis"
   ]
  },
  {
   "cell_type": "markdown",
   "metadata": {
    "application/vnd.databricks.v1+cell": {
     "cellMetadata": {},
     "inputWidgets": {},
     "nuid": "d8c4db37-b7a1-4236-bb00-68d774b616d4",
     "showTitle": false,
     "tableResultSettingsMap": {},
     "title": ""
    }
   },
   "source": [
    "### 3.1 Risk-Based Pricing Analysis"
   ]
  },
  {
   "cell_type": "code",
   "execution_count": 0,
   "metadata": {
    "application/vnd.databricks.v1+cell": {
     "cellMetadata": {
      "byteLimit": 2048000,
      "rowLimit": 10000
     },
     "inputWidgets": {},
     "nuid": "590b9572-8744-43b4-adbf-469934e5716e",
     "showTitle": false,
     "tableResultSettingsMap": {},
     "title": ""
    }
   },
   "outputs": [
    {
     "output_type": "stream",
     "name": "stdout",
     "output_type": "stream",
     "text": [
      "\uD83D\uDCB2 Analyzing risk-based pricing opportunities...\n\uD83D\uDCCA Pricing Analysis by Risk Category:\n+-------------+--------------+------------------+-------------------+-------------------+-----------------------+\n|risk_category|customer_count|  avg_claims_ratio|  avg_profitability|current_avg_premium|recommended_avg_premium|\n+-------------+--------------+------------------+-------------------+-------------------+-----------------------+\n|         High|          1451| 9.258426724457319|-153978.05939352125|  22158.96050222248|     26590.752602667024|\n|       Medium|          9820|6.4102212657681985| -68121.28024439936|  23196.96012748027|      23196.96012748027|\n|          Low|          3729|0.8859396105904497| 16519.611482971246|  44340.92420193463|      39906.83178174112|\n+-------------+--------------+------------------+-------------------+-------------------+-----------------------+\n\n\uD83D\uDCCA Pricing Adjustment Recommendations:\n+-------------+--------------+------------------+-------------------+-------------------+-----------------------+----------------------+---------------------+\n|risk_category|customer_count|  avg_claims_ratio|  avg_profitability|current_avg_premium|recommended_avg_premium|pricing_adjustment_pct|annual_revenue_impact|\n+-------------+--------------+------------------+-------------------+-------------------+-----------------------+----------------------+---------------------+\n|         High|          1451| 9.258426724457319|-153978.05939352125|  22158.96050222248|     26590.752602667024|    20.000000000000224|    6430530.337745035|\n|       Medium|          9820|6.4102212657681985| -68121.28024439936|  23196.96012748027|      23196.96012748027|                   0.0|                  0.0|\n|          Low|          3729|0.8859396105904497| 16519.611482971246|  44340.92420193463|      39906.83178174112|   -10.000000000000094| -1.653473063490158E7|\n+-------------+--------------+------------------+-------------------+-------------------+-----------------------+----------------------+---------------------+\n\n\uD83D\uDCB0 Total Annual Revenue Impact: $-10,104,200.30\n✅ Risk-based pricing analysis completed\n"
     ]
    }
   ],
   "source": [
    "print(\"\uD83D\uDCB2 Analyzing risk-based pricing opportunities...\")\n",
    "\n",
    "# BUSINESS CONTEXT: Risk-based pricing ensures premiums reflect actual risk levels\n",
    "# Proper pricing protects profitability while maintaining competitiveness\n",
    "\n",
    "# TODO: Analyze current pricing efficiency and optimization opportunities\n",
    "# \n",
    "# Step 1: Calculate pricing metrics\n",
    "# TODO: Add claims_ratio column: when total_premium > 0, total_claim_amount / total_premium, else 0\n",
    "# TODO: Add profitability_score column: total_premium - total_claim_amount\n",
    "# TODO: Add risk_adjusted_rate column: annualized_premium * risk_premium_multiplier\n",
    "# \n",
    "# Step 2: Analyze pricing by risk category\n",
    "# TODO: Group clpv_df by risk_category and calculate:\n",
    "#       - count(*) as customer_count\n",
    "#       - avg(claims_ratio) as avg_claims_ratio\n",
    "#       - avg(profitability_score) as avg_profitability\n",
    "#       - avg(annualized_premium) as current_avg_premium\n",
    "#       - avg(risk_adjusted_rate) as recommended_avg_premium\n",
    "# TODO: Order by avg_claims_ratio descending and display results\n",
    "# \n",
    "# Step 3: Calculate pricing adjustments\n",
    "# TODO: Add pricing_adjustment_pct column:\n",
    "#       - ((recommended_avg_premium - current_avg_premium) / current_avg_premium) * 100\n",
    "# TODO: Add annual_revenue_impact column:\n",
    "#       - customer_count * (recommended_avg_premium - current_avg_premium)\n",
    "# \n",
    "# Step 4: Calculate total revenue impact\n",
    "# TODO: Calculate total_revenue_impact using sum(annual_revenue_impact)\n",
    "# TODO: Print formatted result\n",
    "#\n",
    "# EXPECTED OUTPUT: Pricing analysis showing adjustment recommendations by risk category\n",
    "# Target: 5-15% pricing adjustments, $2-8M annual revenue impact\n",
    "\n",
    "# Calculate current pricing efficiency\n",
    "pricing_analysis_df = clpv_df.withColumn(\n",
    "    \"claims_ratio\",\n",
    "    when(col(\"total_premium\") > 0, col(\"total_claim_amount\") / col(\"total_premium\")).otherwise(0)\n",
    ").withColumn(\n",
    "    \"profitability_score\",\n",
    "    col(\"total_premium\") - col(\"total_claim_amount\")\n",
    ").withColumn(\n",
    "    \"risk_adjusted_rate\",\n",
    "    col(\"annualized_premium\") * col(\"risk_premium_multiplier\")\n",
    ")\n",
    "\n",
    "# Pricing optimization by risk category\n",
    "pricing_by_risk = pricing_analysis_df.groupBy(\"risk_category\").agg(\n",
    "    count(\"*\").alias(\"customer_count\"),\n",
    "    avg(\"claims_ratio\").alias(\"avg_claims_ratio\"),\n",
    "    avg(\"profitability_score\").alias(\"avg_profitability\"),\n",
    "    avg(\"annualized_premium\").alias(\"current_avg_premium\"),\n",
    "    avg(\"risk_adjusted_rate\").alias(\"recommended_avg_premium\")\n",
    ").orderBy(\"avg_claims_ratio\", ascending=False)\n",
    "\n",
    "print(\"\uD83D\uDCCA Pricing Analysis by Risk Category:\")\n",
    "pricing_by_risk.show()\n",
    "\n",
    "# Calculate pricing adjustment recommendations\n",
    "pricing_recommendations = pricing_by_risk.withColumn(\n",
    "    \"pricing_adjustment_pct\",\n",
    "    ((col(\"recommended_avg_premium\") - col(\"current_avg_premium\")) / col(\"current_avg_premium\")) * 100\n",
    ").withColumn(\n",
    "    \"annual_revenue_impact\",\n",
    "    col(\"customer_count\") * (col(\"recommended_avg_premium\") - col(\"current_avg_premium\"))\n",
    ")\n",
    "\n",
    "print(\"\uD83D\uDCCA Pricing Adjustment Recommendations:\")\n",
    "pricing_recommendations.show()\n",
    "\n",
    "# Total potential revenue impact\n",
    "total_revenue_impact = pricing_recommendations.agg(sum(\"annual_revenue_impact\")).collect()[0][0]\n",
    "print(f\"\uD83D\uDCB0 Total Annual Revenue Impact: ${total_revenue_impact:,.2f}\")\n",
    "\n",
    "print(\"✅ Risk-based pricing analysis completed\")"
   ]
  },
  {
   "cell_type": "markdown",
   "metadata": {
    "application/vnd.databricks.v1+cell": {
     "cellMetadata": {},
     "inputWidgets": {},
     "nuid": "1a3e2609-4600-4fb5-9ced-1fc130860dfa",
     "showTitle": false,
     "tableResultSettingsMap": {},
     "title": ""
    }
   },
   "source": [
    "### 3.2 Customer Segment Pricing Strategy"
   ]
  },
  {
   "cell_type": "code",
   "execution_count": 0,
   "metadata": {
    "application/vnd.databricks.v1+cell": {
     "cellMetadata": {
      "byteLimit": 2048000,
      "rowLimit": 10000
     },
     "inputWidgets": {},
     "nuid": "d3e2a8a2-601e-4974-bb7e-76a26aca2cd5",
     "showTitle": false,
     "tableResultSettingsMap": {},
     "title": ""
    }
   },
   "outputs": [
    {
     "output_type": "stream",
     "name": "stdout",
     "output_type": "stream",
     "text": [
      "\uD83C\uDFAF Developing segment-specific pricing strategies...\n\uD83D\uDCCA Segment Pricing Strategy:\n+------------+-------------+--------------+-------------------+-------------------+------------------+------------------+-------------------+\n|clpv_segment|risk_category|customer_count|current_avg_premium|recommended_premium|          avg_clpv|avg_retention_prob|   pricing_strategy|\n+------------+-------------+--------------+-------------------+-------------------+------------------+------------------+-------------------+\n|  High Value|       Medium|          1690|   95166.1497093769|  85649.53473843928|244352.90788307964|0.6743210059171486|Value-Based Pricing|\n|  High Value|         High|           397|  57851.32894535265| 62479.435260980965|162715.14224587675|0.5666788413098237|Value-Based Pricing|\n|   Low Value|         High|           647|  4782.090406261455|  6886.210185016503|13391.178606748857|0.5574679289026266|Penetration Pricing|\n|   Low Value|       Medium|          5830|  4506.163361639222|  5407.396033967047|11130.925908498633|0.6502339193825151|Penetration Pricing|\n|     Premium|       Medium|             1|      2897866.10625| 2318292.8850000002| 8470824.861832032|           0.94875|    Premium Pricing|\n|Medium Value|          Low|           622|  17075.21423655694| 16904.462094191385| 40797.54169944822|0.7739959807073921|Competitive Pricing|\n|Medium Value|       Medium|          2299|  16439.56369656497|  18083.52006622147|40682.795113635875|0.6537657677250835|Competitive Pricing|\n|Medium Value|         High|           407| 14967.227529652777| 19756.740339141674| 41816.07997504867|0.5556062653562648|Competitive Pricing|\n|   Low Value|          Low|          2277| 3601.6724227320465|  3889.806216550609| 8554.275572034303|0.7722222222222288|Penetration Pricing|\n|  High Value|          Low|           830| 176536.76504495795| 142994.77968641615|442831.13707876205|0.8235993975903566|Value-Based Pricing|\n+------------+-------------+--------------+-------------------+-------------------+------------------+------------------+-------------------+\n\n\uD83D\uDCCA Revenue Impact by Segment:\n+------------+-------------+--------------+----------------------+\n|clpv_segment|risk_category|customer_count|segment_revenue_impact|\n+------------+-------------+--------------+----------------------+\n|  High Value|       Medium|          1690|  -1.60830793008845...|\n|  High Value|         High|           397|    1837358.2073044402|\n|   Low Value|         High|           647|    1361365.4968545155|\n|   Low Value|       Medium|          5830|     5254186.479671218|\n|     Premium|       Medium|             1|         -579573.22125|\n|Medium Value|          Low|           622|   -106207.83255137596|\n|Medium Value|       Medium|          2299|     3779455.693840298|\n|Medium Value|         High|           407|     1949331.713461981|\n|   Low Value|          Low|          2277|     656080.6485248668|\n|  High Value|          Low|           830|  -2.78398478475896...|\n+------------+-------------+--------------+----------------------+\n\n✅ Segment-specific pricing strategy completed\n"
     ]
    }
   ],
   "source": [
    "print(\"\uD83C\uDFAF Developing segment-specific pricing strategies...\")\n",
    "\n",
    "# BUSINESS CONTEXT: Different customer segments have different price sensitivity\n",
    "# Premium customers are less price-sensitive, while budget customers require competitive pricing\n",
    "\n",
    "# TODO: Develop pricing strategy by customer segment\n",
    "# \n",
    "# Step 1: Calculate price sensitivity by segment\n",
    "# TODO: Add price_sensitivity column using when/otherwise:\n",
    "#       - When clpv_segment == \"Premium\": 0.8\n",
    "#       - When clpv_segment == \"High Value\": 0.9\n",
    "#       - When clpv_segment == \"Medium Value\": 1.1\n",
    "#       - Otherwise: 1.2\n",
    "# \n",
    "# Step 2: Calculate optimal premium\n",
    "# TODO: Add optimal_premium column:\n",
    "#       - annualized_premium * risk_premium_multiplier * price_sensitivity\n",
    "# \n",
    "# Step 3: Create segment pricing strategy\n",
    "# TODO: Group by clpv_segment and risk_category, calculate:\n",
    "#       - count(*) as customer_count\n",
    "#       - avg(annualized_premium) as current_avg_premium\n",
    "#       - avg(optimal_premium) as recommended_premium\n",
    "#       - avg(customer_lifetime_premium_value) as avg_clpv\n",
    "#       - avg(adjusted_retention_probability) as avg_retention_prob\n",
    "# \n",
    "# Step 4: Add pricing strategy labels\n",
    "# TODO: Add pricing_strategy column using when/otherwise:\n",
    "#       - When clpv_segment == \"Premium\": \"Premium Pricing\"\n",
    "#       - When clpv_segment == \"High Value\": \"Value-Based Pricing\"\n",
    "#       - When clpv_segment == \"Medium Value\": \"Competitive Pricing\"\n",
    "#       - Otherwise: \"Penetration Pricing\"\n",
    "# \n",
    "# Step 5: Calculate segment revenue impact\n",
    "# TODO: Add segment_revenue_impact column:\n",
    "#       - customer_count * (recommended_premium - current_avg_premium)\n",
    "# TODO: Display results ordered by segment_revenue_impact descending\n",
    "#\n",
    "# EXPECTED OUTPUT: Segment-specific pricing strategies with revenue impact\n",
    "# Target: Different pricing approaches for each segment, $3-10M total impact\n",
    "\n",
    "# Pricing elasticity by customer segment\n",
    "segment_pricing_df = clpv_df.withColumn(\n",
    "    \"price_sensitivity\",\n",
    "    # High-value customers are less price-sensitive\n",
    "    when(col(\"clpv_segment\") == \"Premium\", 0.8)\n",
    "    .when(col(\"clpv_segment\") == \"High Value\", 0.9)\n",
    "    .when(col(\"clpv_segment\") == \"Medium Value\", 1.1)\n",
    "    .otherwise(1.2)\n",
    ").withColumn(\n",
    "    \"optimal_premium\",\n",
    "    col(\"annualized_premium\") * col(\"risk_premium_multiplier\") * col(\"price_sensitivity\")\n",
    ")\n",
    "\n",
    "# Segment pricing strategy\n",
    "segment_pricing_strategy = segment_pricing_df.groupBy(\"clpv_segment\", \"risk_category\").agg(\n",
    "    count(\"*\").alias(\"customer_count\"),\n",
    "    avg(\"annualized_premium\").alias(\"current_avg_premium\"),\n",
    "    avg(\"optimal_premium\").alias(\"recommended_premium\"),\n",
    "    avg(\"customer_lifetime_premium_value\").alias(\"avg_clpv\"),\n",
    "    avg(\"adjusted_retention_probability\").alias(\"avg_retention_prob\")\n",
    ").withColumn(\n",
    "    \"pricing_strategy\",\n",
    "    when(col(\"clpv_segment\") == \"Premium\", lit(\"Premium Pricing\"))\n",
    "    .when(col(\"clpv_segment\") == \"High Value\", lit(\"Value-Based Pricing\"))\n",
    "    .when(col(\"clpv_segment\") == \"Medium Value\", lit(\"Competitive Pricing\"))\n",
    "    .otherwise(lit(\"Penetration Pricing\"))\n",
    ")\n",
    "\n",
    "print(\"\uD83D\uDCCA Segment Pricing Strategy:\")\n",
    "segment_pricing_strategy.show()\n",
    "\n",
    "# Calculate segment-specific revenue impact\n",
    "segment_revenue_impact = segment_pricing_strategy.withColumn(\n",
    "    \"segment_revenue_impact\",\n",
    "    col(\"customer_count\") * (col(\"recommended_premium\") - col(\"current_avg_premium\"))\n",
    ")\n",
    "\n",
    "print(\"\uD83D\uDCCA Revenue Impact by Segment:\")\n",
    "segment_revenue_impact.select(\"clpv_segment\", \"risk_category\", \"customer_count\", \"segment_revenue_impact\").show()\n",
    "\n",
    "print(\"✅ Segment-specific pricing strategy completed\")"
   ]
  },
  {
   "cell_type": "markdown",
   "metadata": {
    "application/vnd.databricks.v1+cell": {
     "cellMetadata": {},
     "inputWidgets": {},
     "nuid": "a175d12d-3197-4bf9-95ae-5eee8dd8ea5b",
     "showTitle": false,
     "tableResultSettingsMap": {},
     "title": ""
    }
   },
   "source": [
    "## 4. Advanced Claims Pattern Analysis and Fraud Detection"
   ]
  },
  {
   "cell_type": "markdown",
   "metadata": {
    "application/vnd.databricks.v1+cell": {
     "cellMetadata": {},
     "inputWidgets": {},
     "nuid": "7b99ee41-ba1d-471c-b47c-fb50f837282c",
     "showTitle": false,
     "tableResultSettingsMap": {},
     "title": ""
    }
   },
   "source": [
    "### 4.1 Fraud Detection Indicators"
   ]
  },
  {
   "cell_type": "code",
   "execution_count": 0,
   "metadata": {
    "application/vnd.databricks.v1+cell": {
     "cellMetadata": {
      "byteLimit": 2048000,
      "rowLimit": 10000
     },
     "inputWidgets": {},
     "nuid": "f2e40540-ae17-4380-bc86-8f2d5ebec2bf",
     "showTitle": false,
     "tableResultSettingsMap": {},
     "title": ""
    }
   },
   "outputs": [
    {
     "output_type": "stream",
     "name": "stdout",
     "output_type": "stream",
     "text": [
      "\uD83D\uDD0D Analyzing fraud detection patterns...\n\uD83D\uDCCA Fraud Risk Distribution:\n+-------------------+-----------+--------------------+------------------+-----------------+\n|fraud_risk_category|claim_count|  total_claim_amount|  avg_claim_amount|  avg_fraud_score|\n+-------------------+-----------+--------------------+------------------+-----------------+\n|          High Risk|        661|2.1475440545000005E8| 324893.2003782149|6.012102874432678|\n|        Medium Risk|       3259|      9.0420248723E8| 277447.8328413624|3.855783982816815|\n|           Low Risk|       6723|1.3346391631999962E8|19851.839405027462|1.343447865536219|\n+-------------------+-----------+--------------------+------------------+-----------------+\n\n\uD83D\uDCCA High-Risk Claims for Investigation: 661\n\uD83D\uDCCA Fraud Exposure Analysis:\n+-------------------+--------------------+-----------+------------------+\n|fraud_risk_category|      total_exposure|claim_count|fraud_exposure_pct|\n+-------------------+--------------------+-----------+------------------+\n|           Low Risk|1.3346391631999962E8|       6723|10.656475472214856|\n|          High Risk|2.1475440545000005E8|        661|17.147144466680643|\n|        Medium Risk|      9.0420248723E8|       3259| 72.19638006110468|\n+-------------------+--------------------+-----------+------------------+\n\n✅ Fraud detection analysis completed\n"
     ]
    }
   ],
   "source": [
    "print(\"\uD83D\uDD0D Analyzing fraud detection patterns...\")\n",
    "\n",
    "# BUSINESS CONTEXT: Fraud detection protects company profitability and honest customers\n",
    "# Statistical outliers and behavioral patterns can indicate potential fraud\n",
    "\n",
    "# TODO: Implement enhanced fraud detection analysis\n",
    "# \n",
    "# Step 1: Calculate fraud risk indicators\n",
    "# TODO: Add claim_amount_zscore column: (claim_amount - 5000) / 10000 (simplified z-score)\n",
    "# TODO: Add days_policy_to_claim column: datediff(claim_date, current_date()) (simplified)\n",
    "# \n",
    "# Step 2: Join with customer risk data\n",
    "# TODO: Join claims_df with clpv_df on customer_id\n",
    "# TODO: Select customer_id, risk_category, composite_risk_score, total_claims, payment_reliability_score\n",
    "# \n",
    "# Step 3: Calculate comprehensive fraud risk score\n",
    "# TODO: Add fraud_risk_score column by adding these components:\n",
    "#       - when(claim_amount > 50000, 2).otherwise(0)  # Large claims\n",
    "#       - when(fraud_indicator == True, 3).otherwise(0)  # Existing fraud flag\n",
    "#       - when(claim_amount_zscore > 2, 1).otherwise(0)  # Statistical outlier\n",
    "#       - when(days_to_settle < 5, 1).otherwise(0)  # Quick settlement\n",
    "#       - when(payment_reliability_score < 0.8, 1).otherwise(0)  # Poor payment history\n",
    "# \n",
    "# Step 4: Categorize fraud risk\n",
    "# TODO: Add fraud_risk_category column using when/otherwise:\n",
    "#       - When fraud_risk_score >= 5: \"High Risk\"\n",
    "#       - When fraud_risk_score >= 3: \"Medium Risk\"\n",
    "#       - Otherwise: \"Low Risk\"\n",
    "# \n",
    "# Step 5: Analyze fraud risk distribution\n",
    "# TODO: Group by fraud_risk_category and calculate:\n",
    "#       - count(*) as claim_count\n",
    "#       - sum(claim_amount) as total_claim_amount\n",
    "#       - avg(claim_amount) as avg_claim_amount\n",
    "#       - avg(fraud_risk_score) as avg_fraud_score\n",
    "# TODO: Order by avg_fraud_score descending and display results\n",
    "#\n",
    "# EXPECTED OUTPUT: Fraud risk analysis with high-risk claims identified\n",
    "# Target: 5-15% high-risk claims, $1-5M in high-risk exposure\n",
    "\n",
    "# Enhanced fraud detection analysis\n",
    "fraud_analysis_df = claims_df.withColumn(\n",
    "    \"claim_to_premium_ratio\",\n",
    "    col(\"claim_amount\") / 1000  # Normalize for analysis\n",
    ").withColumn(\n",
    "    \"days_policy_to_claim\",\n",
    "    datediff(col(\"claim_date\"), current_date()) # Simplified for demo\n",
    ").withColumn(\n",
    "    \"claim_amount_zscore\",\n",
    "    # Z-score calculation for outlier detection\n",
    "    (col(\"claim_amount\") - 5000) / 10000  # Simplified calculation\n",
    ")\n",
    "\n",
    "# Join with customer risk profiles\n",
    "fraud_analysis_df = fraud_analysis_df.join(\n",
    "    clpv_df.select(\"customer_id\", \"risk_category\", \"composite_risk_score\", \"total_claims\", \"payment_reliability_score\"),\n",
    "    \"customer_id\"\n",
    ")\n",
    "\n",
    "# Enhanced fraud scoring\n",
    "fraud_scored_df = fraud_analysis_df.withColumn(\n",
    "    \"fraud_risk_score\",\n",
    "    # Combine multiple fraud indicators\n",
    "    (when(col(\"claim_amount\") > 50000, 2).otherwise(0)) +  # Large claims\n",
    "    (when(col(\"fraud_indicator\") == 1, 3).otherwise(0)) +  # Existing fraud flag\n",
    "    (when(col(\"claim_amount_zscore\") > 2, 1).otherwise(0)) +  # Statistical outlier\n",
    "    (when(col(\"days_to_settle\") < 5, 1).otherwise(0)) +  # Quick settlement\n",
    "    (when(col(\"payment_reliability_score\") < 0.8, 1).otherwise(0))  # Poor payment history\n",
    ").withColumn(\n",
    "    \"fraud_risk_category\",\n",
    "    when(col(\"fraud_risk_score\") >= 5, lit(\"High Risk\"))\n",
    "    .when(col(\"fraud_risk_score\") >= 3, lit(\"Medium Risk\"))\n",
    "    .otherwise(lit(\"Low Risk\"))\n",
    ")\n",
    "\n",
    "print(\"\uD83D\uDCCA Fraud Risk Distribution:\")\n",
    "fraud_risk_dist = fraud_scored_df.groupBy(\"fraud_risk_category\").agg(\n",
    "    count(\"*\").alias(\"claim_count\"),\n",
    "    sum(\"claim_amount\").alias(\"total_claim_amount\"),\n",
    "    avg(\"claim_amount\").alias(\"avg_claim_amount\"),\n",
    "    avg(\"fraud_risk_score\").alias(\"avg_fraud_score\")\n",
    ").orderBy(\"avg_fraud_score\", ascending=False)\n",
    "\n",
    "fraud_risk_dist.show()\n",
    "\n",
    "# High-risk claims requiring investigation\n",
    "high_risk_claims = fraud_scored_df.filter(\n",
    "    col(\"fraud_risk_category\") == \"High Risk\"\n",
    ").select(\n",
    "    \"claim_id\", \"customer_id\", \"policy_id\", \"claim_amount\", \"claim_date\",\n",
    "    \"fraud_risk_score\", \"fraud_indicator\", \"days_to_settle\"\n",
    ").orderBy(\"fraud_risk_score\", ascending=False)\n",
    "\n",
    "print(f\"\uD83D\uDCCA High-Risk Claims for Investigation: {high_risk_claims.count():,}\")\n",
    "\n",
    "# Fraud impact analysis\n",
    "fraud_impact = fraud_scored_df.groupBy(\"fraud_risk_category\").agg(\n",
    "    sum(\"claim_amount\").alias(\"total_exposure\"),\n",
    "    count(\"*\").alias(\"claim_count\")\n",
    ").withColumn(\n",
    "    \"fraud_exposure_pct\",\n",
    "    col(\"total_exposure\") / fraud_scored_df.agg(sum(\"claim_amount\")).collect()[0][0] * 100\n",
    ")\n",
    "\n",
    "print(\"\uD83D\uDCCA Fraud Exposure Analysis:\")\n",
    "fraud_impact.show()\n",
    "\n",
    "print(\"✅ Fraud detection analysis completed\")"
   ]
  },
  {
   "cell_type": "markdown",
   "metadata": {
    "application/vnd.databricks.v1+cell": {
     "cellMetadata": {},
     "inputWidgets": {},
     "nuid": "04e98e59-dfc4-48ae-9b3a-01ce55e52aa4",
     "showTitle": false,
     "tableResultSettingsMap": {},
     "title": ""
    }
   },
   "source": [
    "### 4.2 Claims Seasonality and Pattern Analysis"
   ]
  },
  {
   "cell_type": "code",
   "execution_count": 0,
   "metadata": {
    "application/vnd.databricks.v1+cell": {
     "cellMetadata": {
      "byteLimit": 2048000,
      "rowLimit": 10000
     },
     "inputWidgets": {},
     "nuid": "4644e57f-fc3a-4c5a-9996-2a785d885fb4",
     "showTitle": false,
     "tableResultSettingsMap": {},
     "title": ""
    }
   },
   "outputs": [
    {
     "output_type": "stream",
     "name": "stdout",
     "output_type": "stream",
     "text": [
      "\uD83D\uDCC5 Analyzing advanced claims patterns...\n\uD83D\uDCCA Seasonal Claims by Risk Category:\n+-------------+-------------+-----------+--------------------+------------------+\n|claim_quarter|risk_category|claim_count|  total_claim_amount|  avg_claim_amount|\n+-------------+-------------+-----------+--------------------+------------------+\n|            1|         High|        751| 7.781817642000006E7| 103619.4093475367|\n|            1|          Low|         35|  2398901.3899999997| 68540.03971428571|\n|            1|       Medium|       1867| 2.498060814299998E8|133800.79348152105|\n|            2|         High|        875| 9.193540543000005E7|105069.03477714292|\n|            2|          Low|         79|1.0363218209999999E7|131179.97734177214|\n|            2|       Medium|       2547| 3.164356665599996E8|124238.58129564176|\n|            3|         High|        593| 5.607175073000002E7| 94556.07205733561|\n|            3|          Low|         26|   5180595.119999999|199253.65846153843|\n|            3|       Medium|       1580| 1.824485081299999E8|115473.73932278475|\n|            4|         High|        622| 5.415661251000003E7| 87068.50885852095|\n|            4|          Low|         15|  510663.49999999994| 34044.23333333333|\n|            4|       Medium|       1653|2.0529522956999996E8| 124195.5411796733|\n+-------------+-------------+-----------+--------------------+------------------+\n\n\uD83D\uDCCA Claims by Day of Week:\n+-----------------+-----------+--------------------+------------------+\n|claim_day_of_week|claim_count|  total_claim_amount|  avg_claim_amount|\n+-----------------+-----------+--------------------+------------------+\n|                1|       1535|1.7875863998000005E8|116455.14005211729|\n|                2|       1498|1.8521057439000008E8|123638.56768357815|\n|                3|       1500| 1.767366235699999E8|117824.41571333326|\n|                4|       1543|1.8561449198999998E8|120294.55086843809|\n|                5|       1503| 1.787192104199999E8|118908.32363273446|\n|                6|       1520|      1.7013536621E8|111931.16198026316|\n|                7|       1544|1.7724590244000018E8|114796.56893782395|\n+-----------------+-----------+--------------------+------------------+\n\n\uD83D\uDCCA Claims Analysis by Policy Type and Risk:\n+-----------+-------------+-----------+--------------------+------------------+\n|policy_type|risk_category|claim_count|  total_claim_amount|  avg_claim_amount|\n+-----------+-------------+-----------+--------------------+------------------+\n|       Life|       Medium|       1591| 7.572896082600015E8|475983.41185418074|\n|       Life|         High|        547|2.1443443099999997E8|392019.06946983543|\n|       Home|       Medium|       2023|1.0114795390000015E8| 49998.98858131495|\n|       Auto|       Medium|       2162|  4.30774982999999E7|19924.837326549445|\n|     Health|       Medium|       1181|       4.159582263E7| 35220.84896697714|\n|       Home|         High|        628|2.6037263699999996E7| 41460.61098726114|\n|       Auto|         High|        937|1.9089898100000013E7|20373.423799359673|\n|     Health|         High|        458|1.7175178020000003E7| 37500.38868995634|\n|       Life|          Low|         30|1.4667965490000002E7| 488932.1830000001|\n|   Business|       Medium|        350|          7933325.19|        22666.6434|\n|     Travel|       Medium|        340|  2941277.4100000006| 8650.815911764708|\n|       Home|          Low|         51|  2397654.3000000003| 47012.82941176471|\n|   Business|         High|        120|  2034401.9800000007|16953.349833333337|\n|     Travel|         High|        151|  1210772.2899999998|  8018.35953642384|\n|       Auto|          Low|         43|           709061.52|16489.802790697675|\n|     Health|          Low|         13|  479264.80000000005|36866.523076923084|\n|   Business|          Low|          8|           137402.98|        17175.3725|\n|     Travel|          Low|         10|  62029.130000000005|6202.9130000000005|\n+-----------+-------------+-----------+--------------------+------------------+\n\n✅ Advanced claims pattern analysis completed\n"
     ]
    }
   ],
   "source": [
    "print(\"\uD83D\uDCC5 Analyzing advanced claims patterns...\")\n",
    "\n",
    "# BUSINESS CONTEXT: Seasonal patterns help predict claim volumes and resource planning\n",
    "# Day-of-week patterns may indicate fraudulent behavior or operational issues\n",
    "\n",
    "# TODO: Analyze comprehensive claims patterns\n",
    "# \n",
    "# Step 1: Add temporal components to claims data\n",
    "# TODO: Add claim_month column using month(claim_date)\n",
    "# TODO: Add claim_quarter column using quarter(claim_date)\n",
    "# TODO: Add claim_day_of_week column using dayofweek(claim_date)\n",
    "# \n",
    "# Step 2: Join with customer risk data\n",
    "# TODO: Join claims_df with clpv_df on customer_id\n",
    "# TODO: Select customer_id, risk_category, clpv_segment for analysis\n",
    "# \n",
    "# Step 3: Analyze seasonal claims by risk category\n",
    "# TODO: Group by claim_quarter and risk_category, calculate:\n",
    "#       - count(claim_id) as claim_count\n",
    "#       - sum(claim_amount) as total_claim_amount\n",
    "#       - avg(claim_amount) as avg_claim_amount\n",
    "# TODO: Order by claim_quarter and risk_category, display results\n",
    "# \n",
    "# Step 4: Analyze claims by day of week\n",
    "# TODO: Group by claim_day_of_week, calculate:\n",
    "#       - count(claim_id) as claim_count\n",
    "#       - sum(claim_amount) as total_claim_amount\n",
    "#       - avg(claim_amount) as avg_claim_amount\n",
    "# TODO: Order by claim_day_of_week and display results\n",
    "# \n",
    "# Step 5: Analyze policy type claims patterns\n",
    "# TODO: Join with policies_df on policy_id to get policy_type\n",
    "# TODO: Group by policy_type and risk_category, calculate:\n",
    "#       - count(claim_id) as claim_count\n",
    "#       - sum(claim_amount) as total_claim_amount\n",
    "#       - avg(claim_amount) as avg_claim_amount\n",
    "# TODO: Order by total_claim_amount descending and display results\n",
    "#\n",
    "# EXPECTED OUTPUT: Comprehensive claims pattern analysis showing seasonal and operational trends\n",
    "# Target: Identify peak claim periods, unusual day-of-week patterns, high-risk policy types\n",
    "\n",
    "# Claims pattern analysis with customer risk integration\n",
    "claims_patterns_df = claims_df.withColumn(\n",
    "    \"claim_month\", month(\"claim_date\")\n",
    ").withColumn(\n",
    "    \"claim_quarter\", quarter(\"claim_date\")\n",
    ").withColumn(\n",
    "    \"claim_day_of_week\", dayofweek(\"claim_date\")\n",
    ").join(\n",
    "    clpv_df.select(\"customer_id\", \"risk_category\", \"clpv_segment\"),\n",
    "    \"customer_id\"\n",
    ")\n",
    "\n",
    "# Seasonal claims by risk category\n",
    "seasonal_risk_claims = claims_patterns_df.groupBy(\"claim_quarter\", \"risk_category\").agg(\n",
    "    count(\"claim_id\").alias(\"claim_count\"),\n",
    "    sum(\"claim_amount\").alias(\"total_claim_amount\"),\n",
    "    avg(\"claim_amount\").alias(\"avg_claim_amount\")\n",
    ").orderBy(\"claim_quarter\", \"risk_category\")\n",
    "\n",
    "print(\"\uD83D\uDCCA Seasonal Claims by Risk Category:\")\n",
    "seasonal_risk_claims.show()\n",
    "\n",
    "# Claims by day of week (might indicate fraud patterns)\n",
    "dow_claims = claims_patterns_df.groupBy(\"claim_day_of_week\").agg(\n",
    "    count(\"claim_id\").alias(\"claim_count\"),\n",
    "    sum(\"claim_amount\").alias(\"total_claim_amount\"),\n",
    "    avg(\"claim_amount\").alias(\"avg_claim_amount\")\n",
    ").orderBy(\"claim_day_of_week\")\n",
    "\n",
    "print(\"\uD83D\uDCCA Claims by Day of Week:\")\n",
    "dow_claims.show()\n",
    "\n",
    "# Policy type claims analysis\n",
    "policy_claims_analysis = claims_patterns_df.join(\n",
    "    policies_df.select(\"policy_id\", \"policy_type\"),\n",
    "    \"policy_id\"\n",
    ").groupBy(\"policy_type\", \"risk_category\").agg(\n",
    "    count(\"claim_id\").alias(\"claim_count\"),\n",
    "    sum(\"claim_amount\").alias(\"total_claim_amount\"),\n",
    "    avg(\"claim_amount\").alias(\"avg_claim_amount\")\n",
    ").orderBy(\"total_claim_amount\", ascending=False)\n",
    "\n",
    "print(\"\uD83D\uDCCA Claims Analysis by Policy Type and Risk:\")\n",
    "policy_claims_analysis.show()\n",
    "\n",
    "print(\"✅ Advanced claims pattern analysis completed\")"
   ]
  },
  {
   "cell_type": "markdown",
   "metadata": {
    "application/vnd.databricks.v1+cell": {
     "cellMetadata": {},
     "inputWidgets": {},
     "nuid": "0d76973d-754e-4193-b6d9-285380c53814",
     "showTitle": false,
     "tableResultSettingsMap": {},
     "title": ""
    }
   },
   "source": [
    "## 5. Save Advanced Analytics Results to Database Tables"
   ]
  },
  {
   "cell_type": "code",
   "execution_count": 0,
   "metadata": {
    "application/vnd.databricks.v1+cell": {
     "cellMetadata": {
      "byteLimit": 2048000,
      "rowLimit": 10000
     },
     "inputWidgets": {},
     "nuid": "fa15d897-b8a2-47f2-b4cc-9179327bdaaa",
     "showTitle": false,
     "tableResultSettingsMap": {},
     "title": ""
    }
   },
   "outputs": [
    {
     "output_type": "stream",
     "name": "stdout",
     "output_type": "stream",
     "text": [
      "\uD83D\uDCBE Saving advanced analytics results to database tables...\n✅ Saved customer_clpv_analysis table: 15,000 records\n✅ Saved customer_renewal_analysis table: 75,000 records\n✅ Saved at_risk_customers table: 1,509 records\n✅ Saved pricing_optimization_recommendations table: 10 records\n✅ Saved fraud_detection_analysis table: 10,643 records\n✅ Saved seasonal_claims_patterns table: 12 records\n✅ Saved policy_claims_analysis table: 18 records\n\n\uD83C\uDFAF All advanced analytics tables saved successfully!\n"
     ]
    }
   ],
   "source": [
    "print(\"\uD83D\uDCBE Saving advanced analytics results to database tables...\")\n",
    "\n",
    "# BUSINESS CONTEXT: Persistent storage enables reliable pipeline execution and Power BI integration\n",
    "# All advanced analytics results must be saved for executive dashboard consumption\n",
    "\n",
    "# TODO: Save all advanced analytics results to database tables\n",
    "# \n",
    "# Step 1: Save CLPV Analysis Results\n",
    "# TODO: Select key columns from clpv_df for CLPV analysis:\n",
    "#       - customer_id, customer_tenure_years, annualized_premium, retention_probability,\n",
    "#       - adjusted_retention_probability, expected_lifetime_years, risk_premium_multiplier,\n",
    "#       - predicted_annual_premium, customer_lifetime_premium_value, clpv_segment,\n",
    "#       - satisfaction_adjustment, payment_reliability_adjustment, avg_satisfaction_score,\n",
    "#       - satisfaction_resolution_rate\n",
    "# TODO: Save as table \"insurance_analytics.customer_clpv_analysis\" using overwrite mode\n",
    "# TODO: Print success message with record count\n",
    "# \n",
    "# Step 2: Save Renewal Analysis Results\n",
    "# TODO: Select key columns from renewal_scored_df for renewal analysis:\n",
    "#       - customer_id, policy_id, policy_type, premium_amount, days_to_renewal,\n",
    "#       - renewal_probability_score, renewal_risk_category, base_renewal_probability,\n",
    "#       - tenure_adjustment, policy_count_adjustment, claims_adjustment, policy_age_years, policy_status\n",
    "# TODO: Save as table \"insurance_analytics.customer_renewal_analysis\" using overwrite mode\n",
    "# TODO: Print success message with record count\n",
    "# \n",
    "# Step 3: Save At-Risk Customers\n",
    "# TODO: Save at_risk_customers as table \"insurance_analytics.at_risk_customers\" using overwrite mode\n",
    "# TODO: Print success message with record count\n",
    "# \n",
    "# Step 4: Save Pricing Optimization Results\n",
    "# TODO: Select key columns from segment_pricing_strategy for pricing optimization:\n",
    "#       - clpv_segment, risk_category, customer_count, current_avg_premium,\n",
    "#       - recommended_premium, avg_clpv, avg_retention_prob, pricing_strategy\n",
    "# TODO: Save as table \"insurance_analytics.pricing_optimization_recommendations\" using overwrite mode\n",
    "# TODO: Print success message with record count\n",
    "# \n",
    "# Step 5: Save Fraud Detection Results\n",
    "# TODO: Select key columns from fraud_scored_df for fraud detection:\n",
    "#       - claim_id, customer_id, policy_id, claim_amount, claim_date,\n",
    "#       - fraud_risk_score, fraud_risk_category, fraud_indicator, days_to_settle, claim_amount_zscore\n",
    "# TODO: Save as table \"insurance_analytics.fraud_detection_analysis\" using overwrite mode\n",
    "# TODO: Print success message with record count\n",
    "# \n",
    "# Step 6: Save Claims Pattern Analysis\n",
    "# TODO: Save seasonal_risk_claims as table \"insurance_analytics.seasonal_claims_patterns\" using overwrite mode\n",
    "# TODO: Save policy_claims_analysis as table \"insurance_analytics.policy_claims_analysis\" using overwrite mode\n",
    "# TODO: Print success messages with record counts\n",
    "#\n",
    "# EXPECTED OUTPUT: All 7 analytics tables saved to database successfully\n",
    "# Target: Tables ready for Notebook 3 executive dashboard creation\n",
    "\n",
    "# Save CLPV Analysis Results\n",
    "clpv_analysis_table = clpv_df.select(\n",
    "    \"customer_id\",\n",
    "    \"customer_tenure_years\",\n",
    "    \"annualized_premium\",\n",
    "    \"retention_probability\",\n",
    "    \"adjusted_retention_probability\",\n",
    "    \"expected_lifetime_years\",\n",
    "    \"risk_premium_multiplier\",\n",
    "    \"predicted_annual_premium\",\n",
    "    \"customer_lifetime_premium_value\",\n",
    "    \"clpv_segment\",\n",
    "    \"satisfaction_adjustment\",\n",
    "    \"payment_reliability_adjustment\",\n",
    "    \"avg_satisfaction_score\",\n",
    "    \"satisfaction_resolution_rate\"\n",
    ")\n",
    "\n",
    "clpv_analysis_table.write.mode(\"overwrite\").saveAsTable(f\"{DATABASE_NAME}.customer_clpv_analysis\")\n",
    "print(f\"✅ Saved customer_clpv_analysis table: {clpv_analysis_table.count():,} records\")\n",
    "\n",
    "# Save Renewal Analysis Results\n",
    "renewal_analysis_table = renewal_scored_df.select(\n",
    "    \"customer_id\",\n",
    "    \"policy_id\",\n",
    "    \"policy_type\",\n",
    "    \"premium_amount\",\n",
    "    \"days_to_renewal\",\n",
    "    \"renewal_probability_score\",\n",
    "    \"renewal_risk_category\",\n",
    "    \"base_renewal_probability\",\n",
    "    \"tenure_adjustment\",\n",
    "    \"policy_count_adjustment\",\n",
    "    \"claims_adjustment\",\n",
    "    \"policy_age_years\",\n",
    "    \"policy_status\"\n",
    ")\n",
    "\n",
    "renewal_analysis_table.write.mode(\"overwrite\").saveAsTable(f\"{DATABASE_NAME}.customer_renewal_analysis\")\n",
    "print(f\"✅ Saved customer_renewal_analysis table: {renewal_analysis_table.count():,} records\")\n",
    "\n",
    "# Save At-Risk Customers\n",
    "at_risk_customers.write.mode(\"overwrite\").saveAsTable(f\"{DATABASE_NAME}.at_risk_customers\")\n",
    "print(f\"✅ Saved at_risk_customers table: {at_risk_customers.count():,} records\")\n",
    "\n",
    "# Save Pricing Optimization Results\n",
    "pricing_optimization_table = segment_pricing_strategy.select(\n",
    "    \"clpv_segment\",\n",
    "    \"risk_category\",\n",
    "    \"customer_count\",\n",
    "    \"current_avg_premium\",\n",
    "    \"recommended_premium\",\n",
    "    \"avg_clpv\",\n",
    "    \"avg_retention_prob\",\n",
    "    \"pricing_strategy\"\n",
    ")\n",
    "\n",
    "pricing_optimization_table.write.mode(\"overwrite\").saveAsTable(f\"{DATABASE_NAME}.pricing_optimization_recommendations\")\n",
    "print(f\"✅ Saved pricing_optimization_recommendations table: {pricing_optimization_table.count():,} records\")\n",
    "\n",
    "# Save Fraud Detection Results\n",
    "fraud_detection_table = fraud_scored_df.select(\n",
    "    \"claim_id\",\n",
    "    \"customer_id\",\n",
    "    \"policy_id\",\n",
    "    \"claim_amount\",\n",
    "    \"claim_date\",\n",
    "    \"fraud_risk_score\",\n",
    "    \"fraud_risk_category\",\n",
    "    \"fraud_indicator\",\n",
    "    \"days_to_settle\",\n",
    "    \"claim_amount_zscore\"\n",
    ")\n",
    "\n",
    "fraud_detection_table.write.mode(\"overwrite\").saveAsTable(f\"{DATABASE_NAME}.fraud_detection_analysis\")\n",
    "print(f\"✅ Saved fraud_detection_analysis table: {fraud_detection_table.count():,} records\")\n",
    "\n",
    "# Save Claims Pattern Analysis\n",
    "claims_patterns_table = seasonal_risk_claims.select(\n",
    "    \"claim_quarter\",\n",
    "    \"risk_category\",\n",
    "    \"claim_count\",\n",
    "    \"total_claim_amount\",\n",
    "    \"avg_claim_amount\"\n",
    ")\n",
    "\n",
    "claims_patterns_table.write.mode(\"overwrite\").saveAsTable(f\"{DATABASE_NAME}.seasonal_claims_patterns\")\n",
    "print(f\"✅ Saved seasonal_claims_patterns table: {claims_patterns_table.count():,} records\")\n",
    "\n",
    "# Save Policy Claims Analysis\n",
    "policy_claims_analysis.write.mode(\"overwrite\").saveAsTable(f\"{DATABASE_NAME}.policy_claims_analysis\")\n",
    "print(f\"✅ Saved policy_claims_analysis table: {policy_claims_analysis.count():,} records\")\n",
    "\n",
    "print(\"\\n\uD83C\uDFAF All advanced analytics tables saved successfully!\")"
   ]
  },
  {
   "cell_type": "markdown",
   "metadata": {
    "application/vnd.databricks.v1+cell": {
     "cellMetadata": {},
     "inputWidgets": {},
     "nuid": "8b39c911-2de1-4639-8194-2f0f2c8a82b4",
     "showTitle": false,
     "tableResultSettingsMap": {},
     "title": ""
    }
   },
   "source": [
    "## 6. Advanced Analytics Business Insights Summary"
   ]
  },
  {
   "cell_type": "code",
   "execution_count": 0,
   "metadata": {
    "application/vnd.databricks.v1+cell": {
     "cellMetadata": {
      "byteLimit": 2048000,
      "rowLimit": 10000
     },
     "inputWidgets": {},
     "nuid": "bf77427a-f23c-41f3-923a-5c068ca4589b",
     "showTitle": false,
     "tableResultSettingsMap": {},
     "title": ""
    }
   },
   "outputs": [
    {
     "output_type": "stream",
     "name": "stdout",
     "output_type": "stream",
     "text": [
      "\uD83C\uDFAF ADVANCED ANALYTICS BUSINESS INSIGHTS\n======================================================================\n\uD83D\uDCB0 CUSTOMER LIFETIME PREMIUM VALUE (CLPV) INSIGHTS:\n   Total Portfolio CLPV: $1,082,535,431.97\n   Average CLPV per Customer: $72,169.03\n   Low Value: 8,754 customers (58.4%) - Avg CLPV: $10,627.77\n   High Value: 2,917 customers (19.4%) - Avg CLPV: $289,716.89\n   Medium Value: 3,328 customers (22.2%) - Avg CLPV: $40,842.84\n   Premium: 1 customers (0.0%) - Avg CLPV: $8,470,824.86\n\n\uD83D\uDD04 RENEWAL PREDICTION INSIGHTS:\n   Customers at Risk of Non-Renewal: 1,509 (10.1%)\n   Total Premium at Risk: $9,613,655.12\n\n\uD83D\uDCB2 PRICING OPTIMIZATION INSIGHTS:\n   Potential Annual Revenue Impact: $-10,104,200.30\n\n\uD83D\uDD0D FRAUD DETECTION INSIGHTS:\n   High-Risk Claims Requiring Investigation: 661\n   Fraud Investigation Rate: 6.2% of total claims\n\n\uD83D\uDCCA BUSINESS IMPACT SUMMARY:\n   Customer Portfolio Value: $1,082,535,431.97\n   Revenue Optimization Potential: $-10,104,200.30\n   Premium at Risk from Churn: $9,613,655.12\n   Fraud Investigation Priority: 661 claims\n\n\uD83D\uDCCA DATABASE TABLES CREATED FOR EXECUTIVE DASHBOARD:\n   ✅ customer_clpv_analysis - Customer lifetime value calculations\n   ✅ customer_renewal_analysis - Renewal probability predictions\n   ✅ at_risk_customers - Priority retention targets\n   ✅ pricing_optimization_recommendations - Revenue optimization strategies\n   ✅ fraud_detection_analysis - Claims requiring investigation\n   ✅ seasonal_claims_patterns - Seasonal trend analysis\n   ✅ policy_claims_analysis - Policy type performance\n\n\uD83D\uDE80 READY FOR NOTEBOOK 3: EXECUTIVE DASHBOARD CREATION\n======================================================================\n"
     ]
    }
   ],
   "source": [
    "print(\"\uD83C\uDFAF ADVANCED ANALYTICS BUSINESS INSIGHTS\")\n",
    "print(\"=\" * 70)\n",
    "\n",
    "# BUSINESS CONTEXT: Executive summary demonstrates business value of analytics investment\n",
    "# Key metrics and insights enable data-driven strategic decisions\n",
    "\n",
    "# TODO: Generate comprehensive business insights summary\n",
    "# \n",
    "# Step 1: Calculate portfolio-level CLPV metrics\n",
    "# TODO: Calculate total_customers using clpv_df.count()\n",
    "# TODO: Calculate total_clpv using sum(customer_lifetime_premium_value)\n",
    "# TODO: Calculate avg_clpv as total_clpv / total_customers\n",
    "# TODO: Print formatted CLPV insights\n",
    "# \n",
    "# Step 2: Analyze CLPV by customer segments\n",
    "# TODO: Group clpv_df by clpv_segment and calculate:\n",
    "#       - count(*) as count\n",
    "#       - avg(customer_lifetime_premium_value) as avg_clpv\n",
    "# TODO: Use collect() to iterate through results and print segment analysis\n",
    "# \n",
    "# Step 3: Calculate renewal and retention insights\n",
    "# TODO: Calculate at_risk_count using at_risk_customers.count()\n",
    "# TODO: Calculate at_risk_pct as (at_risk_count / total_customers) * 100\n",
    "# TODO: Calculate total_premium_at_risk using sum(premium_amount) from at_risk_customers\n",
    "# TODO: Print formatted renewal insights\n",
    "# \n",
    "# Step 4: Calculate pricing optimization insights\n",
    "# TODO: Use total_revenue_impact calculated earlier\n",
    "# TODO: Print formatted pricing insights\n",
    "# \n",
    "# Step 5: Calculate fraud detection insights\n",
    "# TODO: Calculate high_risk_fraud_count using filter on fraud_scored_df\n",
    "# TODO: Calculate total_claims_count using fraud_scored_df.count()\n",
    "# TODO: Calculate fraud_rate as (high_risk_fraud_count / total_claims_count) * 100\n",
    "# TODO: Print formatted fraud insights\n",
    "# \n",
    "# Step 6: Print business impact summary\n",
    "# TODO: Calculate total business impact and print comprehensive summary\n",
    "# TODO: List all database tables created for executive dashboard\n",
    "# TODO: Print next steps for Notebook 3\n",
    "#\n",
    "# EXPECTED OUTPUT: Comprehensive business insights with quantified impact\n",
    "# Target: Clear ROI demonstration and strategic recommendations\n",
    "\n",
    "# CLPV Insights\n",
    "total_customers = clpv_df.count()\n",
    "total_clpv = clpv_df.agg(sum(\"customer_lifetime_premium_value\")).collect()[0][0]\n",
    "avg_clpv = total_clpv / total_customers\n",
    "\n",
    "print(\"\uD83D\uDCB0 CUSTOMER LIFETIME PREMIUM VALUE (CLPV) INSIGHTS:\")\n",
    "print(f\"   Total Portfolio CLPV: ${total_clpv:,.2f}\")\n",
    "print(f\"   Average CLPV per Customer: ${avg_clpv:,.2f}\")\n",
    "\n",
    "# CLPV by segment\n",
    "clpv_segments = clpv_df.groupBy(\"clpv_segment\").agg(\n",
    "    count(\"*\").alias(\"count\"),\n",
    "    avg(\"customer_lifetime_premium_value\").alias(\"avg_clpv\")\n",
    ").collect()\n",
    "\n",
    "for row in clpv_segments:\n",
    "    pct = (row['count'] / total_customers) * 100\n",
    "    print(f\"   {row['clpv_segment']}: {row['count']:,} customers ({pct:.1f}%) - Avg CLPV: ${row['avg_clpv']:,.2f}\")\n",
    "\n",
    "# Renewal Insights\n",
    "at_risk_count = at_risk_customers.count()\n",
    "at_risk_pct = (at_risk_count / total_customers) * 100\n",
    "print(f\"\\n\uD83D\uDD04 RENEWAL PREDICTION INSIGHTS:\")\n",
    "print(f\"   Customers at Risk of Non-Renewal: {at_risk_count:,} ({at_risk_pct:.1f}%)\")\n",
    "print(f\"   Total Premium at Risk: ${total_premium_at_risk:,.2f}\")\n",
    "\n",
    "# Pricing Insights\n",
    "print(f\"\\n\uD83D\uDCB2 PRICING OPTIMIZATION INSIGHTS:\")\n",
    "print(f\"   Potential Annual Revenue Impact: ${total_revenue_impact:,.2f}\")\n",
    "\n",
    "# Fraud Insights\n",
    "high_risk_fraud_count = fraud_scored_df.filter(col(\"fraud_risk_category\") == \"High Risk\").count()\n",
    "total_claims_count = fraud_scored_df.count()\n",
    "fraud_rate = (high_risk_fraud_count / total_claims_count) * 100\n",
    "\n",
    "print(f\"\\n\uD83D\uDD0D FRAUD DETECTION INSIGHTS:\")\n",
    "print(f\"   High-Risk Claims Requiring Investigation: {high_risk_fraud_count:,}\")\n",
    "print(f\"   Fraud Investigation Rate: {fraud_rate:.1f}% of total claims\")\n",
    "\n",
    "# Business Impact Summary\n",
    "print(f\"\\n\uD83D\uDCCA BUSINESS IMPACT SUMMARY:\")\n",
    "print(f\"   Customer Portfolio Value: ${total_clpv:,.2f}\")\n",
    "print(f\"   Revenue Optimization Potential: ${total_revenue_impact:,.2f}\")\n",
    "print(f\"   Premium at Risk from Churn: ${total_premium_at_risk:,.2f}\")\n",
    "print(f\"   Fraud Investigation Priority: {high_risk_fraud_count:,} claims\")\n",
    "\n",
    "print(\"\\n\uD83D\uDCCA DATABASE TABLES CREATED FOR EXECUTIVE DASHBOARD:\")\n",
    "print(\"   ✅ customer_clpv_analysis - Customer lifetime value calculations\")\n",
    "print(\"   ✅ customer_renewal_analysis - Renewal probability predictions\")\n",
    "print(\"   ✅ at_risk_customers - Priority retention targets\")\n",
    "print(\"   ✅ pricing_optimization_recommendations - Revenue optimization strategies\")\n",
    "print(\"   ✅ fraud_detection_analysis - Claims requiring investigation\")\n",
    "print(\"   ✅ seasonal_claims_patterns - Seasonal trend analysis\")\n",
    "print(\"   ✅ policy_claims_analysis - Policy type performance\")\n",
    "\n",
    "print(\"\\n\uD83D\uDE80 READY FOR NOTEBOOK 3: EXECUTIVE DASHBOARD CREATION\")\n",
    "print(\"=\" * 70)"
   ]
  },
  {
   "cell_type": "markdown",
   "metadata": {
    "application/vnd.databricks.v1+cell": {
     "cellMetadata": {},
     "inputWidgets": {},
     "nuid": "7bb5ec9c-4183-43d8-bd6a-5c92420e572f",
     "showTitle": false,
     "tableResultSettingsMap": {},
     "title": ""
    }
   },
   "source": [
    "## Summary and Next Steps\n",
    "\n",
    "### ✅ Advanced Analytics Complete:\n",
    "1. **Customer Lifetime Premium Value (CLPV)** - Risk-adjusted calculations with retention probabilities\n",
    "2. **Renewal Prediction** - Probability scoring with at-risk customer identification\n",
    "3. **Pricing Optimization** - Risk-based and segment-specific pricing strategies\n",
    "4. **Fraud Detection** - Advanced pattern analysis with investigation priorities\n",
    "5. **Claims Analytics** - Seasonal patterns and policy type performance\n",
    "6. **Database Integration** - All results persisted for executive dashboard consumption\n",
    "\n",
    "### \uD83C\uDFAF Key Business Outputs:\n",
    "- **Portfolio CLPV**: Comprehensive customer value assessment\n",
    "- **Retention Strategy**: At-risk customers identified with priority scoring\n",
    "- **Revenue Optimization**: Pricing recommendations with quantified impact\n",
    "- **Risk Management**: Fraud detection with investigation priorities\n",
    "- **Performance Analytics**: Seasonal trends and policy type insights\n",
    "\n",
    "### \uD83D\uDDC4️ Database Tables for Executive Dashboard:\n",
    "- `customer_clpv_analysis` - Customer lifetime value calculations\n",
    "- `customer_renewal_analysis` - Renewal probability predictions  \n",
    "- `at_risk_customers` - Priority retention targets\n",
    "- `pricing_optimization_recommendations` - Revenue optimization strategies\n",
    "- `fraud_detection_analysis` - Claims requiring investigation\n",
    "- `seasonal_claims_patterns` - Seasonal trend analysis\n",
    "- `policy_claims_analysis` - Policy type performance metrics\n",
    "\n",
    "### \uD83D\uDE80 Next Steps:\n",
    "- **Notebook 3**: Create executive dashboard using all accumulated analytics\n",
    "- **Notebook 3**: Generate strategic business recommendations\n",
    "- **Notebook 3**: Prepare executive KPIs and action items\n",
    "- **Power BI**: Connect to all analytics tables for comprehensive visualization\n",
    "\n",
    "### \uD83D\uDCA1 Business Value:\n",
    "This advanced analytics provides SecureLife Insurance with sophisticated customer intelligence, enabling data-driven decisions for customer retention, revenue optimization, and risk management. The predictive models and comprehensive segmentation support strategic business planning and operational excellence."
   ]
  }
 ],
 "metadata": {
  "application/vnd.databricks.v1+notebook": {
   "computePreferences": null,
   "dashboards": [],
   "environmentMetadata": null,
   "inputWidgetPreferences": null,
   "language": "python",
   "notebookMetadata": {
    "pythonIndentUnit": 4
   },
   "notebookName": "nbk_2_clpv_retention_student",
   "widgets": {}
  },
  "language_info": {
   "name": "python"
  }
 },
 "nbformat": 4,
 "nbformat_minor": 0
}